{
 "cells": [
  {
   "cell_type": "markdown",
   "id": "5843678a",
   "metadata": {},
   "source": [
    "**GLOBAL COUNTRY DATASET EDA (Exploratory Data Analysis)**\n",
    "\n",
    "\n",
    "Diharapkan EDA kami dapat membantu dalam mengidentifikasi tren, pola, anomali, dan relasi antar variabel yang terdapat dataset dan juga memberikan wawasan lebih mengenai data terkait untuk membimbing pengambilan keputusan analisis selanjutnya.\n"
   ]
  },
  {
   "cell_type": "code",
   "execution_count": 57,
   "id": "7f38d10b",
   "metadata": {},
   "outputs": [
    {
     "data": {
      "text/html": [
       "<style>\n",
       "div #notebook {\n",
       "background-color: white;\n",
       "line-height: 20px;\n",
       "}\n",
       "\n",
       "#notebook-container {\n",
       "width: 95%;\n",
       "margin-top: 2em;\n",
       "padding-top: 2em;\n",
       "border-top: 4px solid #FFFFFF;\n",
       "-webkit-box-shadow: 0px 0px 8px 2px rgba(224, 212, 226, 0.5);\n",
       "    box-shadow: 0px 0px 8px 2px rgba(224, 212, 226, 0.5);\n",
       "}\n",
       "\n",
       "div .input {\n",
       "margin-bottom: 1em;\n",
       "}\n",
       "\n",
       ".rendered_html h1, .rendered_html h2, .rendered_html h3, .rendered_html h4, .rendered_html h5, .rendered_html h6 {\n",
       "color: #FFFFFF;\n",
       "font-weight: 600;\n",
       "}\n",
       "\n",
       "div.input_area {\n",
       "border: none;\n",
       "    background-color: rgba(255, 255, 255, 0.1);\n",
       "    border-top: 2px solid #FFFFFF;\n",
       "}\n",
       "\n",
       "div.input_prompt {\n",
       "color: #FFFFFF;\n",
       "}\n",
       "\n",
       "div.output_prompt {\n",
       "color: #FF5733; \n",
       "}\n",
       "\n",
       "div.cell.selected:before, div.cell.selected.jupyter-soft-selected:before {\n",
       "background: #FFFFFF;\n",
       "}\n",
       "\n",
       "div.cell.selected, div.cell.selected.jupyter-soft-selected {\n",
       "    border-color: #FFFFFF;\n",
       "}\n",
       "\n",
       ".edit_mode div.cell.selected:before {\n",
       "background: #FFFFFF;\n",
       "}\n",
       "\n",
       ".edit_mode div.cell.selected {\n",
       "border-color: #FFFFFF;\n",
       "\n",
       "}\n",
       "</style>"
      ],
      "text/plain": [
       "<IPython.core.display.HTML object>"
      ]
     },
     "execution_count": 57,
     "metadata": {},
     "output_type": "execute_result"
    }
   ],
   "source": [
    "from IPython import display\n",
    "\n",
    "color_map = ['#FFFFFF', '#FF5733']\n",
    "\n",
    "prompt = color_map[-1]\n",
    "main_color = color_map[0]\n",
    "strong_main_color = color_map[1]\n",
    "custom_colors = [strong_main_color, main_color]\n",
    "\n",
    "css_file = '''\n",
    "div #notebook {\n",
    "background-color: white;\n",
    "line-height: 20px;\n",
    "}\n",
    "\n",
    "#notebook-container {\n",
    "%s\n",
    "margin-top: 2em;\n",
    "padding-top: 2em;\n",
    "border-top: 4px solid %s;\n",
    "-webkit-box-shadow: 0px 0px 8px 2px rgba(224, 212, 226, 0.5);\n",
    "    box-shadow: 0px 0px 8px 2px rgba(224, 212, 226, 0.5);\n",
    "}\n",
    "\n",
    "div .input {\n",
    "margin-bottom: 1em;\n",
    "}\n",
    "\n",
    ".rendered_html h1, .rendered_html h2, .rendered_html h3, .rendered_html h4, .rendered_html h5, .rendered_html h6 {\n",
    "color: %s;\n",
    "font-weight: 600;\n",
    "}\n",
    "\n",
    "div.input_area {\n",
    "border: none;\n",
    "    background-color: %s;\n",
    "    border-top: 2px solid %s;\n",
    "}\n",
    "\n",
    "div.input_prompt {\n",
    "color: %s;\n",
    "}\n",
    "\n",
    "div.output_prompt {\n",
    "color: %s; \n",
    "}\n",
    "\n",
    "div.cell.selected:before, div.cell.selected.jupyter-soft-selected:before {\n",
    "background: %s;\n",
    "}\n",
    "\n",
    "div.cell.selected, div.cell.selected.jupyter-soft-selected {\n",
    "    border-color: %s;\n",
    "}\n",
    "\n",
    ".edit_mode div.cell.selected:before {\n",
    "background: %s;\n",
    "}\n",
    "\n",
    ".edit_mode div.cell.selected {\n",
    "border-color: %s;\n",
    "\n",
    "}\n",
    "'''\n",
    "\n",
    "def to_rgb(h): \n",
    "    return tuple(int(h[i:i+2], 16) for i in [0, 2, 4])\n",
    "\n",
    "main_color_rgba = 'rgba(%s, %s, %s, 0.1)' % (to_rgb(main_color[1:]))\n",
    "open('notebook.css', 'w').write(css_file % ('width: 95%;', main_color, main_color, main_color_rgba, \n",
    "                                            main_color,  main_color, prompt, main_color, main_color, \n",
    "                                            main_color, main_color))\n",
    "\n",
    "def nb(): \n",
    "    return display.HTML(\"<style>\" + open(\"notebook.css\", \"r\").read() + \"</style>\")\n",
    "nb()\n"
   ]
  },
  {
   "cell_type": "markdown",
   "id": "63d7a9dc",
   "metadata": {
    "papermill": {
     "duration": 0.00782,
     "end_time": "2023-08-28T11:18:41.287217",
     "exception": false,
     "start_time": "2023-08-28T11:18:41.279397",
     "status": "completed"
    },
    "tags": []
   },
   "source": [
    "<font size=\"+3\" color=\"#fccf03\"><b>1 <span style='color:#4285f4; font-weight:bold'>|</span> Importing Python Libraries </b></font><br><a id=\"1\"></a>\n",
    "- **For Data Processing**: sqlite3, numpy, pandas\n",
    "- **For Data Visualization**: matplotlib, seaborn, plotly"
   ]
  },
  {
   "cell_type": "code",
   "execution_count": 58,
   "id": "f7e03300",
   "metadata": {
    "_cell_guid": "b1076dfc-b9ad-4769-8c92-a6c4dae69d19",
    "_kg_hide-output": true,
    "_uuid": "8f2839f25d086af736a60e9eeb907d3b93b6e0e5",
    "execution": {
     "iopub.execute_input": "2023-08-28T11:18:41.305021Z",
     "iopub.status.busy": "2023-08-28T11:18:41.304628Z",
     "iopub.status.idle": "2023-08-28T11:18:43.538861Z",
     "shell.execute_reply": "2023-08-28T11:18:43.537558Z"
    },
    "papermill": {
     "duration": 2.246109,
     "end_time": "2023-08-28T11:18:43.541492",
     "exception": false,
     "start_time": "2023-08-28T11:18:41.295383",
     "status": "completed"
    },
    "tags": []
   },
   "outputs": [],
   "source": [
    "import numpy as np\n",
    "import pandas as pd\n",
    "import sqlite3\n",
    "import math\n",
    "import matplotlib.pyplot as plt\n",
    "import seaborn as sns\n",
    "import plotly.express as px\n",
    "import plotly.graph_objects as go\n",
    "from plotly.subplots import make_subplots\n",
    "\n",
    "# Menyembunyikan Peringatan\n",
    "import warnings\n",
    "warnings.filterwarnings(\"ignore\")"
   ]
  },
  {
   "cell_type": "markdown",
   "id": "1ed08ee1",
   "metadata": {
    "papermill": {
     "duration": 0.007911,
     "end_time": "2023-08-28T11:18:43.557960",
     "exception": false,
     "start_time": "2023-08-28T11:18:43.550049",
     "status": "completed"
    },
    "tags": []
   },
   "source": [
    "<font size=\"+3\" color=\"#fccf03\"><b>2 <span style='color:#4285f4; font-weight:bold'>|</span> Membaca Dataset </b></font><br><a id=\"1\"></a>"
   ]
  },
  {
   "cell_type": "code",
   "execution_count": 59,
   "id": "e3a78d8f",
   "metadata": {
    "_kg_hide-input": true,
    "_kg_hide-output": true,
    "execution": {
     "iopub.execute_input": "2023-08-28T11:18:43.577538Z",
     "iopub.status.busy": "2023-08-28T11:18:43.577151Z",
     "iopub.status.idle": "2023-08-28T11:18:43.638358Z",
     "shell.execute_reply": "2023-08-28T11:18:43.637447Z"
    },
    "papermill": {
     "duration": 0.073202,
     "end_time": "2023-08-28T11:18:43.640663",
     "exception": false,
     "start_time": "2023-08-28T11:18:43.567461",
     "status": "completed"
    },
    "tags": []
   },
   "outputs": [
    {
     "data": {
      "text/html": [
       "<div>\n",
       "<style scoped>\n",
       "    .dataframe tbody tr th:only-of-type {\n",
       "        vertical-align: middle;\n",
       "    }\n",
       "\n",
       "    .dataframe tbody tr th {\n",
       "        vertical-align: top;\n",
       "    }\n",
       "\n",
       "    .dataframe thead th {\n",
       "        text-align: right;\n",
       "    }\n",
       "</style>\n",
       "<table border=\"1\" class=\"dataframe\">\n",
       "  <thead>\n",
       "    <tr style=\"text-align: right;\">\n",
       "      <th></th>\n",
       "      <th>Country</th>\n",
       "      <th>Density\\n(P/Km2)</th>\n",
       "      <th>Abbreviation</th>\n",
       "      <th>Agricultural Land( %)</th>\n",
       "      <th>Land Area(Km2)</th>\n",
       "      <th>Armed Forces size</th>\n",
       "      <th>Birth Rate</th>\n",
       "      <th>Calling Code</th>\n",
       "      <th>Capital/Major City</th>\n",
       "      <th>Co2-Emissions</th>\n",
       "      <th>...</th>\n",
       "      <th>Out of pocket health expenditure</th>\n",
       "      <th>Physicians per thousand</th>\n",
       "      <th>Population</th>\n",
       "      <th>Population: Labor force participation (%)</th>\n",
       "      <th>Tax revenue (%)</th>\n",
       "      <th>Total tax rate</th>\n",
       "      <th>Unemployment rate</th>\n",
       "      <th>Urban_population</th>\n",
       "      <th>Latitude</th>\n",
       "      <th>Longitude</th>\n",
       "    </tr>\n",
       "  </thead>\n",
       "  <tbody>\n",
       "    <tr>\n",
       "      <th>0</th>\n",
       "      <td>Afghanistan</td>\n",
       "      <td>60</td>\n",
       "      <td>AF</td>\n",
       "      <td>58.10%</td>\n",
       "      <td>652,230</td>\n",
       "      <td>323,000</td>\n",
       "      <td>32.49</td>\n",
       "      <td>93.0</td>\n",
       "      <td>Kabul</td>\n",
       "      <td>8,672</td>\n",
       "      <td>...</td>\n",
       "      <td>78.40%</td>\n",
       "      <td>0.28</td>\n",
       "      <td>38,041,754</td>\n",
       "      <td>48.90%</td>\n",
       "      <td>9.30%</td>\n",
       "      <td>71.40%</td>\n",
       "      <td>11.12%</td>\n",
       "      <td>9,797,273</td>\n",
       "      <td>33.939110</td>\n",
       "      <td>67.709953</td>\n",
       "    </tr>\n",
       "    <tr>\n",
       "      <th>1</th>\n",
       "      <td>Albania</td>\n",
       "      <td>105</td>\n",
       "      <td>AL</td>\n",
       "      <td>43.10%</td>\n",
       "      <td>28,748</td>\n",
       "      <td>9,000</td>\n",
       "      <td>11.78</td>\n",
       "      <td>355.0</td>\n",
       "      <td>Tirana</td>\n",
       "      <td>4,536</td>\n",
       "      <td>...</td>\n",
       "      <td>56.90%</td>\n",
       "      <td>1.20</td>\n",
       "      <td>2,854,191</td>\n",
       "      <td>55.70%</td>\n",
       "      <td>18.60%</td>\n",
       "      <td>36.60%</td>\n",
       "      <td>12.33%</td>\n",
       "      <td>1,747,593</td>\n",
       "      <td>41.153332</td>\n",
       "      <td>20.168331</td>\n",
       "    </tr>\n",
       "    <tr>\n",
       "      <th>2</th>\n",
       "      <td>Algeria</td>\n",
       "      <td>18</td>\n",
       "      <td>DZ</td>\n",
       "      <td>17.40%</td>\n",
       "      <td>2,381,741</td>\n",
       "      <td>317,000</td>\n",
       "      <td>24.28</td>\n",
       "      <td>213.0</td>\n",
       "      <td>Algiers</td>\n",
       "      <td>150,006</td>\n",
       "      <td>...</td>\n",
       "      <td>28.10%</td>\n",
       "      <td>1.72</td>\n",
       "      <td>43,053,054</td>\n",
       "      <td>41.20%</td>\n",
       "      <td>37.20%</td>\n",
       "      <td>66.10%</td>\n",
       "      <td>11.70%</td>\n",
       "      <td>31,510,100</td>\n",
       "      <td>28.033886</td>\n",
       "      <td>1.659626</td>\n",
       "    </tr>\n",
       "    <tr>\n",
       "      <th>3</th>\n",
       "      <td>Andorra</td>\n",
       "      <td>164</td>\n",
       "      <td>AD</td>\n",
       "      <td>40.00%</td>\n",
       "      <td>468</td>\n",
       "      <td>NaN</td>\n",
       "      <td>7.20</td>\n",
       "      <td>376.0</td>\n",
       "      <td>Andorra la Vella</td>\n",
       "      <td>469</td>\n",
       "      <td>...</td>\n",
       "      <td>36.40%</td>\n",
       "      <td>3.33</td>\n",
       "      <td>77,142</td>\n",
       "      <td>NaN</td>\n",
       "      <td>NaN</td>\n",
       "      <td>NaN</td>\n",
       "      <td>NaN</td>\n",
       "      <td>67,873</td>\n",
       "      <td>42.506285</td>\n",
       "      <td>1.521801</td>\n",
       "    </tr>\n",
       "    <tr>\n",
       "      <th>4</th>\n",
       "      <td>Angola</td>\n",
       "      <td>26</td>\n",
       "      <td>AO</td>\n",
       "      <td>47.50%</td>\n",
       "      <td>1,246,700</td>\n",
       "      <td>117,000</td>\n",
       "      <td>40.73</td>\n",
       "      <td>244.0</td>\n",
       "      <td>Luanda</td>\n",
       "      <td>34,693</td>\n",
       "      <td>...</td>\n",
       "      <td>33.40%</td>\n",
       "      <td>0.21</td>\n",
       "      <td>31,825,295</td>\n",
       "      <td>77.50%</td>\n",
       "      <td>9.20%</td>\n",
       "      <td>49.10%</td>\n",
       "      <td>6.89%</td>\n",
       "      <td>21,061,025</td>\n",
       "      <td>-11.202692</td>\n",
       "      <td>17.873887</td>\n",
       "    </tr>\n",
       "    <tr>\n",
       "      <th>...</th>\n",
       "      <td>...</td>\n",
       "      <td>...</td>\n",
       "      <td>...</td>\n",
       "      <td>...</td>\n",
       "      <td>...</td>\n",
       "      <td>...</td>\n",
       "      <td>...</td>\n",
       "      <td>...</td>\n",
       "      <td>...</td>\n",
       "      <td>...</td>\n",
       "      <td>...</td>\n",
       "      <td>...</td>\n",
       "      <td>...</td>\n",
       "      <td>...</td>\n",
       "      <td>...</td>\n",
       "      <td>...</td>\n",
       "      <td>...</td>\n",
       "      <td>...</td>\n",
       "      <td>...</td>\n",
       "      <td>...</td>\n",
       "      <td>...</td>\n",
       "    </tr>\n",
       "    <tr>\n",
       "      <th>190</th>\n",
       "      <td>Venezuela</td>\n",
       "      <td>32</td>\n",
       "      <td>VE</td>\n",
       "      <td>24.50%</td>\n",
       "      <td>912,050</td>\n",
       "      <td>343,000</td>\n",
       "      <td>17.88</td>\n",
       "      <td>58.0</td>\n",
       "      <td>Caracas</td>\n",
       "      <td>164,175</td>\n",
       "      <td>...</td>\n",
       "      <td>45.80%</td>\n",
       "      <td>1.92</td>\n",
       "      <td>28,515,829</td>\n",
       "      <td>59.70%</td>\n",
       "      <td>NaN</td>\n",
       "      <td>73.30%</td>\n",
       "      <td>8.80%</td>\n",
       "      <td>25,162,368</td>\n",
       "      <td>6.423750</td>\n",
       "      <td>-66.589730</td>\n",
       "    </tr>\n",
       "    <tr>\n",
       "      <th>191</th>\n",
       "      <td>Vietnam</td>\n",
       "      <td>314</td>\n",
       "      <td>VN</td>\n",
       "      <td>39.30%</td>\n",
       "      <td>331,210</td>\n",
       "      <td>522,000</td>\n",
       "      <td>16.75</td>\n",
       "      <td>84.0</td>\n",
       "      <td>Hanoi</td>\n",
       "      <td>192,668</td>\n",
       "      <td>...</td>\n",
       "      <td>43.50%</td>\n",
       "      <td>0.82</td>\n",
       "      <td>96,462,106</td>\n",
       "      <td>77.40%</td>\n",
       "      <td>19.10%</td>\n",
       "      <td>37.60%</td>\n",
       "      <td>2.01%</td>\n",
       "      <td>35,332,140</td>\n",
       "      <td>14.058324</td>\n",
       "      <td>108.277199</td>\n",
       "    </tr>\n",
       "    <tr>\n",
       "      <th>192</th>\n",
       "      <td>Yemen</td>\n",
       "      <td>56</td>\n",
       "      <td>YE</td>\n",
       "      <td>44.60%</td>\n",
       "      <td>527,968</td>\n",
       "      <td>40,000</td>\n",
       "      <td>30.45</td>\n",
       "      <td>967.0</td>\n",
       "      <td>Sanaa</td>\n",
       "      <td>10,609</td>\n",
       "      <td>...</td>\n",
       "      <td>81.00%</td>\n",
       "      <td>0.31</td>\n",
       "      <td>29,161,922</td>\n",
       "      <td>38.00%</td>\n",
       "      <td>NaN</td>\n",
       "      <td>26.60%</td>\n",
       "      <td>12.91%</td>\n",
       "      <td>10,869,523</td>\n",
       "      <td>15.552727</td>\n",
       "      <td>48.516388</td>\n",
       "    </tr>\n",
       "    <tr>\n",
       "      <th>193</th>\n",
       "      <td>Zambia</td>\n",
       "      <td>25</td>\n",
       "      <td>ZM</td>\n",
       "      <td>32.10%</td>\n",
       "      <td>752,618</td>\n",
       "      <td>16,000</td>\n",
       "      <td>36.19</td>\n",
       "      <td>260.0</td>\n",
       "      <td>Lusaka</td>\n",
       "      <td>5,141</td>\n",
       "      <td>...</td>\n",
       "      <td>27.50%</td>\n",
       "      <td>1.19</td>\n",
       "      <td>17,861,030</td>\n",
       "      <td>74.60%</td>\n",
       "      <td>16.20%</td>\n",
       "      <td>15.60%</td>\n",
       "      <td>11.43%</td>\n",
       "      <td>7,871,713</td>\n",
       "      <td>-13.133897</td>\n",
       "      <td>27.849332</td>\n",
       "    </tr>\n",
       "    <tr>\n",
       "      <th>194</th>\n",
       "      <td>Zimbabwe</td>\n",
       "      <td>38</td>\n",
       "      <td>ZW</td>\n",
       "      <td>41.90%</td>\n",
       "      <td>390,757</td>\n",
       "      <td>51,000</td>\n",
       "      <td>30.68</td>\n",
       "      <td>263.0</td>\n",
       "      <td>Harare</td>\n",
       "      <td>10,983</td>\n",
       "      <td>...</td>\n",
       "      <td>25.80%</td>\n",
       "      <td>0.21</td>\n",
       "      <td>14,645,468</td>\n",
       "      <td>83.10%</td>\n",
       "      <td>20.70%</td>\n",
       "      <td>31.60%</td>\n",
       "      <td>4.95%</td>\n",
       "      <td>4,717,305</td>\n",
       "      <td>-19.015438</td>\n",
       "      <td>29.154857</td>\n",
       "    </tr>\n",
       "  </tbody>\n",
       "</table>\n",
       "<p>195 rows × 35 columns</p>\n",
       "</div>"
      ],
      "text/plain": [
       "         Country Density\\n(P/Km2) Abbreviation Agricultural Land( %)  \\\n",
       "0    Afghanistan               60           AF                58.10%   \n",
       "1        Albania              105           AL                43.10%   \n",
       "2        Algeria               18           DZ                17.40%   \n",
       "3        Andorra              164           AD                40.00%   \n",
       "4         Angola               26           AO                47.50%   \n",
       "..           ...              ...          ...                   ...   \n",
       "190    Venezuela               32           VE                24.50%   \n",
       "191      Vietnam              314           VN                39.30%   \n",
       "192        Yemen               56           YE                44.60%   \n",
       "193       Zambia               25           ZM                32.10%   \n",
       "194     Zimbabwe               38           ZW                41.90%   \n",
       "\n",
       "    Land Area(Km2) Armed Forces size  Birth Rate  Calling Code  \\\n",
       "0          652,230           323,000       32.49          93.0   \n",
       "1           28,748             9,000       11.78         355.0   \n",
       "2        2,381,741           317,000       24.28         213.0   \n",
       "3              468               NaN        7.20         376.0   \n",
       "4        1,246,700           117,000       40.73         244.0   \n",
       "..             ...               ...         ...           ...   \n",
       "190        912,050           343,000       17.88          58.0   \n",
       "191        331,210           522,000       16.75          84.0   \n",
       "192        527,968            40,000       30.45         967.0   \n",
       "193        752,618            16,000       36.19         260.0   \n",
       "194        390,757            51,000       30.68         263.0   \n",
       "\n",
       "    Capital/Major City Co2-Emissions  ... Out of pocket health expenditure  \\\n",
       "0                Kabul         8,672  ...                           78.40%   \n",
       "1               Tirana         4,536  ...                           56.90%   \n",
       "2              Algiers       150,006  ...                           28.10%   \n",
       "3     Andorra la Vella           469  ...                           36.40%   \n",
       "4               Luanda        34,693  ...                           33.40%   \n",
       "..                 ...           ...  ...                              ...   \n",
       "190            Caracas       164,175  ...                           45.80%   \n",
       "191              Hanoi       192,668  ...                           43.50%   \n",
       "192              Sanaa        10,609  ...                           81.00%   \n",
       "193             Lusaka         5,141  ...                           27.50%   \n",
       "194             Harare        10,983  ...                           25.80%   \n",
       "\n",
       "    Physicians per thousand  Population  \\\n",
       "0                      0.28  38,041,754   \n",
       "1                      1.20   2,854,191   \n",
       "2                      1.72  43,053,054   \n",
       "3                      3.33      77,142   \n",
       "4                      0.21  31,825,295   \n",
       "..                      ...         ...   \n",
       "190                    1.92  28,515,829   \n",
       "191                    0.82  96,462,106   \n",
       "192                    0.31  29,161,922   \n",
       "193                    1.19  17,861,030   \n",
       "194                    0.21  14,645,468   \n",
       "\n",
       "     Population: Labor force participation (%) Tax revenue (%) Total tax rate  \\\n",
       "0                                       48.90%           9.30%         71.40%   \n",
       "1                                       55.70%          18.60%         36.60%   \n",
       "2                                       41.20%          37.20%         66.10%   \n",
       "3                                          NaN             NaN            NaN   \n",
       "4                                       77.50%           9.20%         49.10%   \n",
       "..                                         ...             ...            ...   \n",
       "190                                     59.70%             NaN         73.30%   \n",
       "191                                     77.40%          19.10%         37.60%   \n",
       "192                                     38.00%             NaN         26.60%   \n",
       "193                                     74.60%          16.20%         15.60%   \n",
       "194                                     83.10%          20.70%         31.60%   \n",
       "\n",
       "    Unemployment rate Urban_population   Latitude   Longitude  \n",
       "0              11.12%        9,797,273  33.939110   67.709953  \n",
       "1              12.33%        1,747,593  41.153332   20.168331  \n",
       "2              11.70%       31,510,100  28.033886    1.659626  \n",
       "3                 NaN           67,873  42.506285    1.521801  \n",
       "4               6.89%       21,061,025 -11.202692   17.873887  \n",
       "..                ...              ...        ...         ...  \n",
       "190             8.80%       25,162,368   6.423750  -66.589730  \n",
       "191             2.01%       35,332,140  14.058324  108.277199  \n",
       "192            12.91%       10,869,523  15.552727   48.516388  \n",
       "193            11.43%        7,871,713 -13.133897   27.849332  \n",
       "194             4.95%        4,717,305 -19.015438   29.154857  \n",
       "\n",
       "[195 rows x 35 columns]"
      ]
     },
     "execution_count": 59,
     "metadata": {},
     "output_type": "execute_result"
    }
   ],
   "source": [
    "df= pd.read_csv(\"world-data-2023.csv\")\n",
    "df"
   ]
  },
  {
   "cell_type": "code",
   "execution_count": 60,
   "id": "3fa54b9a",
   "metadata": {
    "execution": {
     "iopub.execute_input": "2023-08-28T11:18:43.659248Z",
     "iopub.status.busy": "2023-08-28T11:18:43.658160Z",
     "iopub.status.idle": "2023-08-28T11:18:43.681357Z",
     "shell.execute_reply": "2023-08-28T11:18:43.680093Z"
    },
    "papermill": {
     "duration": 0.03506,
     "end_time": "2023-08-28T11:18:43.683928",
     "exception": false,
     "start_time": "2023-08-28T11:18:43.648868",
     "status": "completed"
    },
    "tags": []
   },
   "outputs": [
    {
     "data": {
      "text/html": [
       "<div>\n",
       "<style scoped>\n",
       "    .dataframe tbody tr th:only-of-type {\n",
       "        vertical-align: middle;\n",
       "    }\n",
       "\n",
       "    .dataframe tbody tr th {\n",
       "        vertical-align: top;\n",
       "    }\n",
       "\n",
       "    .dataframe thead th {\n",
       "        text-align: right;\n",
       "    }\n",
       "</style>\n",
       "<table border=\"1\" class=\"dataframe\">\n",
       "  <thead>\n",
       "    <tr style=\"text-align: right;\">\n",
       "      <th></th>\n",
       "      <th>64</th>\n",
       "      <th>78</th>\n",
       "      <th>103</th>\n",
       "      <th>133</th>\n",
       "      <th>151</th>\n",
       "      <th>186</th>\n",
       "    </tr>\n",
       "  </thead>\n",
       "  <tbody>\n",
       "    <tr>\n",
       "      <th>Country</th>\n",
       "      <td>Germany</td>\n",
       "      <td>Indonesia</td>\n",
       "      <td>Malaysia</td>\n",
       "      <td>Palestinian National Authority</td>\n",
       "      <td>Saudi Arabia</td>\n",
       "      <td>United States</td>\n",
       "    </tr>\n",
       "    <tr>\n",
       "      <th>Density\\n(P/Km2)</th>\n",
       "      <td>240</td>\n",
       "      <td>151</td>\n",
       "      <td>99</td>\n",
       "      <td>847</td>\n",
       "      <td>16</td>\n",
       "      <td>36</td>\n",
       "    </tr>\n",
       "    <tr>\n",
       "      <th>Abbreviation</th>\n",
       "      <td>DE</td>\n",
       "      <td>ID</td>\n",
       "      <td>MY</td>\n",
       "      <td>NaN</td>\n",
       "      <td>SA</td>\n",
       "      <td>US</td>\n",
       "    </tr>\n",
       "    <tr>\n",
       "      <th>Agricultural Land( %)</th>\n",
       "      <td>47.70%</td>\n",
       "      <td>31.50%</td>\n",
       "      <td>26.30%</td>\n",
       "      <td>NaN</td>\n",
       "      <td>80.80%</td>\n",
       "      <td>44.40%</td>\n",
       "    </tr>\n",
       "    <tr>\n",
       "      <th>Land Area(Km2)</th>\n",
       "      <td>357,022</td>\n",
       "      <td>1,904,569</td>\n",
       "      <td>329,847</td>\n",
       "      <td>NaN</td>\n",
       "      <td>2,149,690</td>\n",
       "      <td>9,833,517</td>\n",
       "    </tr>\n",
       "    <tr>\n",
       "      <th>Armed Forces size</th>\n",
       "      <td>180,000</td>\n",
       "      <td>676,000</td>\n",
       "      <td>136,000</td>\n",
       "      <td>NaN</td>\n",
       "      <td>252,000</td>\n",
       "      <td>1,359,000</td>\n",
       "    </tr>\n",
       "    <tr>\n",
       "      <th>Birth Rate</th>\n",
       "      <td>9.5</td>\n",
       "      <td>18.07</td>\n",
       "      <td>16.75</td>\n",
       "      <td>NaN</td>\n",
       "      <td>17.8</td>\n",
       "      <td>11.6</td>\n",
       "    </tr>\n",
       "    <tr>\n",
       "      <th>Calling Code</th>\n",
       "      <td>49.0</td>\n",
       "      <td>62.0</td>\n",
       "      <td>60.0</td>\n",
       "      <td>NaN</td>\n",
       "      <td>966.0</td>\n",
       "      <td>1.0</td>\n",
       "    </tr>\n",
       "    <tr>\n",
       "      <th>Capital/Major City</th>\n",
       "      <td>Berlin</td>\n",
       "      <td>Jakarta</td>\n",
       "      <td>Kuala Lumpur</td>\n",
       "      <td>NaN</td>\n",
       "      <td>Riyadh</td>\n",
       "      <td>Washington, D.C.</td>\n",
       "    </tr>\n",
       "    <tr>\n",
       "      <th>Co2-Emissions</th>\n",
       "      <td>727,973</td>\n",
       "      <td>563,325</td>\n",
       "      <td>248,289</td>\n",
       "      <td>NaN</td>\n",
       "      <td>563,449</td>\n",
       "      <td>5,006,302</td>\n",
       "    </tr>\n",
       "    <tr>\n",
       "      <th>CPI</th>\n",
       "      <td>112.85</td>\n",
       "      <td>151.18</td>\n",
       "      <td>121.46</td>\n",
       "      <td>NaN</td>\n",
       "      <td>118.4</td>\n",
       "      <td>117.24</td>\n",
       "    </tr>\n",
       "    <tr>\n",
       "      <th>CPI Change (%)</th>\n",
       "      <td>1.40%</td>\n",
       "      <td>3.00%</td>\n",
       "      <td>0.70%</td>\n",
       "      <td>NaN</td>\n",
       "      <td>-1.20%</td>\n",
       "      <td>7.50%</td>\n",
       "    </tr>\n",
       "    <tr>\n",
       "      <th>Currency-Code</th>\n",
       "      <td>EUR</td>\n",
       "      <td>IDR</td>\n",
       "      <td>MYR</td>\n",
       "      <td>NaN</td>\n",
       "      <td>SAR</td>\n",
       "      <td>USD</td>\n",
       "    </tr>\n",
       "    <tr>\n",
       "      <th>Fertility Rate</th>\n",
       "      <td>1.56</td>\n",
       "      <td>2.31</td>\n",
       "      <td>2.0</td>\n",
       "      <td>NaN</td>\n",
       "      <td>2.32</td>\n",
       "      <td>1.73</td>\n",
       "    </tr>\n",
       "    <tr>\n",
       "      <th>Forested Area (%)</th>\n",
       "      <td>32.70%</td>\n",
       "      <td>49.90%</td>\n",
       "      <td>67.60%</td>\n",
       "      <td>NaN</td>\n",
       "      <td>0.50%</td>\n",
       "      <td>33.90%</td>\n",
       "    </tr>\n",
       "    <tr>\n",
       "      <th>Gasoline Price</th>\n",
       "      <td>$1.39</td>\n",
       "      <td>$0.63</td>\n",
       "      <td>$0.45</td>\n",
       "      <td>NaN</td>\n",
       "      <td>$0.24</td>\n",
       "      <td>$0.71</td>\n",
       "    </tr>\n",
       "    <tr>\n",
       "      <th>GDP</th>\n",
       "      <td>$3,845,630,030,824</td>\n",
       "      <td>$1,119,190,780,753</td>\n",
       "      <td>$364,701,517,788</td>\n",
       "      <td>NaN</td>\n",
       "      <td>$792,966,838,162</td>\n",
       "      <td>$21,427,700,000,000</td>\n",
       "    </tr>\n",
       "    <tr>\n",
       "      <th>Gross primary education enrollment (%)</th>\n",
       "      <td>104.00%</td>\n",
       "      <td>106.40%</td>\n",
       "      <td>105.30%</td>\n",
       "      <td>NaN</td>\n",
       "      <td>99.80%</td>\n",
       "      <td>101.80%</td>\n",
       "    </tr>\n",
       "    <tr>\n",
       "      <th>Gross tertiary education enrollment (%)</th>\n",
       "      <td>70.20%</td>\n",
       "      <td>36.30%</td>\n",
       "      <td>45.10%</td>\n",
       "      <td>NaN</td>\n",
       "      <td>68.00%</td>\n",
       "      <td>88.20%</td>\n",
       "    </tr>\n",
       "    <tr>\n",
       "      <th>Infant mortality</th>\n",
       "      <td>3.1</td>\n",
       "      <td>21.1</td>\n",
       "      <td>6.7</td>\n",
       "      <td>NaN</td>\n",
       "      <td>6.0</td>\n",
       "      <td>5.6</td>\n",
       "    </tr>\n",
       "    <tr>\n",
       "      <th>Largest city</th>\n",
       "      <td>Berlin</td>\n",
       "      <td>Kalimantan</td>\n",
       "      <td>Johor Bahru</td>\n",
       "      <td>NaN</td>\n",
       "      <td>Riyadh</td>\n",
       "      <td>New York City</td>\n",
       "    </tr>\n",
       "    <tr>\n",
       "      <th>Life expectancy</th>\n",
       "      <td>80.9</td>\n",
       "      <td>71.5</td>\n",
       "      <td>76.0</td>\n",
       "      <td>NaN</td>\n",
       "      <td>75.0</td>\n",
       "      <td>78.5</td>\n",
       "    </tr>\n",
       "    <tr>\n",
       "      <th>Maternal mortality ratio</th>\n",
       "      <td>7.0</td>\n",
       "      <td>177.0</td>\n",
       "      <td>29.0</td>\n",
       "      <td>NaN</td>\n",
       "      <td>17.0</td>\n",
       "      <td>19.0</td>\n",
       "    </tr>\n",
       "    <tr>\n",
       "      <th>Minimum wage</th>\n",
       "      <td>$9.99</td>\n",
       "      <td>$0.48</td>\n",
       "      <td>$0.93</td>\n",
       "      <td>NaN</td>\n",
       "      <td>$3.85</td>\n",
       "      <td>$7.25</td>\n",
       "    </tr>\n",
       "    <tr>\n",
       "      <th>Official language</th>\n",
       "      <td>German</td>\n",
       "      <td>Indonesian</td>\n",
       "      <td>Malaysian language</td>\n",
       "      <td>Arabic</td>\n",
       "      <td>Arabic</td>\n",
       "      <td>NaN</td>\n",
       "    </tr>\n",
       "    <tr>\n",
       "      <th>Out of pocket health expenditure</th>\n",
       "      <td>12.50%</td>\n",
       "      <td>48.30%</td>\n",
       "      <td>36.70%</td>\n",
       "      <td>NaN</td>\n",
       "      <td>15.00%</td>\n",
       "      <td>11.10%</td>\n",
       "    </tr>\n",
       "    <tr>\n",
       "      <th>Physicians per thousand</th>\n",
       "      <td>4.25</td>\n",
       "      <td>0.43</td>\n",
       "      <td>1.51</td>\n",
       "      <td>NaN</td>\n",
       "      <td>2.61</td>\n",
       "      <td>2.61</td>\n",
       "    </tr>\n",
       "    <tr>\n",
       "      <th>Population</th>\n",
       "      <td>83,132,799</td>\n",
       "      <td>270,203,917</td>\n",
       "      <td>32,447,385</td>\n",
       "      <td>NaN</td>\n",
       "      <td>34,268,528</td>\n",
       "      <td>328,239,523</td>\n",
       "    </tr>\n",
       "    <tr>\n",
       "      <th>Population: Labor force participation (%)</th>\n",
       "      <td>60.80%</td>\n",
       "      <td>67.50%</td>\n",
       "      <td>64.30%</td>\n",
       "      <td>NaN</td>\n",
       "      <td>55.90%</td>\n",
       "      <td>62.00%</td>\n",
       "    </tr>\n",
       "    <tr>\n",
       "      <th>Tax revenue (%)</th>\n",
       "      <td>11.50%</td>\n",
       "      <td>10.20%</td>\n",
       "      <td>12.00%</td>\n",
       "      <td>NaN</td>\n",
       "      <td>8.90%</td>\n",
       "      <td>9.60%</td>\n",
       "    </tr>\n",
       "    <tr>\n",
       "      <th>Total tax rate</th>\n",
       "      <td>48.80%</td>\n",
       "      <td>30.10%</td>\n",
       "      <td>38.70%</td>\n",
       "      <td>NaN</td>\n",
       "      <td>15.70%</td>\n",
       "      <td>36.60%</td>\n",
       "    </tr>\n",
       "    <tr>\n",
       "      <th>Unemployment rate</th>\n",
       "      <td>3.04%</td>\n",
       "      <td>4.69%</td>\n",
       "      <td>3.32%</td>\n",
       "      <td>NaN</td>\n",
       "      <td>5.93%</td>\n",
       "      <td>14.70%</td>\n",
       "    </tr>\n",
       "    <tr>\n",
       "      <th>Urban_population</th>\n",
       "      <td>64,324,835</td>\n",
       "      <td>151,509,724</td>\n",
       "      <td>24,475,766</td>\n",
       "      <td>NaN</td>\n",
       "      <td>28,807,838</td>\n",
       "      <td>270,663,028</td>\n",
       "    </tr>\n",
       "    <tr>\n",
       "      <th>Latitude</th>\n",
       "      <td>51.165691</td>\n",
       "      <td>-0.789275</td>\n",
       "      <td>4.210484</td>\n",
       "      <td>31.952162</td>\n",
       "      <td>23.885942</td>\n",
       "      <td>37.09024</td>\n",
       "    </tr>\n",
       "    <tr>\n",
       "      <th>Longitude</th>\n",
       "      <td>10.451526</td>\n",
       "      <td>113.921327</td>\n",
       "      <td>101.975766</td>\n",
       "      <td>35.233154</td>\n",
       "      <td>45.079162</td>\n",
       "      <td>-95.712891</td>\n",
       "    </tr>\n",
       "  </tbody>\n",
       "</table>\n",
       "</div>"
      ],
      "text/plain": [
       "                                                           64   \\\n",
       "Country                                                Germany   \n",
       "Density\\n(P/Km2)                                           240   \n",
       "Abbreviation                                                DE   \n",
       "Agricultural Land( %)                                   47.70%   \n",
       "Land Area(Km2)                                         357,022   \n",
       "Armed Forces size                                      180,000   \n",
       "Birth Rate                                                 9.5   \n",
       "Calling Code                                              49.0   \n",
       "Capital/Major City                                      Berlin   \n",
       "Co2-Emissions                                          727,973   \n",
       "CPI                                                     112.85   \n",
       "CPI Change (%)                                           1.40%   \n",
       "Currency-Code                                              EUR   \n",
       "Fertility Rate                                            1.56   \n",
       "Forested Area (%)                                       32.70%   \n",
       "Gasoline Price                                          $1.39    \n",
       "GDP                                        $3,845,630,030,824    \n",
       "Gross primary education enrollment (%)                 104.00%   \n",
       "Gross tertiary education enrollment (%)                 70.20%   \n",
       "Infant mortality                                           3.1   \n",
       "Largest city                                            Berlin   \n",
       "Life expectancy                                           80.9   \n",
       "Maternal mortality ratio                                   7.0   \n",
       "Minimum wage                                            $9.99    \n",
       "Official language                                       German   \n",
       "Out of pocket health expenditure                        12.50%   \n",
       "Physicians per thousand                                   4.25   \n",
       "Population                                          83,132,799   \n",
       "Population: Labor force participation (%)               60.80%   \n",
       "Tax revenue (%)                                         11.50%   \n",
       "Total tax rate                                          48.80%   \n",
       "Unemployment rate                                        3.04%   \n",
       "Urban_population                                    64,324,835   \n",
       "Latitude                                             51.165691   \n",
       "Longitude                                            10.451526   \n",
       "\n",
       "                                                           78   \\\n",
       "Country                                              Indonesia   \n",
       "Density\\n(P/Km2)                                           151   \n",
       "Abbreviation                                                ID   \n",
       "Agricultural Land( %)                                   31.50%   \n",
       "Land Area(Km2)                                       1,904,569   \n",
       "Armed Forces size                                      676,000   \n",
       "Birth Rate                                               18.07   \n",
       "Calling Code                                              62.0   \n",
       "Capital/Major City                                     Jakarta   \n",
       "Co2-Emissions                                          563,325   \n",
       "CPI                                                     151.18   \n",
       "CPI Change (%)                                           3.00%   \n",
       "Currency-Code                                              IDR   \n",
       "Fertility Rate                                            2.31   \n",
       "Forested Area (%)                                       49.90%   \n",
       "Gasoline Price                                          $0.63    \n",
       "GDP                                        $1,119,190,780,753    \n",
       "Gross primary education enrollment (%)                 106.40%   \n",
       "Gross tertiary education enrollment (%)                 36.30%   \n",
       "Infant mortality                                          21.1   \n",
       "Largest city                                        Kalimantan   \n",
       "Life expectancy                                           71.5   \n",
       "Maternal mortality ratio                                 177.0   \n",
       "Minimum wage                                            $0.48    \n",
       "Official language                                   Indonesian   \n",
       "Out of pocket health expenditure                        48.30%   \n",
       "Physicians per thousand                                   0.43   \n",
       "Population                                         270,203,917   \n",
       "Population: Labor force participation (%)               67.50%   \n",
       "Tax revenue (%)                                         10.20%   \n",
       "Total tax rate                                          30.10%   \n",
       "Unemployment rate                                        4.69%   \n",
       "Urban_population                                   151,509,724   \n",
       "Latitude                                             -0.789275   \n",
       "Longitude                                           113.921327   \n",
       "\n",
       "                                                          103  \\\n",
       "Country                                              Malaysia   \n",
       "Density\\n(P/Km2)                                           99   \n",
       "Abbreviation                                               MY   \n",
       "Agricultural Land( %)                                  26.30%   \n",
       "Land Area(Km2)                                        329,847   \n",
       "Armed Forces size                                     136,000   \n",
       "Birth Rate                                              16.75   \n",
       "Calling Code                                             60.0   \n",
       "Capital/Major City                               Kuala Lumpur   \n",
       "Co2-Emissions                                         248,289   \n",
       "CPI                                                    121.46   \n",
       "CPI Change (%)                                          0.70%   \n",
       "Currency-Code                                             MYR   \n",
       "Fertility Rate                                            2.0   \n",
       "Forested Area (%)                                      67.60%   \n",
       "Gasoline Price                                         $0.45    \n",
       "GDP                                         $364,701,517,788    \n",
       "Gross primary education enrollment (%)                105.30%   \n",
       "Gross tertiary education enrollment (%)                45.10%   \n",
       "Infant mortality                                          6.7   \n",
       "Largest city                                      Johor Bahru   \n",
       "Life expectancy                                          76.0   \n",
       "Maternal mortality ratio                                 29.0   \n",
       "Minimum wage                                           $0.93    \n",
       "Official language                          Malaysian language   \n",
       "Out of pocket health expenditure                       36.70%   \n",
       "Physicians per thousand                                  1.51   \n",
       "Population                                         32,447,385   \n",
       "Population: Labor force participation (%)              64.30%   \n",
       "Tax revenue (%)                                        12.00%   \n",
       "Total tax rate                                         38.70%   \n",
       "Unemployment rate                                       3.32%   \n",
       "Urban_population                                   24,475,766   \n",
       "Latitude                                             4.210484   \n",
       "Longitude                                          101.975766   \n",
       "\n",
       "                                                                      133  \\\n",
       "Country                                    Palestinian National Authority   \n",
       "Density\\n(P/Km2)                                                      847   \n",
       "Abbreviation                                                          NaN   \n",
       "Agricultural Land( %)                                                 NaN   \n",
       "Land Area(Km2)                                                        NaN   \n",
       "Armed Forces size                                                     NaN   \n",
       "Birth Rate                                                            NaN   \n",
       "Calling Code                                                          NaN   \n",
       "Capital/Major City                                                    NaN   \n",
       "Co2-Emissions                                                         NaN   \n",
       "CPI                                                                   NaN   \n",
       "CPI Change (%)                                                        NaN   \n",
       "Currency-Code                                                         NaN   \n",
       "Fertility Rate                                                        NaN   \n",
       "Forested Area (%)                                                     NaN   \n",
       "Gasoline Price                                                        NaN   \n",
       "GDP                                                                   NaN   \n",
       "Gross primary education enrollment (%)                                NaN   \n",
       "Gross tertiary education enrollment (%)                               NaN   \n",
       "Infant mortality                                                      NaN   \n",
       "Largest city                                                          NaN   \n",
       "Life expectancy                                                       NaN   \n",
       "Maternal mortality ratio                                              NaN   \n",
       "Minimum wage                                                          NaN   \n",
       "Official language                                                  Arabic   \n",
       "Out of pocket health expenditure                                      NaN   \n",
       "Physicians per thousand                                               NaN   \n",
       "Population                                                            NaN   \n",
       "Population: Labor force participation (%)                             NaN   \n",
       "Tax revenue (%)                                                       NaN   \n",
       "Total tax rate                                                        NaN   \n",
       "Unemployment rate                                                     NaN   \n",
       "Urban_population                                                      NaN   \n",
       "Latitude                                                        31.952162   \n",
       "Longitude                                                       35.233154   \n",
       "\n",
       "                                                         151  \\\n",
       "Country                                         Saudi Arabia   \n",
       "Density\\n(P/Km2)                                          16   \n",
       "Abbreviation                                              SA   \n",
       "Agricultural Land( %)                                 80.80%   \n",
       "Land Area(Km2)                                     2,149,690   \n",
       "Armed Forces size                                    252,000   \n",
       "Birth Rate                                              17.8   \n",
       "Calling Code                                           966.0   \n",
       "Capital/Major City                                    Riyadh   \n",
       "Co2-Emissions                                        563,449   \n",
       "CPI                                                    118.4   \n",
       "CPI Change (%)                                        -1.20%   \n",
       "Currency-Code                                            SAR   \n",
       "Fertility Rate                                          2.32   \n",
       "Forested Area (%)                                      0.50%   \n",
       "Gasoline Price                                        $0.24    \n",
       "GDP                                        $792,966,838,162    \n",
       "Gross primary education enrollment (%)                99.80%   \n",
       "Gross tertiary education enrollment (%)               68.00%   \n",
       "Infant mortality                                         6.0   \n",
       "Largest city                                          Riyadh   \n",
       "Life expectancy                                         75.0   \n",
       "Maternal mortality ratio                                17.0   \n",
       "Minimum wage                                          $3.85    \n",
       "Official language                                     Arabic   \n",
       "Out of pocket health expenditure                      15.00%   \n",
       "Physicians per thousand                                 2.61   \n",
       "Population                                        34,268,528   \n",
       "Population: Labor force participation (%)             55.90%   \n",
       "Tax revenue (%)                                        8.90%   \n",
       "Total tax rate                                        15.70%   \n",
       "Unemployment rate                                      5.93%   \n",
       "Urban_population                                  28,807,838   \n",
       "Latitude                                           23.885942   \n",
       "Longitude                                          45.079162   \n",
       "\n",
       "                                                            186  \n",
       "Country                                           United States  \n",
       "Density\\n(P/Km2)                                             36  \n",
       "Abbreviation                                                 US  \n",
       "Agricultural Land( %)                                    44.40%  \n",
       "Land Area(Km2)                                        9,833,517  \n",
       "Armed Forces size                                     1,359,000  \n",
       "Birth Rate                                                 11.6  \n",
       "Calling Code                                                1.0  \n",
       "Capital/Major City                             Washington, D.C.  \n",
       "Co2-Emissions                                         5,006,302  \n",
       "CPI                                                      117.24  \n",
       "CPI Change (%)                                            7.50%  \n",
       "Currency-Code                                               USD  \n",
       "Fertility Rate                                             1.73  \n",
       "Forested Area (%)                                        33.90%  \n",
       "Gasoline Price                                           $0.71   \n",
       "GDP                                        $21,427,700,000,000   \n",
       "Gross primary education enrollment (%)                  101.80%  \n",
       "Gross tertiary education enrollment (%)                  88.20%  \n",
       "Infant mortality                                            5.6  \n",
       "Largest city                                      New York City  \n",
       "Life expectancy                                            78.5  \n",
       "Maternal mortality ratio                                   19.0  \n",
       "Minimum wage                                             $7.25   \n",
       "Official language                                           NaN  \n",
       "Out of pocket health expenditure                         11.10%  \n",
       "Physicians per thousand                                    2.61  \n",
       "Population                                          328,239,523  \n",
       "Population: Labor force participation (%)                62.00%  \n",
       "Tax revenue (%)                                           9.60%  \n",
       "Total tax rate                                           36.60%  \n",
       "Unemployment rate                                        14.70%  \n",
       "Urban_population                                    270,663,028  \n",
       "Latitude                                               37.09024  \n",
       "Longitude                                            -95.712891  "
      ]
     },
     "metadata": {},
     "output_type": "display_data"
    },
    {
     "name": "stdout",
     "output_type": "stream",
     "text": [
      "shape: 6 rows by 35 columns\n"
     ]
    }
   ],
   "source": [
    "# Import display module\n",
    "from IPython import display\n",
    "\n",
    "# Daftar negara yang ingin ditampilkan\n",
    "countries = ['Indonesia', 'United States', 'Saudi Arabia', 'Palestinian National Authority', 'Germany', 'Malaysia']\n",
    "\n",
    "# Filter DataFrame berdasarkan negara\n",
    "df_countries = df[df['Country'].isin(countries)]\n",
    "\n",
    "# Tampilkan data\n",
    "display.display(df_countries.head(10).T)\n",
    "print(f'shape: {df_countries.shape[0]} rows by {df_countries.shape[1]} columns')\n"
   ]
  },
  {
   "cell_type": "code",
   "execution_count": 61,
   "id": "8b3ed9f7",
   "metadata": {
    "execution": {
     "iopub.execute_input": "2023-08-28T11:18:43.720236Z",
     "iopub.status.busy": "2023-08-28T11:18:43.719493Z",
     "iopub.status.idle": "2023-08-28T11:18:43.725624Z",
     "shell.execute_reply": "2023-08-28T11:18:43.724446Z"
    },
    "papermill": {
     "duration": 0.018629,
     "end_time": "2023-08-28T11:18:43.728200",
     "exception": false,
     "start_time": "2023-08-28T11:18:43.709571",
     "status": "completed"
    },
    "tags": []
   },
   "outputs": [
    {
     "data": {
      "image/png": "[encoded data removed]",
      "text/plain": [
       "<Figure size 1200x600 with 1 Axes>"
      ]
     },
     "metadata": {},
     "output_type": "display_data"
    }
   ],
   "source": [
    "# Convert seluruh kolom ke tipe string\n",
    "df['GDP'] = df['GDP'].astype(str).str.replace('$', '').str.replace(',', '')\n",
    "df['Population'] = df['Population'].astype(str).str.replace(',', '')\n",
    "\n",
    "# NConvert kembali ke tipe float untuk dibagi\n",
    "df['GDP'] = df['GDP'].astype(float)\n",
    "df['Population'] = df['Population'].astype(float)\n",
    "\n",
    "df['GDP_per_Capita'] = df['GDP'] / df['Population']\n",
    "df_top10 = df.sort_values('GDP_per_Capita', ascending=False).head(10)\n",
    "\n",
    "plt.figure(figsize=(12,6))  \n",
    "plt.bar(df_top10['Country'], df_top10['GDP_per_Capita'])  \n",
    "plt.xlabel('Negara')  \n",
    "plt.ylabel('PDB per kapita')  \n",
    "plt.title('Top 10 Negara berdasarkan PDB per kapita')  \n",
    "plt.xticks(rotation=45)  \n",
    "plt.show()"
   ]
  },
  {
   "cell_type": "markdown",
   "id": "2cc47591",
   "metadata": {},
   "source": [
    "*PDB (Produk Domestik Bruto) per kapita*\n",
    "\n",
    "PDB per kapita merupakan hasil penghitungan PDB dan membaginya dengan jumlah penduduk suatu negara. Indikator ini memberikan informasi mengenai seberapa besar kontribusi ekonomi yang diberikan setiap individu  dalam suatu negara. PDB per kapita dapat digunakan untuk mengukur  kemakmuran suatu negara. Semakin tinggi PDB per kapita suatu negara, maka semakin besar pula kesejahteraan masyarakatnya."
   ]
  },
  {
   "cell_type": "markdown",
   "id": "b36b9a2f",
   "metadata": {
    "papermill": {
     "duration": 0.008774,
     "end_time": "2023-08-28T11:18:43.745583",
     "exception": false,
     "start_time": "2023-08-28T11:18:43.736809",
     "status": "completed"
    },
    "tags": []
   },
   "source": [
    "<font size=\"+2\" color=\"#fccf03\"><b style=\"font-weight:normal\">2.1 <span style='color:#4285f4; font-weight:normal'>|</span> Statistik Dataset </b></font><br><a id=\"1\"></a>"
   ]
  },
  {
   "cell_type": "code",
   "execution_count": 62,
   "id": "88d3bb51",
   "metadata": {
    "_kg_hide-input": true,
    "execution": {
     "iopub.execute_input": "2023-08-28T11:18:43.764523Z",
     "iopub.status.busy": "2023-08-28T11:18:43.764106Z",
     "iopub.status.idle": "2023-08-28T11:18:43.953704Z",
     "shell.execute_reply": "2023-08-28T11:18:43.952469Z"
    },
    "papermill": {
     "duration": 0.202098,
     "end_time": "2023-08-28T11:18:43.956348",
     "exception": false,
     "start_time": "2023-08-28T11:18:43.754250",
     "status": "completed"
    },
    "tags": []
   },
   "outputs": [
    {
     "data": {
      "text/html": [
       "<style type=\"text/css\">\n",
       "#T_a8fc4_row0_col0 {\n",
       "  background-color: #a4cce3;\n",
       "  color: #000000;\n",
       "}\n",
       "#T_a8fc4_row0_col1, #T_a8fc4_row3_col1 {\n",
       "  background-color: #e3eef9;\n",
       "  color: #000000;\n",
       "}\n",
       "#T_a8fc4_row0_col2, #T_a8fc4_row1_col2, #T_a8fc4_row2_col2, #T_a8fc4_row3_col2, #T_a8fc4_row3_col3, #T_a8fc4_row3_col4, #T_a8fc4_row4_col2, #T_a8fc4_row5_col1, #T_a8fc4_row6_col2, #T_a8fc4_row7_col2, #T_a8fc4_row8_col2, #T_a8fc4_row8_col3, #T_a8fc4_row9_col2, #T_a8fc4_row10_col2, #T_a8fc4_row11_col2 {\n",
       "  background-color: #f7fbff;\n",
       "  color: #000000;\n",
       "}\n",
       "#T_a8fc4_row0_col3, #T_a8fc4_row1_col4, #T_a8fc4_row11_col1 {\n",
       "  background-color: #dceaf6;\n",
       "  color: #000000;\n",
       "}\n",
       "#T_a8fc4_row0_col4 {\n",
       "  background-color: #b7d4ea;\n",
       "  color: #000000;\n",
       "}\n",
       "#T_a8fc4_row0_col5, #T_a8fc4_row9_col0 {\n",
       "  background-color: #549fcd;\n",
       "  color: #f1f1f1;\n",
       "}\n",
       "#T_a8fc4_row0_col6, #T_a8fc4_row1_col6, #T_a8fc4_row2_col6, #T_a8fc4_row3_col6, #T_a8fc4_row4_col6, #T_a8fc4_row5_col6, #T_a8fc4_row6_col6, #T_a8fc4_row7_col6, #T_a8fc4_row8_col6, #T_a8fc4_row9_col6, #T_a8fc4_row10_col6, #T_a8fc4_row11_col6 {\n",
       "  background-color: #08306b;\n",
       "  color: #f1f1f1;\n",
       "}\n",
       "#T_a8fc4_row1_col0 {\n",
       "  background-color: #d1e2f3;\n",
       "  color: #000000;\n",
       "}\n",
       "#T_a8fc4_row1_col1 {\n",
       "  background-color: #d6e5f4;\n",
       "  color: #000000;\n",
       "}\n",
       "#T_a8fc4_row1_col3, #T_a8fc4_row6_col4 {\n",
       "  background-color: #eef5fc;\n",
       "  color: #000000;\n",
       "}\n",
       "#T_a8fc4_row1_col5 {\n",
       "  background-color: #bfd8ed;\n",
       "  color: #000000;\n",
       "}\n",
       "#T_a8fc4_row2_col0 {\n",
       "  background-color: #b9d6ea;\n",
       "  color: #000000;\n",
       "}\n",
       "#T_a8fc4_row2_col1 {\n",
       "  background-color: #edf4fc;\n",
       "  color: #000000;\n",
       "}\n",
       "#T_a8fc4_row2_col3 {\n",
       "  background-color: #dfebf7;\n",
       "  color: #000000;\n",
       "}\n",
       "#T_a8fc4_row2_col4 {\n",
       "  background-color: #cde0f1;\n",
       "  color: #000000;\n",
       "}\n",
       "#T_a8fc4_row2_col5 {\n",
       "  background-color: #84bcdb;\n",
       "  color: #000000;\n",
       "}\n",
       "#T_a8fc4_row3_col0, #T_a8fc4_row8_col5 {\n",
       "  background-color: #f3f8fe;\n",
       "  color: #000000;\n",
       "}\n",
       "#T_a8fc4_row3_col5, #T_a8fc4_row6_col3, #T_a8fc4_row11_col3 {\n",
       "  background-color: #f5fafe;\n",
       "  color: #000000;\n",
       "}\n",
       "#T_a8fc4_row4_col0 {\n",
       "  background-color: #c8dcf0;\n",
       "  color: #000000;\n",
       "}\n",
       "#T_a8fc4_row4_col1, #T_a8fc4_row7_col0 {\n",
       "  background-color: #cddff1;\n",
       "  color: #000000;\n",
       "}\n",
       "#T_a8fc4_row4_col3 {\n",
       "  background-color: #ecf4fb;\n",
       "  color: #000000;\n",
       "}\n",
       "#T_a8fc4_row4_col4 {\n",
       "  background-color: #d9e8f5;\n",
       "  color: #000000;\n",
       "}\n",
       "#T_a8fc4_row4_col5 {\n",
       "  background-color: #9dcae1;\n",
       "  color: #000000;\n",
       "}\n",
       "#T_a8fc4_row5_col0 {\n",
       "  background-color: #115ca5;\n",
       "  color: #f1f1f1;\n",
       "}\n",
       "#T_a8fc4_row5_col2 {\n",
       "  background-color: #519ccc;\n",
       "  color: #f1f1f1;\n",
       "}\n",
       "#T_a8fc4_row5_col3, #T_a8fc4_row9_col5 {\n",
       "  background-color: #1e6db2;\n",
       "  color: #f1f1f1;\n",
       "}\n",
       "#T_a8fc4_row5_col4 {\n",
       "  background-color: #0e59a2;\n",
       "  color: #f1f1f1;\n",
       "}\n",
       "#T_a8fc4_row5_col5 {\n",
       "  background-color: #084a91;\n",
       "  color: #f1f1f1;\n",
       "}\n",
       "#T_a8fc4_row6_col0 {\n",
       "  background-color: #dce9f6;\n",
       "  color: #000000;\n",
       "}\n",
       "#T_a8fc4_row6_col1 {\n",
       "  background-color: #d0e1f2;\n",
       "  color: #000000;\n",
       "}\n",
       "#T_a8fc4_row6_col5 {\n",
       "  background-color: #d7e6f5;\n",
       "  color: #000000;\n",
       "}\n",
       "#T_a8fc4_row7_col1 {\n",
       "  background-color: #d0e2f2;\n",
       "  color: #000000;\n",
       "}\n",
       "#T_a8fc4_row7_col3 {\n",
       "  background-color: #f0f6fd;\n",
       "  color: #000000;\n",
       "}\n",
       "#T_a8fc4_row7_col4 {\n",
       "  background-color: #d5e5f4;\n",
       "  color: #000000;\n",
       "}\n",
       "#T_a8fc4_row7_col5 {\n",
       "  background-color: #a6cee4;\n",
       "  color: #000000;\n",
       "}\n",
       "#T_a8fc4_row8_col0, #T_a8fc4_row11_col4 {\n",
       "  background-color: #f2f7fd;\n",
       "  color: #000000;\n",
       "}\n",
       "#T_a8fc4_row8_col1 {\n",
       "  background-color: #e3eef8;\n",
       "  color: #000000;\n",
       "}\n",
       "#T_a8fc4_row8_col4 {\n",
       "  background-color: #f6faff;\n",
       "  color: #000000;\n",
       "}\n",
       "#T_a8fc4_row9_col1 {\n",
       "  background-color: #4695c8;\n",
       "  color: #f1f1f1;\n",
       "}\n",
       "#T_a8fc4_row9_col3 {\n",
       "  background-color: #89bedc;\n",
       "  color: #000000;\n",
       "}\n",
       "#T_a8fc4_row9_col4 {\n",
       "  background-color: #5ba3d0;\n",
       "  color: #f1f1f1;\n",
       "}\n",
       "#T_a8fc4_row10_col0 {\n",
       "  background-color: #5aa2cf;\n",
       "  color: #f1f1f1;\n",
       "}\n",
       "#T_a8fc4_row10_col1 {\n",
       "  background-color: #3282be;\n",
       "  color: #f1f1f1;\n",
       "}\n",
       "#T_a8fc4_row10_col3 {\n",
       "  background-color: #75b4d8;\n",
       "  color: #000000;\n",
       "}\n",
       "#T_a8fc4_row10_col4 {\n",
       "  background-color: #58a1cf;\n",
       "  color: #f1f1f1;\n",
       "}\n",
       "#T_a8fc4_row10_col5 {\n",
       "  background-color: #4090c5;\n",
       "  color: #f1f1f1;\n",
       "}\n",
       "#T_a8fc4_row11_col0 {\n",
       "  background-color: #e7f0fa;\n",
       "  color: #000000;\n",
       "}\n",
       "#T_a8fc4_row11_col5 {\n",
       "  background-color: #e5eff9;\n",
       "  color: #000000;\n",
       "}\n",
       "</style>\n",
       "<table id=\"T_a8fc4\">\n",
       "  <thead>\n",
       "    <tr>\n",
       "      <th class=\"blank level0\" >&nbsp;</th>\n",
       "      <th id=\"T_a8fc4_level0_col0\" class=\"col_heading level0 col0\" >mean</th>\n",
       "      <th id=\"T_a8fc4_level0_col1\" class=\"col_heading level0 col1\" >std</th>\n",
       "      <th id=\"T_a8fc4_level0_col2\" class=\"col_heading level0 col2\" >min</th>\n",
       "      <th id=\"T_a8fc4_level0_col3\" class=\"col_heading level0 col3\" >25%</th>\n",
       "      <th id=\"T_a8fc4_level0_col4\" class=\"col_heading level0 col4\" >50%</th>\n",
       "      <th id=\"T_a8fc4_level0_col5\" class=\"col_heading level0 col5\" >75%</th>\n",
       "      <th id=\"T_a8fc4_level0_col6\" class=\"col_heading level0 col6\" >max</th>\n",
       "    </tr>\n",
       "  </thead>\n",
       "  <tbody>\n",
       "    <tr>\n",
       "      <th id=\"T_a8fc4_level0_row0\" class=\"row_heading level0 row0\" >Birth Rate</th>\n",
       "      <td id=\"T_a8fc4_row0_col0\" class=\"data row0 col0\" >20.214974</td>\n",
       "      <td id=\"T_a8fc4_row0_col1\" class=\"data row0 col1\" >9.945774</td>\n",
       "      <td id=\"T_a8fc4_row0_col2\" class=\"data row0 col2\" >5.900000</td>\n",
       "      <td id=\"T_a8fc4_row0_col3\" class=\"data row0 col3\" >11.300000</td>\n",
       "      <td id=\"T_a8fc4_row0_col4\" class=\"data row0 col4\" >17.950000</td>\n",
       "      <td id=\"T_a8fc4_row0_col5\" class=\"data row0 col5\" >28.750000</td>\n",
       "      <td id=\"T_a8fc4_row0_col6\" class=\"data row0 col6\" >46.080000</td>\n",
       "    </tr>\n",
       "    <tr>\n",
       "      <th id=\"T_a8fc4_level0_row1\" class=\"row_heading level0 row1\" >Calling Code</th>\n",
       "      <td id=\"T_a8fc4_row1_col0\" class=\"data row1 col0\" >360.546392</td>\n",
       "      <td id=\"T_a8fc4_row1_col1\" class=\"data row1 col1\" >323.236419</td>\n",
       "      <td id=\"T_a8fc4_row1_col2\" class=\"data row1 col2\" >1.000000</td>\n",
       "      <td id=\"T_a8fc4_row1_col3\" class=\"data row1 col3\" >82.500000</td>\n",
       "      <td id=\"T_a8fc4_row1_col4\" class=\"data row1 col4\" >255.500000</td>\n",
       "      <td id=\"T_a8fc4_row1_col5\" class=\"data row1 col5\" >506.750000</td>\n",
       "      <td id=\"T_a8fc4_row1_col6\" class=\"data row1 col6\" >1876.000000</td>\n",
       "    </tr>\n",
       "    <tr>\n",
       "      <th id=\"T_a8fc4_level0_row2\" class=\"row_heading level0 row2\" >Fertility Rate</th>\n",
       "      <td id=\"T_a8fc4_row2_col0\" class=\"data row2 col0\" >2.698138</td>\n",
       "      <td id=\"T_a8fc4_row2_col1\" class=\"data row2 col1\" >1.282267</td>\n",
       "      <td id=\"T_a8fc4_row2_col2\" class=\"data row2 col2\" >0.980000</td>\n",
       "      <td id=\"T_a8fc4_row2_col3\" class=\"data row2 col3\" >1.705000</td>\n",
       "      <td id=\"T_a8fc4_row2_col4\" class=\"data row2 col4\" >2.245000</td>\n",
       "      <td id=\"T_a8fc4_row2_col5\" class=\"data row2 col5\" >3.597500</td>\n",
       "      <td id=\"T_a8fc4_row2_col6\" class=\"data row2 col6\" >6.910000</td>\n",
       "    </tr>\n",
       "    <tr>\n",
       "      <th id=\"T_a8fc4_level0_row3\" class=\"row_heading level0 row3\" >GDP</th>\n",
       "      <td id=\"T_a8fc4_row3_col0\" class=\"data row3 col0\" >477295901399.538879</td>\n",
       "      <td id=\"T_a8fc4_row3_col1\" class=\"data row3 col1\" >2172173359474.053223</td>\n",
       "      <td id=\"T_a8fc4_row3_col2\" class=\"data row3 col2\" >47271463.000000</td>\n",
       "      <td id=\"T_a8fc4_row3_col3\" class=\"data row3 col3\" >8454619608.000000</td>\n",
       "      <td id=\"T_a8fc4_row3_col4\" class=\"data row3 col4\" >34387229486.000000</td>\n",
       "      <td id=\"T_a8fc4_row3_col5\" class=\"data row3 col5\" >234094042939.000000</td>\n",
       "      <td id=\"T_a8fc4_row3_col6\" class=\"data row3 col6\" >21427700000000.000000</td>\n",
       "    </tr>\n",
       "    <tr>\n",
       "      <th id=\"T_a8fc4_level0_row4\" class=\"row_heading level0 row4\" >Infant mortality</th>\n",
       "      <td id=\"T_a8fc4_row4_col0\" class=\"data row4 col0\" >21.332804</td>\n",
       "      <td id=\"T_a8fc4_row4_col1\" class=\"data row4 col1\" >19.548058</td>\n",
       "      <td id=\"T_a8fc4_row4_col2\" class=\"data row4 col2\" >1.400000</td>\n",
       "      <td id=\"T_a8fc4_row4_col3\" class=\"data row4 col3\" >6.000000</td>\n",
       "      <td id=\"T_a8fc4_row4_col4\" class=\"data row4 col4\" >14.000000</td>\n",
       "      <td id=\"T_a8fc4_row4_col5\" class=\"data row4 col5\" >32.700000</td>\n",
       "      <td id=\"T_a8fc4_row4_col6\" class=\"data row4 col6\" >84.500000</td>\n",
       "    </tr>\n",
       "    <tr>\n",
       "      <th id=\"T_a8fc4_level0_row5\" class=\"row_heading level0 row5\" >Life expectancy</th>\n",
       "      <td id=\"T_a8fc4_row5_col0\" class=\"data row5 col0\" >72.279679</td>\n",
       "      <td id=\"T_a8fc4_row5_col1\" class=\"data row5 col1\" >7.483661</td>\n",
       "      <td id=\"T_a8fc4_row5_col2\" class=\"data row5 col2\" >52.800000</td>\n",
       "      <td id=\"T_a8fc4_row5_col3\" class=\"data row5 col3\" >67.000000</td>\n",
       "      <td id=\"T_a8fc4_row5_col4\" class=\"data row5 col4\" >73.200000</td>\n",
       "      <td id=\"T_a8fc4_row5_col5\" class=\"data row5 col5\" >77.500000</td>\n",
       "      <td id=\"T_a8fc4_row5_col6\" class=\"data row5 col6\" >85.400000</td>\n",
       "    </tr>\n",
       "    <tr>\n",
       "      <th id=\"T_a8fc4_level0_row6\" class=\"row_heading level0 row6\" >Maternal mortality ratio</th>\n",
       "      <td id=\"T_a8fc4_row6_col0\" class=\"data row6 col0\" >160.392265</td>\n",
       "      <td id=\"T_a8fc4_row6_col1\" class=\"data row6 col1\" >233.502024</td>\n",
       "      <td id=\"T_a8fc4_row6_col2\" class=\"data row6 col2\" >2.000000</td>\n",
       "      <td id=\"T_a8fc4_row6_col3\" class=\"data row6 col3\" >13.000000</td>\n",
       "      <td id=\"T_a8fc4_row6_col4\" class=\"data row6 col4\" >53.000000</td>\n",
       "      <td id=\"T_a8fc4_row6_col5\" class=\"data row6 col5\" >186.000000</td>\n",
       "      <td id=\"T_a8fc4_row6_col6\" class=\"data row6 col6\" >1150.000000</td>\n",
       "    </tr>\n",
       "    <tr>\n",
       "      <th id=\"T_a8fc4_level0_row7\" class=\"row_heading level0 row7\" >Physicians per thousand</th>\n",
       "      <td id=\"T_a8fc4_row7_col0\" class=\"data row7 col0\" >1.839840</td>\n",
       "      <td id=\"T_a8fc4_row7_col1\" class=\"data row7 col1\" >1.684261</td>\n",
       "      <td id=\"T_a8fc4_row7_col2\" class=\"data row7 col2\" >0.010000</td>\n",
       "      <td id=\"T_a8fc4_row7_col3\" class=\"data row7 col3\" >0.332500</td>\n",
       "      <td id=\"T_a8fc4_row7_col4\" class=\"data row7 col4\" >1.460000</td>\n",
       "      <td id=\"T_a8fc4_row7_col5\" class=\"data row7 col5\" >2.935000</td>\n",
       "      <td id=\"T_a8fc4_row7_col6\" class=\"data row7 col6\" >8.420000</td>\n",
       "    </tr>\n",
       "    <tr>\n",
       "      <th id=\"T_a8fc4_level0_row8\" class=\"row_heading level0 row8\" >Population</th>\n",
       "      <td id=\"T_a8fc4_row8_col0\" class=\"data row8 col0\" >39381164.010309</td>\n",
       "      <td id=\"T_a8fc4_row8_col1\" class=\"data row8 col1\" >145092391.512999</td>\n",
       "      <td id=\"T_a8fc4_row8_col2\" class=\"data row8 col2\" >836.000000</td>\n",
       "      <td id=\"T_a8fc4_row8_col3\" class=\"data row8 col3\" >1962678.000000</td>\n",
       "      <td id=\"T_a8fc4_row8_col4\" class=\"data row8 col4\" >8826588.000000</td>\n",
       "      <td id=\"T_a8fc4_row8_col5\" class=\"data row8 col5\" >28585489.750000</td>\n",
       "      <td id=\"T_a8fc4_row8_col6\" class=\"data row8 col6\" >1397715000.000000</td>\n",
       "    </tr>\n",
       "    <tr>\n",
       "      <th id=\"T_a8fc4_level0_row9\" class=\"row_heading level0 row9\" >Latitude</th>\n",
       "      <td id=\"T_a8fc4_row9_col0\" class=\"data row9 col0\" >19.092351</td>\n",
       "      <td id=\"T_a8fc4_row9_col1\" class=\"data row9 col1\" >23.961779</td>\n",
       "      <td id=\"T_a8fc4_row9_col2\" class=\"data row9 col2\" >-40.900557</td>\n",
       "      <td id=\"T_a8fc4_row9_col3\" class=\"data row9 col3\" >4.544175</td>\n",
       "      <td id=\"T_a8fc4_row9_col4\" class=\"data row9 col4\" >17.273849</td>\n",
       "      <td id=\"T_a8fc4_row9_col5\" class=\"data row9 col5\" >40.124603</td>\n",
       "      <td id=\"T_a8fc4_row9_col6\" class=\"data row9 col6\" >64.963051</td>\n",
       "    </tr>\n",
       "    <tr>\n",
       "      <th id=\"T_a8fc4_level0_row10\" class=\"row_heading level0 row10\" >Longitude</th>\n",
       "      <td id=\"T_a8fc4_row10_col0\" class=\"data row10 col0\" >20.232434</td>\n",
       "      <td id=\"T_a8fc4_row10_col1\" class=\"data row10 col1\" >66.716110</td>\n",
       "      <td id=\"T_a8fc4_row10_col2\" class=\"data row10 col2\" >-175.198242</td>\n",
       "      <td id=\"T_a8fc4_row10_col3\" class=\"data row10 col3\" >-7.941496</td>\n",
       "      <td id=\"T_a8fc4_row10_col4\" class=\"data row10 col4\" >20.972652</td>\n",
       "      <td id=\"T_a8fc4_row10_col5\" class=\"data row10 col5\" >48.281523</td>\n",
       "      <td id=\"T_a8fc4_row10_col6\" class=\"data row10 col6\" >178.065032</td>\n",
       "    </tr>\n",
       "    <tr>\n",
       "      <th id=\"T_a8fc4_level0_row11\" class=\"row_heading level0 row11\" >GDP_per_Capita</th>\n",
       "      <td id=\"T_a8fc4_row11_col0\" class=\"data row11 col0\" >15690.877246</td>\n",
       "      <td id=\"T_a8fc4_row11_col1\" class=\"data row11 col1\" >25268.434004</td>\n",
       "      <td id=\"T_a8fc4_row11_col2\" class=\"data row11 col2\" >261.247473</td>\n",
       "      <td id=\"T_a8fc4_row11_col3\" class=\"data row11 col3\" >1912.903745</td>\n",
       "      <td id=\"T_a8fc4_row11_col4\" class=\"data row11 col4\" >5955.109010</td>\n",
       "      <td id=\"T_a8fc4_row11_col5\" class=\"data row11 col5\" >17401.721516</td>\n",
       "      <td id=\"T_a8fc4_row11_col6\" class=\"data row11 col6\" >184396.986783</td>\n",
       "    </tr>\n",
       "  </tbody>\n",
       "</table>\n"
      ],
      "text/plain": [
       "<pandas.io.formats.style.Styler at 0x18f7e027470>"
      ]
     },
     "execution_count": 62,
     "metadata": {},
     "output_type": "execute_result"
    }
   ],
   "source": [
    "df.describe()[1:].T.style.background_gradient(cmap='Blues', axis=1)"
   ]
  },
  {
   "cell_type": "markdown",
   "id": "1e691d61",
   "metadata": {
    "papermill": {
     "duration": 0.009214,
     "end_time": "2023-08-28T11:18:43.975613",
     "exception": false,
     "start_time": "2023-08-28T11:18:43.966399",
     "status": "completed"
    },
    "tags": []
   },
   "source": [
    "<font size=\"+2\" color=\"#fccf03\"><b style=\"font-weight:normal\">2.2 <span style='color:#4285f4; font-weight:normal'>|</span> Matriks Korelasi </b></font><br><a id=\"1\"></a>"
   ]
  },
  {
   "cell_type": "code",
   "execution_count": 63,
   "id": "640f9b2c",
   "metadata": {
    "_kg_hide-input": true,
    "execution": {
     "iopub.execute_input": "2023-08-28T11:18:43.996425Z",
     "iopub.status.busy": "2023-08-28T11:18:43.996001Z",
     "iopub.status.idle": "2023-08-28T11:18:45.671740Z",
     "shell.execute_reply": "2023-08-28T11:18:45.670535Z"
    },
    "papermill": {
     "duration": 1.689022,
     "end_time": "2023-08-28T11:18:45.674167",
     "exception": false,
     "start_time": "2023-08-28T11:18:43.985145",
     "status": "completed"
    },
    "tags": []
   },
   "outputs": [
    {
     "data": {
      "application/vnd.plotly.v1+json": {
       "config": {
        "plotlyServerURL": "https://plot.ly"
       },
       "data": [
        {
         "coloraxis": "coloraxis",
         "hovertemplate": "x: %{x}<br>y: %{y}<br>color: %{z}<extra></extra>",
         "name": "0",
         "type": "heatmap",
         "x": [
          "Density\n(P/Km2)",
          "Agricultural Land( %)",
          "Land Area(Km2)",
          "Armed Forces size",
          "Birth Rate",
          "Calling Code",
          "Co2-Emissions",
          "CPI",
          "CPI Change (%)",
          "Fertility Rate",
          "Forested Area (%)",
          "Gasoline Price",
          "GDP",
          "Gross primary education enrollment (%)",
          "Gross tertiary education enrollment (%)",
          "Infant mortality",
          "Life expectancy",
          "Maternal mortality ratio",
          "Minimum wage",
          "Out of pocket health expenditure",
          "Physicians per thousand",
          "Population",
          "Population: Labor force participation (%)",
          "Tax revenue (%)",
          "Total tax rate",
          "Unemployment rate",
          "Urban_population",
          "Latitude",
          "Longitude",
          "GDP_per_Capita"
         ],
         "xaxis": "x",
         "y": [
          "Density\n(P/Km2)",
          "Agricultural Land( %)",
          "Land Area(Km2)",
          "Armed Forces size",
          "Birth Rate",
          "Calling Code",
          "Co2-Emissions",
          "CPI",
          "CPI Change (%)",
          "Fertility Rate",
          "Forested Area (%)",
          "Gasoline Price",
          "GDP",
          "Gross primary education enrollment (%)",
          "Gross tertiary education enrollment (%)",
          "Infant mortality",
          "Life expectancy",
          "Maternal mortality ratio",
          "Minimum wage",
          "Out of pocket health expenditure",
          "Physicians per thousand",
          "Population",
          "Population: Labor force participation (%)",
          "Tax revenue (%)",
          "Total tax rate",
          "Unemployment rate",
          "Urban_population",
          "Latitude",
          "Longitude",
          "GDP_per_Capita"
         ],
         "yaxis": "y",
         "z": [
          [
           1,
           -0.10847820270359744,
           -0.05327891766204156,
           0.0005261547179880537,
           -0.14702357492820495,
           0.00655381764492437,
           -0.014261966106682311,
           -0.043356144073030456,
           -0.05245923876248535,
           -0.14930151231895278,
           -0.10046637602399931,
           0.22488931668321846,
           -0.017690161880891935,
           0.009726970698803062,
           0.10955466793762898,
           -0.1060764119757797,
           0.1698517976545266,
           -0.09242897234143395,
           0.2749666859015908,
           -0.09210077164335703,
           0.20597055933051595,
           -0.017605559100086845,
           0.0650844800363368,
           -0.036935297384000886,
           -0.08280933515418057,
           -0.10308354328981455,
           -0.022419575352949535,
           0.06464019217783533,
           0.03193968473007721,
           0.5093882161768769
          ],
          [
           -0.10847820270359744,
           1,
           -0.031189030077561027,
           0.030546797929674834,
           0.1992692429898144,
           -0.06700827481288135,
           0.061190725882990724,
           -0.007683642368683792,
           -0.01087821809764984,
           0.1805073707799549,
           -0.4345695566197511,
           0.047724184214365674,
           0.05184007975602488,
           -0.047045796998776986,
           -0.11101493865185388,
           0.207010098698412,
           -0.243771005942481,
           0.21317035013717409,
           -0.02677995163518461,
           0.13517979590255053,
           -0.03650297651495171,
           0.11750574402895961,
           -0.11201646061722971,
           -0.05610443582970106,
           0.16713907948797377,
           0.06204879613226355,
           0.10167851594877311,
           -0.03472540437879649,
           -0.016716226246893402,
           -0.1846104103125058
          ],
          [
           -0.05327891766204156,
           -0.031189030077561027,
           1,
           0.5517303327979796,
           -0.06626882135358265,
           -0.23087172325541322,
           0.5907461890743969,
           0.020893373489344495,
           0.034209828492881525,
           -0.06476421981627968,
           -0.01427845524952263,
           -0.18685737802284635,
           0.5505920485677658,
           0.006121823668447511,
           0.22046988644429957,
           -0.06631040868739639,
           0.05492137501753023,
           -0.05419009735169884,
           0.11894888303387675,
           -0.01386748520915807,
           0.07200585832248317,
           0.44672144052312407,
           -0.007051641879305005,
           -0.1685665587504512,
           0.0899321754816637,
           0.042922134508979255,
           0.546836346860166,
           0.049250791617526074,
           0.010435087537713236,
           0.04228648022274956
          ],
          [
           0.0005261547179880537,
           0.030546797929674834,
           0.5517303327979796,
           1,
           -0.14480126545092248,
           -0.18433028640054563,
           0.7408682021582728,
           0.04083864344609379,
           0.061519390572134416,
           -0.14625763646191087,
           -0.019927788348848702,
           -0.15457900610705236,
           0.6054864405942135,
           0.05797376412893616,
           0.11024693382246434,
           -0.07728334647696451,
           0.07594326758564592,
           -0.10496887733920142,
           -0.020527979996241365,
           0.15436744447591005,
           0.013847758932371727,
           0.8759115892124134,
           -0.08297515427902631,
           -0.18296862241973064,
           0.15867364695669575,
           -0.02501060855186409,
           0.8511006615536322,
           0.1201653116874463,
           0.20826475697216054,
           -0.031141139512179162
          ],
          [
           -0.14702357492820495,
           0.1992692429898144,
           -0.06626882135358265,
           -0.14480126545092248,
           1,
           0.0720713762534989,
           -0.15579640999506922,
           0.14329757153291284,
           0.10715954821270061,
           0.9810694782681492,
           -0.07432107439545585,
           -0.20432212729812396,
           -0.18121627484095254,
           -0.08315551962694841,
           -0.7287552059650629,
           0.8674555265603551,
           -0.8747472099732809,
           0.7680784191625778,
           -0.5030703758948283,
           0.2561977325180187,
           -0.7402898098630792,
           -0.053262604338168255,
           0.17130192254559698,
           -0.37510268718766954,
           0.19960839980030928,
           -0.04345805334756265,
           -0.10760921281694974,
           -0.5029646904346391,
           0.03924710236710117,
           -0.5170628490298681
          ],
          [
           0.00655381764492437,
           -0.06700827481288135,
           -0.23087172325541322,
           -0.18433028640054563,
           0.0720713762534989,
           1,
           -0.15594579200473993,
           -0.06968363768157575,
           -0.08245068766282106,
           0.028378693198018355,
           -0.09652468773050842,
           -0.18563186168235923,
           -0.18280760278920466,
           -0.035230894227914665,
           -0.22345711552561828,
           -0.030603318611763675,
           -0.03462357492796602,
           -0.13096164838981283,
           -0.1901728385748764,
           0.013550548039822044,
           -0.041555563159985605,
           -0.16615862291060807,
           0.052421989367547134,
           -0.048854825926843815,
           -0.24474887210686896,
           -0.11519069969752607,
           -0.19167596613296026,
           0.012972561504435818,
           0.19423644037547527,
           -0.11838575874204063
          ],
          [
           -0.014261966106682311,
           0.061190725882990724,
           0.5907461890743969,
           0.7408682021582728,
           -0.15579640999506922,
           -0.15594579200473993,
           1,
           -0.01747872987173617,
           -0.004214788734543217,
           -0.14153422182150788,
           -0.028802528928597314,
           -0.06811904556976182,
           0.9168570692123926,
           0.002429044836524981,
           0.15514004661927766,
           -0.12386710506402948,
           0.12189112647545508,
           -0.10833368588875683,
           0.08381563723154822,
           -0.03299470911853679,
           0.06251045575357268,
           0.80994384723593,
           -0.013713190364026216,
           -0.14408065564680678,
           0.06149518660625572,
           0.0064805541294844955,
           0.9262633038353735,
           0.11871533698008713,
           0.07434475897718455,
           0.09422496392732246
          ],
          [
           -0.043356144073030456,
           -0.007683642368683792,
           0.020893373489344495,
           0.04083864344609379,
           0.14329757153291284,
           -0.06968363768157575,
           -0.01747872987173617,
           1,
           0.8947097340574462,
           0.14135180276400572,
           0.0044552723037753345,
           -0.2714215088431607,
           -0.02683308483125954,
           -0.1970833776725306,
           0.024433777439018017,
           0.19024715785680554,
           -0.18165628963082334,
           0.3078595906354449,
           -0.1342843446106343,
           0.1616808849658275,
           -0.07798002660066293,
           -0.004924577955154276,
           0.02136914373679942,
           -0.20885255242971146,
           0.043006133454534516,
           0.12015614072662614,
           -0.0092982818633221,
           -0.07554890045486769,
           -0.022809364512860066,
           -0.0924987535457676
          ],
          [
           -0.05245923876248535,
           -0.01087821809764984,
           0.034209828492881525,
           0.061519390572134416,
           0.10715954821270061,
           -0.08245068766282106,
           -0.004214788734543217,
           0.8947097340574462,
           1,
           0.0974048990798175,
           0.015317262890764348,
           -0.2753875533500259,
           -0.01108342074562701,
           -0.15822811881486154,
           0.06508945758998845,
           0.15888795850107548,
           -0.1500871704753452,
           0.2278101399890272,
           -0.10441426154896023,
           0.13658278912204438,
           -0.04001911765071645,
           0.005617500193554837,
           -0.016332172083484177,
           -0.24125452069668274,
           0.11701228406163336,
           0.11191991708040616,
           0.007352941560620316,
           -0.08956964497509048,
           -0.07652381049110235,
           -0.08590371043643119
          ],
          [
           -0.14930151231895278,
           0.1805073707799549,
           -0.06476421981627968,
           -0.14625763646191087,
           0.9810694782681492,
           0.028378693198018355,
           -0.14153422182150788,
           0.14135180276400572,
           0.0974048990798175,
           1,
           -0.06342859689445104,
           -0.12609017693391905,
           -0.16023995392616963,
           -0.14298818751877956,
           -0.6847768705361267,
           0.8526532549827962,
           -0.8491528107360012,
           0.7794599914679914,
           -0.43194957721544375,
           0.2046438054998771,
           -0.6831721740803974,
           -0.05549118369065644,
           0.1567931871369146,
           -0.37315155359141267,
           0.21085895804603635,
           -0.07260141188035614,
           -0.10405769873332382,
           -0.4579988908682791,
           0.034218368051472735,
           -0.4799011055510016
          ],
          [
           -0.10046637602399931,
           -0.4345695566197511,
           -0.01427845524952263,
           -0.019927788348848702,
           -0.07432107439545585,
           -0.09652468773050842,
           -0.028802528928597314,
           0.0044552723037753345,
           0.015317262890764348,
           -0.06342859689445104,
           1,
           0.14592306822873163,
           -0.0005646378909257568,
           0.144673848891208,
           -0.010182826872479803,
           -0.05593173950637961,
           0.005900125571709331,
           -0.0660118130946508,
           -0.0330097684182197,
           -0.24536081271896878,
           -0.08311785738071288,
           -0.05562546809555888,
           0.1538069171276858,
           0.12259737260894119,
           0.033275449619110505,
           -0.08378977129109955,
           -0.034797294270563356,
           -0.14162190847476944,
           0.03385897431528419,
           -0.00493455186240929
          ],
          [
           0.22488931668321846,
           0.047724184214365674,
           -0.18685737802284635,
           -0.15457900610705236,
           -0.20432212729812396,
           -0.18563186168235923,
           -0.06811904556976182,
           -0.2714215088431607,
           -0.2753875533500259,
           -0.12609017693391905,
           0.14592306822873163,
           1,
           -0.019821852506797154,
           -0.07401500357126639,
           0.15917752597428253,
           -0.16447973047799738,
           0.24797111696494364,
           -0.07077128527776382,
           0.43615491043815313,
           -0.2941338217764158,
           0.26071353588796115,
           -0.07159329208457464,
           -0.011114111876796413,
           0.42485790265989387,
           0.07226389676697656,
           -0.04227465542072163,
           -0.07468930512151088,
           0.14167616719020934,
           -0.06558865583174578,
           0.39379382477742186
          ],
          [
           -0.017690161880891935,
           0.05184007975602488,
           0.5505920485677658,
           0.6054864405942135,
           -0.18121627484095254,
           -0.18280760278920466,
           0.9168570692123926,
           -0.02683308483125954,
           -0.01108342074562701,
           -0.16023995392616963,
           -0.0005646378909257568,
           -0.019821852506797154,
           1,
           -0.004062309629286542,
           0.2118810437391824,
           -0.15293357931075524,
           0.17575533555080192,
           -0.12158986939433926,
           0.20818993184422635,
           -0.09962627541905979,
           0.09186699004152758,
           0.6323263672955209,
           -0.007028135111603392,
           -0.11846780849503225,
           0.05123652102608784,
           0.03122064737774835,
           0.7842761108726205,
           0.13848070273231938,
           -0.0026122710844499113,
           0.165589959312447
          ],
          [
           0.009726970698803062,
           -0.047045796998776986,
           0.006121823668447511,
           0.05797376412893616,
           -0.08315551962694841,
           -0.035230894227914665,
           0.002429044836524981,
           -0.1970833776725306,
           -0.15822811881486154,
           -0.14298818751877956,
           0.144673848891208,
           -0.07401500357126639,
           -0.004062309629286542,
           1,
           -0.00914055207512817,
           -0.14059802479924297,
           0.09490654398899308,
           -0.17301284511659717,
           -0.06561462323641967,
           -0.1771534124265548,
           -0.026378350137556423,
           0.03960798754471861,
           0.2246477112623462,
           0.16977638322995925,
           -0.07030723164207268,
           -0.03466378801542856,
           0.02869013811700656,
           -0.13998285427282792,
           -0.04595762351756483,
           0.003477745691198208
          ],
          [
           0.10955466793762898,
           -0.11101493865185388,
           0.22046988644429957,
           0.11024693382246434,
           -0.7287552059650629,
           -0.22345711552561828,
           0.15514004661927766,
           0.024433777439018017,
           0.06508945758998845,
           -0.6847768705361267,
           -0.010182826872479803,
           0.15917752597428253,
           0.2118810437391824,
           -0.00914055207512817,
           1,
           -0.7150637675179776,
           0.7225347334725575,
           -0.5999508586665596,
           0.5430740323669304,
           -0.17598092362929785,
           0.7170813275603146,
           0.02511936905088925,
           -0.16114035297733617,
           0.28949167857823016,
           -0.03274521266107504,
           0.03843191773598013,
           0.09705105212106752,
           0.42800076868223264,
           -0.03034436813543936,
           0.46931626214942224
          ],
          [
           -0.1060764119757797,
           0.207010098698412,
           -0.06631040868739639,
           -0.07728334647696451,
           0.8674555265603551,
           -0.030603318611763675,
           -0.12386710506402948,
           0.19024715785680554,
           0.15888795850107548,
           0.8526532549827962,
           -0.05593173950637961,
           -0.16447973047799738,
           -0.15293357931075524,
           -0.14059802479924297,
           -0.7150637675179776,
           1,
           -0.9246753226745092,
           0.8741346316220248,
           -0.48223334104017046,
           0.3515087473263607,
           -0.6913821495436449,
           0.00467791114405916,
           0.12494450204725936,
           -0.3934029591774195,
           0.23738440010566458,
           0.0017662672760587054,
           -0.05737182485218992,
           -0.4363797787049228,
           0.03757760683841931,
           -0.49148949987642915
          ],
          [
           0.1698517976545266,
           -0.243771005942481,
           0.05492137501753023,
           0.07594326758564592,
           -0.8747472099732809,
           -0.03462357492796602,
           0.12189112647545508,
           -0.18165628963082334,
           -0.1500871704753452,
           -0.8491528107360012,
           0.005900125571709331,
           0.24797111696494364,
           0.17575533555080192,
           0.09490654398899308,
           0.7225347334725575,
           -0.9246753226745092,
           1,
           -0.831796516119412,
           0.599968609698126,
           -0.3261615313088377,
           0.7037402285399244,
           0.00881582070526689,
           -0.15481841603546004,
           0.36398014715597365,
           -0.18853543177860896,
           -0.0401523335298966,
           0.07046306818978026,
           0.4727594253259714,
           -0.07248331288348016,
           0.6150745488163301
          ],
          [
           -0.09242897234143395,
           0.21317035013717409,
           -0.05419009735169884,
           -0.10496887733920142,
           0.7680784191625778,
           -0.13096164838981283,
           -0.10833368588875683,
           0.3078595906354449,
           0.2278101399890272,
           0.7794599914679914,
           -0.0660118130946508,
           -0.07077128527776382,
           -0.12158986939433926,
           -0.17301284511659717,
           -0.5999508586665596,
           0.8741346316220248,
           -0.831796516119412,
           1,
           -0.3578877994588661,
           0.28128286487533094,
           -0.5829194261412547,
           -0.02381035510372965,
           0.18743991931918086,
           -0.3837121577336912,
           0.20817600137680942,
           -0.03668885101337378,
           -0.06721276666801002,
           -0.33012727132385566,
           -0.015929625384918395,
           -0.40393764705762536
          ],
          [
           0.2749666859015908,
           -0.02677995163518461,
           0.11894888303387675,
           -0.020527979996241365,
           -0.5030703758948283,
           -0.1901728385748764,
           0.08381563723154822,
           -0.1342843446106343,
           -0.10441426154896023,
           -0.43194957721544375,
           -0.0330097684182197,
           0.43615491043815313,
           0.20818993184422635,
           -0.06561462323641967,
           0.5430740323669304,
           -0.48223334104017046,
           0.599968609698126,
           -0.3578877994588661,
           1,
           -0.4335132909240309,
           0.4709337285856794,
           -0.04727222829666676,
           -0.059727489905555,
           0.297307550156931,
           -0.06897275417307529,
           -0.05590394845923886,
           0.008586078010276908,
           0.2852506621847613,
           0.001698684035270202,
           0.8390841790184612
          ],
          [
           -0.09210077164335703,
           0.13517979590255053,
           -0.01386748520915807,
           0.15436744447591005,
           0.2561977325180187,
           0.013550548039822044,
           -0.03299470911853679,
           0.1616808849658275,
           0.13658278912204438,
           0.2046438054998771,
           -0.24536081271896878,
           -0.2941338217764158,
           -0.09962627541905979,
           -0.1771534124265548,
           -0.17598092362929785,
           0.3515087473263607,
           -0.3261615313088377,
           0.28128286487533094,
           -0.4335132909240309,
           1,
           -0.18671211505393653,
           0.13172812298428005,
           -0.20387169161074145,
           -0.35479241026922204,
           0.2512542928446632,
           0.027945945355559162,
           0.06465969745255111,
           0.11212563962983682,
           0.022568232623897403,
           -0.36883436196948927
          ],
          [
           0.20597055933051595,
           -0.03650297651495171,
           0.07200585832248317,
           0.013847758932371727,
           -0.7402898098630792,
           -0.041555563159985605,
           0.06251045575357268,
           -0.07798002660066293,
           -0.04001911765071645,
           -0.6831721740803974,
           -0.08311785738071288,
           0.26071353588796115,
           0.09186699004152758,
           -0.026378350137556423,
           0.7170813275603146,
           -0.6913821495436449,
           0.7037402285399244,
           -0.5829194261412547,
           0.4709337285856794,
           -0.18671211505393653,
           1,
           -0.04930701726492662,
           -0.15260379858659387,
           0.29368861413705066,
           -0.10810395740133574,
           0.0022947586933640624,
           0.0004626464613889709,
           0.5265650780680575,
           -0.06437972299070416,
           0.556509883265962
          ],
          [
           -0.017605559100086845,
           0.11750574402895961,
           0.44672144052312407,
           0.8759115892124134,
           -0.053262604338168255,
           -0.16615862291060807,
           0.80994384723593,
           -0.004924577955154276,
           0.005617500193554837,
           -0.05549118369065644,
           -0.05562546809555888,
           -0.07159329208457464,
           0.6323263672955209,
           0.03960798754471861,
           0.02511936905088925,
           0.00467791114405916,
           0.00881582070526689,
           -0.02381035510372965,
           -0.04727222829666676,
           0.13172812298428005,
           -0.04930701726492662,
           1,
           -0.057189435024005204,
           -0.1900381784677562,
           0.08207193709784827,
           -0.04228953810253133,
           0.9542038286243826,
           0.044698093103120375,
           0.12348789088424242,
           -0.039340517757492775
          ],
          [
           0.0650844800363368,
           -0.11201646061722971,
           -0.007051641879305005,
           -0.08297515427902631,
           0.17130192254559698,
           0.052421989367547134,
           -0.013713190364026216,
           0.02136914373679942,
           -0.016332172083484177,
           0.1567931871369146,
           0.1538069171276858,
           -0.011114111876796413,
           -0.007028135111603392,
           0.2246477112623462,
           -0.16114035297733617,
           0.12494450204725936,
           -0.15481841603546004,
           0.18743991931918086,
           -0.059727489905555,
           -0.20387169161074145,
           -0.15260379858659387,
           -0.057189435024005204,
           1,
           -0.12145682536868387,
           -0.17422970286853567,
           -0.43414215267242434,
           -0.048768112810237504,
           -0.28424499549103954,
           0.08973255239776305,
           0.04713552908214044
          ],
          [
           -0.036935297384000886,
           -0.05610443582970106,
           -0.1685665587504512,
           -0.18296862241973064,
           -0.37510268718766954,
           -0.048854825926843815,
           -0.14408065564680678,
           -0.20885255242971146,
           -0.24125452069668274,
           -0.37315155359141267,
           0.12259737260894119,
           0.42485790265989387,
           -0.11846780849503225,
           0.16977638322995925,
           0.28949167857823016,
           -0.3934029591774195,
           0.36398014715597365,
           -0.3837121577336912,
           0.297307550156931,
           -0.35479241026922204,
           0.29368861413705066,
           -0.1900381784677562,
           -0.12145682536868387,
           1,
           -0.1170026973611229,
           0.22580372349144062,
           -0.18457262447660172,
           0.051082607759278205,
           -0.07339486053034325,
           0.22014981285663224
          ],
          [
           -0.08280933515418057,
           0.16713907948797377,
           0.0899321754816637,
           0.15867364695669575,
           0.19960839980030928,
           -0.24474887210686896,
           0.06149518660625572,
           0.043006133454534516,
           0.11701228406163336,
           0.21085895804603635,
           0.033275449619110505,
           0.07226389676697656,
           0.05123652102608784,
           -0.07030723164207268,
           -0.03274521266107504,
           0.23738440010566458,
           -0.18853543177860896,
           0.20817600137680942,
           -0.06897275417307529,
           0.2512542928446632,
           -0.10810395740133574,
           0.08207193709784827,
           -0.17422970286853567,
           -0.1170026973611229,
           1,
           -0.03437837127587629,
           0.09864514366862649,
           -0.10538175412360377,
           -0.08467234790973105,
           -0.18581953787636327
          ],
          [
           -0.10308354328981455,
           0.06204879613226355,
           0.042922134508979255,
           -0.02501060855186409,
           -0.04345805334756265,
           -0.11519069969752607,
           0.0064805541294844955,
           0.12015614072662614,
           0.11191991708040616,
           -0.07260141188035614,
           -0.08378977129109955,
           -0.04227465542072163,
           0.03122064737774835,
           -0.03466378801542856,
           0.03843191773598013,
           0.0017662672760587054,
           -0.0401523335298966,
           -0.03668885101337378,
           -0.05590394845923886,
           0.027945945355559162,
           0.0022947586933640624,
           -0.04228953810253133,
           -0.43414215267242434,
           0.22580372349144062,
           -0.03437837127587629,
           1,
           -0.014622190857421275,
           -0.06549645825835045,
           -0.19061837106267387,
           -0.12773189336059224
          ],
          [
           -0.022419575352949535,
           0.10167851594877311,
           0.546836346860166,
           0.8511006615536322,
           -0.10760921281694974,
           -0.19167596613296026,
           0.9262633038353735,
           -0.0092982818633221,
           0.007352941560620316,
           -0.10405769873332382,
           -0.034797294270563356,
           -0.07468930512151088,
           0.7842761108726205,
           0.02869013811700656,
           0.09705105212106752,
           -0.05737182485218992,
           0.07046306818978026,
           -0.06721276666801002,
           0.008586078010276908,
           0.06465969745255111,
           0.0004626464613889709,
           0.9542038286243826,
           -0.048768112810237504,
           -0.18457262447660172,
           0.09864514366862649,
           -0.014622190857421275,
           1,
           0.06690109999311905,
           0.09744622979526754,
           0.0020135841046759343
          ],
          [
           0.06464019217783533,
           -0.03472540437879649,
           0.049250791617526074,
           0.1201653116874463,
           -0.5029646904346391,
           0.012972561504435818,
           0.11871533698008713,
           -0.07554890045486769,
           -0.08956964497509048,
           -0.4579988908682791,
           -0.14162190847476944,
           0.14167616719020934,
           0.13848070273231938,
           -0.13998285427282792,
           0.42800076868223264,
           -0.4363797787049228,
           0.4727594253259714,
           -0.33012727132385566,
           0.2852506621847613,
           0.11212563962983682,
           0.5265650780680575,
           0.044698093103120375,
           -0.28424499549103954,
           0.051082607759278205,
           -0.10538175412360377,
           -0.06549645825835045,
           0.06690109999311905,
           1,
           0.013635102124227503,
           0.3889113872664195
          ],
          [
           0.03193968473007721,
           -0.016716226246893402,
           0.010435087537713236,
           0.20826475697216054,
           0.03924710236710117,
           0.19423644037547527,
           0.07434475897718455,
           -0.022809364512860066,
           -0.07652381049110235,
           0.034218368051472735,
           0.03385897431528419,
           -0.06558865583174578,
           -0.0026122710844499113,
           -0.04595762351756483,
           -0.03034436813543936,
           0.03757760683841931,
           -0.07248331288348016,
           -0.015929625384918395,
           0.001698684035270202,
           0.022568232623897403,
           -0.06437972299070416,
           0.12348789088424242,
           0.08973255239776305,
           -0.07339486053034325,
           -0.08467234790973105,
           -0.19061837106267387,
           0.09744622979526754,
           0.013635102124227503,
           1,
           -0.03252131531946593
          ],
          [
           0.5093882161768769,
           -0.1846104103125058,
           0.04228648022274956,
           -0.031141139512179162,
           -0.5170628490298681,
           -0.11838575874204063,
           0.09422496392732246,
           -0.0924987535457676,
           -0.08590371043643119,
           -0.4799011055510016,
           -0.00493455186240929,
           0.39379382477742186,
           0.165589959312447,
           0.003477745691198208,
           0.46931626214942224,
           -0.49148949987642915,
           0.6150745488163301,
           -0.40393764705762536,
           0.8390841790184612,
           -0.36883436196948927,
           0.556509883265962,
           -0.039340517757492775,
           0.04713552908214044,
           0.22014981285663224,
           -0.18581953787636327,
           -0.12773189336059224,
           0.0020135841046759343,
           0.3889113872664195,
           -0.03252131531946593,
           1
          ]
         ]
        }
       ],
       "layout": {
        "coloraxis": {
         "colorscale": [
          [
           0,
           "rgb(247,251,255)"
          ],
          [
           0.125,
           "rgb(222,235,247)"
          ],
          [
           0.25,
           "rgb(198,219,239)"
          ],
          [
           0.375,
           "rgb(158,202,225)"
          ],
          [
           0.5,
           "rgb(107,174,214)"
          ],
          [
           0.625,
           "rgb(66,146,198)"
          ],
          [
           0.75,
           "rgb(33,113,181)"
          ],
          [
           0.875,
           "rgb(8,81,156)"
          ],
          [
           1,
           "rgb(8,48,107)"
          ]
         ]
        },
        "height": 1000,
        "margin": {
         "t": 60
        },
        "template": {
         "data": {
          "bar": [
           {
            "error_x": {
             "color": "#2a3f5f"
            },
            "error_y": {
             "color": "#2a3f5f"
            },
            "marker": {
             "line": {
              "color": "#E5ECF6",
              "width": 0.5
             },
             "pattern": {
              "fillmode": "overlay",
              "size": 10,
              "solidity": 0.2
             }
            },
            "type": "bar"
           }
          ],
          "barpolar": [
           {
            "marker": {
             "line": {
              "color": "#E5ECF6",
              "width": 0.5
             },
             "pattern": {
              "fillmode": "overlay",
              "size": 10,
              "solidity": 0.2
             }
            },
            "type": "barpolar"
           }
          ],
          "carpet": [
           {
            "aaxis": {
             "endlinecolor": "#2a3f5f",
             "gridcolor": "white",
             "linecolor": "white",
             "minorgridcolor": "white",
             "startlinecolor": "#2a3f5f"
            },
            "baxis": {
             "endlinecolor": "#2a3f5f",
             "gridcolor": "white",
             "linecolor": "white",
             "minorgridcolor": "white",
             "startlinecolor": "#2a3f5f"
            },
            "type": "carpet"
           }
          ],
          "choropleth": [
           {
            "colorbar": {
             "outlinewidth": 0,
             "ticks": ""
            },
            "type": "choropleth"
           }
          ],
          "contour": [
           {
            "colorbar": {
             "outlinewidth": 0,
             "ticks": ""
            },
            "colorscale": [
             [
              0,
              "#0d0887"
             ],
             [
              0.1111111111111111,
              "#46039f"
             ],
             [
              0.2222222222222222,
              "#7201a8"
             ],
             [
              0.3333333333333333,
              "#9c179e"
             ],
             [
              0.4444444444444444,
              "#bd3786"
             ],
             [
              0.5555555555555556,
              "#d8576b"
             ],
             [
              0.6666666666666666,
              "#ed7953"
             ],
             [
              0.7777777777777778,
              "#fb9f3a"
             ],
             [
              0.8888888888888888,
              "#fdca26"
             ],
             [
              1,
              "#f0f921"
             ]
            ],
            "type": "contour"
           }
          ],
          "contourcarpet": [
           {
            "colorbar": {
             "outlinewidth": 0,
             "ticks": ""
            },
            "type": "contourcarpet"
           }
          ],
          "heatmap": [
           {
            "colorbar": {
             "outlinewidth": 0,
             "ticks": ""
            },
            "colorscale": [
             [
              0,
              "#0d0887"
             ],
             [
              0.1111111111111111,
              "#46039f"
             ],
             [
              0.2222222222222222,
              "#7201a8"
             ],
             [
              0.3333333333333333,
              "#9c179e"
             ],
             [
              0.4444444444444444,
              "#bd3786"
             ],
             [
              0.5555555555555556,
              "#d8576b"
             ],
             [
              0.6666666666666666,
              "#ed7953"
             ],
             [
              0.7777777777777778,
              "#fb9f3a"
             ],
             [
              0.8888888888888888,
              "#fdca26"
             ],
             [
              1,
              "#f0f921"
             ]
            ],
            "type": "heatmap"
           }
          ],
          "heatmapgl": [
           {
            "colorbar": {
             "outlinewidth": 0,
             "ticks": ""
            },
            "colorscale": [
             [
              0,
              "#0d0887"
             ],
             [
              0.1111111111111111,
              "#46039f"
             ],
             [
              0.2222222222222222,
              "#7201a8"
             ],
             [
              0.3333333333333333,
              "#9c179e"
             ],
             [
              0.4444444444444444,
              "#bd3786"
             ],
             [
              0.5555555555555556,
              "#d8576b"
             ],
             [
              0.6666666666666666,
              "#ed7953"
             ],
             [
              0.7777777777777778,
              "#fb9f3a"
             ],
             [
              0.8888888888888888,
              "#fdca26"
             ],
             [
              1,
              "#f0f921"
             ]
            ],
            "type": "heatmapgl"
           }
          ],
          "histogram": [
           {
            "marker": {
             "pattern": {
              "fillmode": "overlay",
              "size": 10,
              "solidity": 0.2
             }
            },
            "type": "histogram"
           }
          ],
          "histogram2d": [
           {
            "colorbar": {
             "outlinewidth": 0,
             "ticks": ""
            },
            "colorscale": [
             [
              0,
              "#0d0887"
             ],
             [
              0.1111111111111111,
              "#46039f"
             ],
             [
              0.2222222222222222,
              "#7201a8"
             ],
             [
              0.3333333333333333,
              "#9c179e"
             ],
             [
              0.4444444444444444,
              "#bd3786"
             ],
             [
              0.5555555555555556,
              "#d8576b"
             ],
             [
              0.6666666666666666,
              "#ed7953"
             ],
             [
              0.7777777777777778,
              "#fb9f3a"
             ],
             [
              0.8888888888888888,
              "#fdca26"
             ],
             [
              1,
              "#f0f921"
             ]
            ],
            "type": "histogram2d"
           }
          ],
          "histogram2dcontour": [
           {
            "colorbar": {
             "outlinewidth": 0,
             "ticks": ""
            },
            "colorscale": [
             [
              0,
              "#0d0887"
             ],
             [
              0.1111111111111111,
              "#46039f"
             ],
             [
              0.2222222222222222,
              "#7201a8"
             ],
             [
              0.3333333333333333,
              "#9c179e"
             ],
             [
              0.4444444444444444,
              "#bd3786"
             ],
             [
              0.5555555555555556,
              "#d8576b"
             ],
             [
              0.6666666666666666,
              "#ed7953"
             ],
             [
              0.7777777777777778,
              "#fb9f3a"
             ],
             [
              0.8888888888888888,
              "#fdca26"
             ],
             [
              1,
              "#f0f921"
             ]
            ],
            "type": "histogram2dcontour"
           }
          ],
          "mesh3d": [
           {
            "colorbar": {
             "outlinewidth": 0,
             "ticks": ""
            },
            "type": "mesh3d"
           }
          ],
          "parcoords": [
           {
            "line": {
             "colorbar": {
              "outlinewidth": 0,
              "ticks": ""
             }
            },
            "type": "parcoords"
           }
          ],
          "pie": [
           {
            "automargin": true,
            "type": "pie"
           }
          ],
          "scatter": [
           {
            "fillpattern": {
             "fillmode": "overlay",
             "size": 10,
             "solidity": 0.2
            },
            "type": "scatter"
           }
          ],
          "scatter3d": [
           {
            "line": {
             "colorbar": {
              "outlinewidth": 0,
              "ticks": ""
             }
            },
            "marker": {
             "colorbar": {
              "outlinewidth": 0,
              "ticks": ""
             }
            },
            "type": "scatter3d"
           }
          ],
          "scattercarpet": [
           {
            "marker": {
             "colorbar": {
              "outlinewidth": 0,
              "ticks": ""
             }
            },
            "type": "scattercarpet"
           }
          ],
          "scattergeo": [
           {
            "marker": {
             "colorbar": {
              "outlinewidth": 0,
              "ticks": ""
             }
            },
            "type": "scattergeo"
           }
          ],
          "scattergl": [
           {
            "marker": {
             "colorbar": {
              "outlinewidth": 0,
              "ticks": ""
             }
            },
            "type": "scattergl"
           }
          ],
          "scattermapbox": [
           {
            "marker": {
             "colorbar": {
              "outlinewidth": 0,
              "ticks": ""
             }
            },
            "type": "scattermapbox"
           }
          ],
          "scatterpolar": [
           {
            "marker": {
             "colorbar": {
              "outlinewidth": 0,
              "ticks": ""
             }
            },
            "type": "scatterpolar"
           }
          ],
          "scatterpolargl": [
           {
            "marker": {
             "colorbar": {
              "outlinewidth": 0,
              "ticks": ""
             }
            },
            "type": "scatterpolargl"
           }
          ],
          "scatterternary": [
           {
            "marker": {
             "colorbar": {
              "outlinewidth": 0,
              "ticks": ""
             }
            },
            "type": "scatterternary"
           }
          ],
          "surface": [
           {
            "colorbar": {
             "outlinewidth": 0,
             "ticks": ""
            },
            "colorscale": [
             [
              0,
              "#0d0887"
             ],
             [
              0.1111111111111111,
              "#46039f"
             ],
             [
              0.2222222222222222,
              "#7201a8"
             ],
             [
              0.3333333333333333,
              "#9c179e"
             ],
             [
              0.4444444444444444,
              "#bd3786"
             ],
             [
              0.5555555555555556,
              "#d8576b"
             ],
             [
              0.6666666666666666,
              "#ed7953"
             ],
             [
              0.7777777777777778,
              "#fb9f3a"
             ],
             [
              0.8888888888888888,
              "#fdca26"
             ],
             [
              1,
              "#f0f921"
             ]
            ],
            "type": "surface"
           }
          ],
          "table": [
           {
            "cells": {
             "fill": {
              "color": "#EBF0F8"
             },
             "line": {
              "color": "white"
             }
            },
            "header": {
             "fill": {
              "color": "#C8D4E3"
             },
             "line": {
              "color": "white"
             }
            },
            "type": "table"
           }
          ]
         },
         "layout": {
          "annotationdefaults": {
           "arrowcolor": "#2a3f5f",
           "arrowhead": 0,
           "arrowwidth": 1
          },
          "autotypenumbers": "strict",
          "coloraxis": {
           "colorbar": {
            "outlinewidth": 0,
            "ticks": ""
           }
          },
          "colorscale": {
           "diverging": [
            [
             0,
             "#8e0152"
            ],
            [
             0.1,
             "#c51b7d"
            ],
            [
             0.2,
             "#de77ae"
            ],
            [
             0.3,
             "#f1b6da"
            ],
            [
             0.4,
             "#fde0ef"
            ],
            [
             0.5,
             "#f7f7f7"
            ],
            [
             0.6,
             "#e6f5d0"
            ],
            [
             0.7,
             "#b8e186"
            ],
            [
             0.8,
             "#7fbc41"
            ],
            [
             0.9,
             "#4d9221"
            ],
            [
             1,
             "#276419"
            ]
           ],
           "sequential": [
            [
             0,
             "#0d0887"
            ],
            [
             0.1111111111111111,
             "#46039f"
            ],
            [
             0.2222222222222222,
             "#7201a8"
            ],
            [
             0.3333333333333333,
             "#9c179e"
            ],
            [
             0.4444444444444444,
             "#bd3786"
            ],
            [
             0.5555555555555556,
             "#d8576b"
            ],
            [
             0.6666666666666666,
             "#ed7953"
            ],
            [
             0.7777777777777778,
             "#fb9f3a"
            ],
            [
             0.8888888888888888,
             "#fdca26"
            ],
            [
             1,
             "#f0f921"
            ]
           ],
           "sequentialminus": [
            [
             0,
             "#0d0887"
            ],
            [
             0.1111111111111111,
             "#46039f"
            ],
            [
             0.2222222222222222,
             "#7201a8"
            ],
            [
             0.3333333333333333,
             "#9c179e"
            ],
            [
             0.4444444444444444,
             "#bd3786"
            ],
            [
             0.5555555555555556,
             "#d8576b"
            ],
            [
             0.6666666666666666,
             "#ed7953"
            ],
            [
             0.7777777777777778,
             "#fb9f3a"
            ],
            [
             0.8888888888888888,
             "#fdca26"
            ],
            [
             1,
             "#f0f921"
            ]
           ]
          },
          "colorway": [
           "#636efa",
           "#EF553B",
           "#00cc96",
           "#ab63fa",
           "#FFA15A",
           "#19d3f3",
           "#FF6692",
           "#B6E880",
           "#FF97FF",
           "#FECB52"
          ],
          "font": {
           "color": "#2a3f5f"
          },
          "geo": {
           "bgcolor": "white",
           "lakecolor": "white",
           "landcolor": "#E5ECF6",
           "showlakes": true,
           "showland": true,
           "subunitcolor": "white"
          },
          "hoverlabel": {
           "align": "left"
          },
          "hovermode": "closest",
          "mapbox": {
           "style": "light"
          },
          "paper_bgcolor": "white",
          "plot_bgcolor": "#E5ECF6",
          "polar": {
           "angularaxis": {
            "gridcolor": "white",
            "linecolor": "white",
            "ticks": ""
           },
           "bgcolor": "#E5ECF6",
           "radialaxis": {
            "gridcolor": "white",
            "linecolor": "white",
            "ticks": ""
           }
          },
          "scene": {
           "xaxis": {
            "backgroundcolor": "#E5ECF6",
            "gridcolor": "white",
            "gridwidth": 2,
            "linecolor": "white",
            "showbackground": true,
            "ticks": "",
            "zerolinecolor": "white"
           },
           "yaxis": {
            "backgroundcolor": "#E5ECF6",
            "gridcolor": "white",
            "gridwidth": 2,
            "linecolor": "white",
            "showbackground": true,
            "ticks": "",
            "zerolinecolor": "white"
           },
           "zaxis": {
            "backgroundcolor": "#E5ECF6",
            "gridcolor": "white",
            "gridwidth": 2,
            "linecolor": "white",
            "showbackground": true,
            "ticks": "",
            "zerolinecolor": "white"
           }
          },
          "shapedefaults": {
           "line": {
            "color": "#2a3f5f"
           }
          },
          "ternary": {
           "aaxis": {
            "gridcolor": "white",
            "linecolor": "white",
            "ticks": ""
           },
           "baxis": {
            "gridcolor": "white",
            "linecolor": "white",
            "ticks": ""
           },
           "bgcolor": "#E5ECF6",
           "caxis": {
            "gridcolor": "white",
            "linecolor": "white",
            "ticks": ""
           }
          },
          "title": {
           "x": 0.05
          },
          "xaxis": {
           "automargin": true,
           "gridcolor": "white",
           "linecolor": "white",
           "ticks": "",
           "title": {
            "standoff": 15
           },
           "zerolinecolor": "white",
           "zerolinewidth": 2
          },
          "yaxis": {
           "automargin": true,
           "gridcolor": "white",
           "linecolor": "white",
           "ticks": "",
           "title": {
            "standoff": 15
           },
           "zerolinecolor": "white",
           "zerolinewidth": 2
          }
         }
        },
        "xaxis": {
         "anchor": "y",
         "constrain": "domain",
         "domain": [
          0,
          1
         ],
         "scaleanchor": "y"
        },
        "yaxis": {
         "anchor": "x",
         "autorange": "reversed",
         "constrain": "domain",
         "domain": [
          0,
          1
         ]
        }
       }
      }
     },
     "metadata": {},
     "output_type": "display_data"
    }
   ],
   "source": [
    "# Ubah semua koma, simbol persen, simbol dolar, dan spasi menjadi string kosong\n",
    "df = df.replace(',|%|\\$| ','', regex=True)\n",
    "\n",
    "numeric_columns = [\n",
    "    'Density\\n(P/Km2)', 'Agricultural Land( %)', 'Land Area(Km2)', 'Armed Forces size', 'Birth Rate', \n",
    "    'Calling Code', 'Co2-Emissions', 'CPI', 'CPI Change (%)', 'Fertility Rate', 'Forested Area (%)', \n",
    "    'Gasoline Price', 'GDP', 'Gross primary education enrollment (%)', \n",
    "    'Gross tertiary education enrollment (%)', 'Infant mortality', 'Life expectancy', \n",
    "    'Maternal mortality ratio', 'Minimum wage', 'Out of pocket health expenditure', \n",
    "    'Physicians per thousand', 'Population', 'Population: Labor force participation (%)', \n",
    "    'Tax revenue (%)', 'Total tax rate', 'Unemployment rate', 'Urban_population', \n",
    "    'Latitude', 'Longitude', 'GDP_per_Capita'\n",
    "]\n",
    "\n",
    "# Ubah kolom numerik menjadi float\n",
    "for col in numeric_columns:\n",
    "    df[col] = df[col].astype(float)\n",
    "\n",
    "fig = px.imshow(df[numeric_columns].corr(), color_continuous_scale=\"Blues\")\n",
    "fig.update_layout(height=1000)\n",
    "fig.show()\n"
   ]
  },
  {
   "cell_type": "markdown",
   "id": "90436dfe",
   "metadata": {},
   "source": [
    "Matriks Korelasi sangat penting untuk menemukan keterkaitan yang erat antara variabel satu dengan variabel yang lain. Matriks korelasi biasa ditampilkan dalam format tabel dapat lebih mudah untuk dibaca dan dipahami sehingga dapat membuat para *stakeholder* untuk memprediksi apa yang akan terjadi di masa depan. Karena semakin banyak dan rinci data yang disajikan maka keputusan penting yang dibuat akan lebih mudah."
   ]
  },
  {
   "cell_type": "markdown",
   "id": "fea12238",
   "metadata": {
    "papermill": {
     "duration": 0.0099,
     "end_time": "2023-08-28T11:18:45.694326",
     "exception": false,
     "start_time": "2023-08-28T11:18:45.684426",
     "status": "completed"
    },
    "tags": []
   },
   "source": [
    "<font size=\"+3\" color=\"#fccf03\"><b>3 <span style='color:#4285f4; font-weight:bold'>|</span> Exploratory Analysis / EDA </b></font><br><a id=\"1\"></a>"
   ]
  },
  {
   "cell_type": "code",
   "execution_count": 64,
   "id": "be6df7b5",
   "metadata": {
    "_kg_hide-input": true,
    "execution": {
     "iopub.execute_input": "2023-08-28T11:18:45.716783Z",
     "iopub.status.busy": "2023-08-28T11:18:45.716116Z",
     "iopub.status.idle": "2023-08-28T11:18:47.955545Z",
     "shell.execute_reply": "2023-08-28T11:18:47.954291Z"
    },
    "papermill": {
     "duration": 2.253613,
     "end_time": "2023-08-28T11:18:47.957971",
     "exception": false,
     "start_time": "2023-08-28T11:18:45.704358",
     "status": "completed"
    },
    "tags": []
   },
   "outputs": [
    {
     "data": {
      "application/vnd.plotly.v1+json": {
       "config": {
        "plotlyServerURL": "https://plot.ly"
       },
       "data": [
        {
         "customdata": [
          [
           "Afghanistan"
          ],
          [
           "Albania"
          ],
          [
           "Algeria"
          ],
          [
           "Andorra"
          ],
          [
           "Angola"
          ],
          [
           "AntiguaandBarbuda"
          ],
          [
           "Argentina"
          ],
          [
           "Armenia"
          ],
          [
           "Australia"
          ],
          [
           "Austria"
          ],
          [
           "Azerbaijan"
          ],
          [
           "TheBahamas"
          ],
          [
           "Bahrain"
          ],
          [
           "Bangladesh"
          ],
          [
           "Barbados"
          ],
          [
           "Belarus"
          ],
          [
           "Belgium"
          ],
          [
           "Belize"
          ],
          [
           "Benin"
          ],
          [
           "Bhutan"
          ],
          [
           "Bolivia"
          ],
          [
           "BosniaandHerzegovina"
          ],
          [
           "Botswana"
          ],
          [
           "Brazil"
          ],
          [
           "Brunei"
          ],
          [
           "Bulgaria"
          ],
          [
           "BurkinaFaso"
          ],
          [
           "Burundi"
          ],
          [
           "IvoryCoast"
          ],
          [
           "CapeVerde"
          ],
          [
           "Cambodia"
          ],
          [
           "Cameroon"
          ],
          [
           "Canada"
          ],
          [
           "CentralAfricanRepublic"
          ],
          [
           "Chad"
          ],
          [
           "Chile"
          ],
          [
           "China"
          ],
          [
           "Colombia"
          ],
          [
           "Comoros"
          ],
          [
           "RepublicoftheCongo"
          ],
          [
           "CostaRica"
          ],
          [
           "Croatia"
          ],
          [
           "Cuba"
          ],
          [
           "Cyprus"
          ],
          [
           "CzechRepublic"
          ],
          [
           "DemocraticRepublicoftheCongo"
          ],
          [
           "Denmark"
          ],
          [
           "Djibouti"
          ],
          [
           "Dominica"
          ],
          [
           "DominicanRepublic"
          ],
          [
           "Ecuador"
          ],
          [
           "Egypt"
          ],
          [
           "ElSalvador"
          ],
          [
           "EquatorialGuinea"
          ],
          [
           "Eritrea"
          ],
          [
           "Estonia"
          ],
          [
           "Eswatini"
          ],
          [
           "Ethiopia"
          ],
          [
           "Fiji"
          ],
          [
           "Finland"
          ],
          [
           "France"
          ],
          [
           "Gabon"
          ],
          [
           "TheGambia"
          ],
          [
           "Georgia"
          ],
          [
           "Germany"
          ],
          [
           "Ghana"
          ],
          [
           "Greece"
          ],
          [
           "Grenada"
          ],
          [
           "Guatemala"
          ],
          [
           "Guinea"
          ],
          [
           "Guinea-Bissau"
          ],
          [
           "Guyana"
          ],
          [
           "Haiti"
          ],
          [
           "VaticanCity"
          ],
          [
           "Honduras"
          ],
          [
           "Hungary"
          ],
          [
           "Iceland"
          ],
          [
           "India"
          ],
          [
           "Indonesia"
          ],
          [
           "Iran"
          ],
          [
           "Iraq"
          ],
          [
           "RepublicofIreland"
          ],
          [
           "Israel"
          ],
          [
           "Italy"
          ],
          [
           "Jamaica"
          ],
          [
           "Japan"
          ],
          [
           "Jordan"
          ],
          [
           "Kazakhstan"
          ],
          [
           "Kenya"
          ],
          [
           "Kiribati"
          ],
          [
           "Kuwait"
          ],
          [
           "Kyrgyzstan"
          ],
          [
           "Laos"
          ],
          [
           "Latvia"
          ],
          [
           "Lebanon"
          ],
          [
           "Lesotho"
          ],
          [
           "Liberia"
          ],
          [
           "Libya"
          ],
          [
           "Liechtenstein"
          ],
          [
           "Lithuania"
          ],
          [
           "Luxembourg"
          ],
          [
           "Madagascar"
          ],
          [
           "Malawi"
          ],
          [
           "Malaysia"
          ],
          [
           "Maldives"
          ],
          [
           "Mali"
          ],
          [
           "Malta"
          ],
          [
           "MarshallIslands"
          ],
          [
           "Mauritania"
          ],
          [
           "Mauritius"
          ],
          [
           "Mexico"
          ],
          [
           "FederatedStatesofMicronesia"
          ],
          [
           "Moldova"
          ],
          [
           "Monaco"
          ],
          [
           "Mongolia"
          ],
          [
           "Montenegro"
          ],
          [
           "Morocco"
          ],
          [
           "Mozambique"
          ],
          [
           "Myanmar"
          ],
          [
           "Namibia"
          ],
          [
           "Nauru"
          ],
          [
           "Nepal"
          ],
          [
           "Netherlands"
          ],
          [
           "NewZealand"
          ],
          [
           "Nicaragua"
          ],
          [
           "Niger"
          ],
          [
           "Nigeria"
          ],
          [
           "NorthKorea"
          ],
          [
           "NorthMacedonia"
          ],
          [
           "Norway"
          ],
          [
           "Oman"
          ],
          [
           "Pakistan"
          ],
          [
           "Palau"
          ],
          [
           "PalestinianNationalAuthority"
          ],
          [
           "Panama"
          ],
          [
           "PapuaNewGuinea"
          ],
          [
           "Paraguay"
          ],
          [
           "Peru"
          ],
          [
           "Philippines"
          ],
          [
           "Poland"
          ],
          [
           "Portugal"
          ],
          [
           "Qatar"
          ],
          [
           "Romania"
          ],
          [
           "Russia"
          ],
          [
           "Rwanda"
          ],
          [
           "SaintKittsandNevis"
          ],
          [
           "SaintLucia"
          ],
          [
           "SaintVincentandtheGrenadines"
          ],
          [
           "Samoa"
          ],
          [
           "SanMarino"
          ],
          [
           "SaoTomedanPrincipe"
          ],
          [
           "SaudiArabia"
          ],
          [
           "Senegal"
          ],
          [
           "Serbia"
          ],
          [
           "Seychelles"
          ],
          [
           "SierraLeone"
          ],
          [
           "Singapore"
          ],
          [
           "Slovakia"
          ],
          [
           "Slovenia"
          ],
          [
           "SolomonIslands"
          ],
          [
           "Somalia"
          ],
          [
           "SouthAfrica"
          ],
          [
           "SouthKorea"
          ],
          [
           "SouthSudan"
          ],
          [
           "Spain"
          ],
          [
           "SriLanka"
          ],
          [
           "Sudan"
          ],
          [
           "Suriname"
          ],
          [
           "Sweden"
          ],
          [
           "Switzerland"
          ],
          [
           "Syria"
          ],
          [
           "Tajikistan"
          ],
          [
           "Tanzania"
          ],
          [
           "Thailand"
          ],
          [
           "EastTimor"
          ],
          [
           "Togo"
          ],
          [
           "Tonga"
          ],
          [
           "TrinidadandTobago"
          ],
          [
           "Tunisia"
          ],
          [
           "Turkey"
          ],
          [
           "Turkmenistan"
          ],
          [
           "Tuvalu"
          ],
          [
           "Uganda"
          ],
          [
           "Ukraine"
          ],
          [
           "UnitedArabEmirates"
          ],
          [
           "UnitedKingdom"
          ],
          [
           "UnitedStates"
          ],
          [
           "Uruguay"
          ],
          [
           "Uzbekistan"
          ],
          [
           "Vanuatu"
          ],
          [
           "Venezuela"
          ],
          [
           "Vietnam"
          ],
          [
           "Yemen"
          ],
          [
           "Zambia"
          ],
          [
           "Zimbabwe"
          ]
         ],
         "hovertemplate": "Physicians per thousand=%{x}<br>Birth Rate=%{y}<br>Country=%{customdata[0]}<br>GDP_per_Capita=%{marker.color}<extra></extra>",
         "legendgroup": "",
         "marker": {
          "color": [
           502.11548691997746,
           5352.857411084262,
           3948.3432789227913,
           40886.39116175365,
           2973.591159799147,
           17790.309304145474,
           10006.148973606541,
           4622.733493343377,
           54049.8288124881,
           50277.27508736838,
           3911.5789801341234,
           32933.48601475806,
           25688.046129052665,
           1808.4378618138294,
           18148.24492640014,
           6663.295292861749,
           46116.699233676605,
           4815.163710795101,
           1219.4326718639563,
           3364.767826224481,
           3552.068762105775,
           6073.265202968797,
           7817.1830832174355,
           8655.264804221777,
           31086.751078389512,
           12328.404026456756,
           774.8396902513206,
           261.24747254691437,
           2286.16277684902,
           4097.872209632196,
           1643.121388766668,
           1497.90917558793,
           46940.59584210967,
           467.90744070041524,
           709.5403101522832,
           14896.453866597354,
           14244.677920749224,
           6432.387583390623,
           1393.522371974624,
           2011.0723989259006,
           12238.374964463035,
           14853.239837492318,
           8825.442275777004,
           20494.87761299877,
           23101.777704996453,
           545.2162123102618,
           59822.092960913134,
           3408.8462539545585,
           8300.375069630125,
           8282.11622189043,
           6183.823824821733,
           3020.0313497202005,
           4187.250031106896,
           8131.92388785725,
           326.0630992391604,
           23566.890205462583,
           3467.9588049445774,
           857.5013510413618,
           6220.046420428944,
           48685.853986747854,
           40493.9285720389,
           7667.366861228061,
           751.2946885172164,
           4769.18654320981,
           46258.8782897109,
           2175.3153946557563,
           19582.53601086268,
           10965.51315589761,
           4619.987097105244,
           1064.1312373906196,
           697.7844030106376,
           5468.356628928696,
           754.5879177599514,
           null,
           2574.912190670397,
           16475.741838979917,
           66944.82550863102,
           1910.8358277376421,
           4142.022784788127,
           5371.177207873912,
           5955.109010370268,
           77629.9889911643,
           43641.39773585323,
           33189.56579886136,
           5582.263777613991,
           40259.112030836484,
           4330.329345949303,
           9731.14520687936,
           1816.5469164371505,
           1655.0788395149907,
           32031.980102603156,
           1309.3929916833156,
           2534.8982772051713,
           17836.364886560932,
           7784.316856904599,
           1157.5351645063117,
           621.8929536227153,
           7683.750611291677,
           172357.4722901707,
           19455.45412660343,
           110172.37314087298,
           522.219809244635,
           411.5523404231106,
           11239.78150436468,
           10790.500236367438,
           890.7372854890706,
           29416.230606402427,
           3763.8073854841728,
           1677.9192526409197,
           11203.540584699034,
           9985.29113811174,
           3531.452611694416,
           4498.520850289186,
           184396.98678267119,
           4295.235024728952,
           8832.036835938065,
           3216.5667385160236,
           491.80472307942995,
           1407.8131434078966,
           4957.458005716508,
           13189.210630702102,
           1071.0507605550897,
           52447.83143920359,
           42745.04555752943,
           1912.903745350624,
           554.6009686961554,
           2229.858696245781,
           1250.6739905512165,
           5564.713196345863,
           75419.6348687409,
           14617.408775978893,
           1405.5805556086316,
           15575.873416333023,
           null,
           15731.01603484708,
           2845.180185774812,
           5414.799137954041,
           6977.695783568442,
           3485.0842183692116,
           15595.227033436207,
           23145.04081731222,
           64781.73319734314,
           12919.529644186483,
           11774.156384485565,
           801.6561869651816,
           19896.49571209511,
           11611.415449422835,
           8216.466925489025,
           4200.641052610787,
           48373.6277023036,
           1994.9064662227513,
           23139.798656131363,
           1446.8309649931728,
           7402.354558655718,
           17401.72151600512,
           504.4625433960284,
           65233.28243929371,
           19329.0968008679,
           25739.247814359183,
           2127.5385079341854,
           305.689070676793,
           6001.400813941395,
           39238.74286107253,
           1084.58490263117,
           29613.67113798626,
           3853.0836928863,
           441.5056033837011,
           6854.906560687477,
           51610.06605523354,
           81993.72714940654,
           2366.999792737433,
           870.787589295504,
           1089.1572087787663,
           7808.192916304814,
           478.15437142857144,
           675.5422133815766,
           4494.140386592023,
           17276.465447001483,
           3317.5410135121674,
           9042.492982893424,
           6859.732807266939,
           4059.029967370771,
           776.7685758762549,
           3464.696002931611,
           43103.32305835232,
           42300.26712583137,
           65280.6822413034,
           16190.126957183886,
           1724.8411344032947,
           3058.065675832494,
           16915.49345340793,
           2715.276036405425,
           922.9296417430922,
           1291.3433573539712,
           1463.9859101805419
          ],
          "coloraxis": "coloraxis",
          "symbol": "circle"
         },
         "mode": "markers",
         "name": "",
         "orientation": "v",
         "showlegend": false,
         "type": "scatter",
         "x": [
          0.28,
          1.2,
          1.72,
          3.33,
          0.21,
          2.76,
          3.96,
          4.4,
          3.68,
          5.17,
          3.45,
          1.94,
          0.93,
          0.58,
          2.48,
          5.19,
          3.07,
          1.12,
          0.08,
          0.42,
          1.59,
          2.16,
          0.37,
          2.15,
          1.61,
          4.03,
          0.08,
          0.1,
          0.23,
          0.77,
          0.17,
          0.09,
          2.61,
          0.06,
          0.04,
          2.59,
          1.98,
          2.18,
          0.27,
          0.12,
          2.89,
          3,
          8.42,
          1.95,
          4.12,
          0.07,
          4.01,
          0.22,
          1.08,
          1.56,
          2.04,
          0.45,
          1.57,
          0.4,
          0.06,
          4.48,
          null,
          0.08,
          0.84,
          3.81,
          3.27,
          0.68,
          0.1,
          7.12,
          4.25,
          0.14,
          5.48,
          1.41,
          0.35,
          0.08,
          0.13,
          0.8,
          0.23,
          null,
          0.31,
          3.41,
          4.08,
          0.86,
          0.43,
          1.58,
          0.71,
          3.31,
          4.62,
          3.98,
          1.31,
          2.41,
          2.32,
          3.25,
          0.16,
          0.2,
          2.58,
          1.88,
          0.37,
          3.19,
          2.1,
          0.07,
          0.04,
          2.09,
          null,
          6.35,
          3.01,
          0.18,
          0.04,
          1.51,
          4.56,
          0.13,
          2.86,
          0.42,
          0.19,
          2.53,
          2.38,
          0.18,
          3.21,
          6.56,
          2.86,
          2.76,
          0.73,
          0.08,
          0.68,
          0.42,
          null,
          0.75,
          3.61,
          3.59,
          0.98,
          0.04,
          0.38,
          3.67,
          null,
          2.92,
          2,
          0.98,
          1.18,
          null,
          1.57,
          0.07,
          1.35,
          1.27,
          0.6,
          2.38,
          5.12,
          2.49,
          2.98,
          4.01,
          0.13,
          2.52,
          0.64,
          0.66,
          0.34,
          6.11,
          0.05,
          2.61,
          0.07,
          3.11,
          0.95,
          0.03,
          2.29,
          3.42,
          3.09,
          0.19,
          0.02,
          0.91,
          2.36,
          null,
          3.87,
          1,
          0.26,
          1.21,
          3.98,
          4.3,
          1.22,
          1.7,
          0.01,
          0.81,
          0.72,
          0.08,
          0.52,
          4.17,
          1.3,
          1.85,
          2.22,
          0.92,
          0.17,
          2.99,
          2.53,
          2.81,
          2.61,
          5.05,
          2.37,
          0.17,
          1.92,
          0.82,
          0.31,
          1.19,
          0.21
         ],
         "xaxis": "x",
         "y": [
          32.49,
          11.78,
          24.28,
          7.2,
          40.73,
          15.33,
          17.02,
          13.99,
          12.6,
          9.7,
          14,
          13.97,
          13.99,
          18.18,
          10.65,
          9.9,
          10.3,
          20.79,
          36.22,
          17.26,
          21.75,
          8.11,
          24.82,
          13.92,
          14.9,
          8.9,
          37.93,
          39.01,
          35.74,
          19.49,
          22.46,
          35.39,
          10.1,
          35.35,
          42.17,
          12.43,
          10.9,
          14.88,
          31.88,
          32.86,
          13.97,
          9,
          10.17,
          10.46,
          10.7,
          41.18,
          10.6,
          21.47,
          12,
          19.51,
          19.72,
          26.38,
          18.25,
          33.24,
          30.3,
          10.9,
          null,
          32.34,
          21.28,
          8.6,
          11.3,
          31.61,
          38.54,
          13.47,
          9.5,
          29.41,
          8.1,
          16.47,
          24.56,
          36.36,
          35.13,
          19.97,
          24.35,
          null,
          21.6,
          9.6,
          12,
          17.86,
          18.07,
          18.78,
          29.08,
          12.5,
          20.8,
          7.3,
          16.1,
          7.4,
          21.98,
          21.77,
          28.75,
          27.89,
          13.94,
          27.1,
          23.55,
          10,
          17.55,
          26.81,
          33.04,
          18.83,
          9.9,
          10,
          10.3,
          32.66,
          34.12,
          16.75,
          14.2,
          41.54,
          9.2,
          29.03,
          33.69,
          10.2,
          17.6,
          22.82,
          10.1,
          5.9,
          24.13,
          11.73,
          18.94,
          37.52,
          17.55,
          28.64,
          null,
          19.89,
          9.7,
          11.98,
          20.64,
          46.08,
          37.91,
          13.89,
          null,
          10.4,
          19.19,
          28.25,
          14,
          null,
          18.98,
          27.07,
          20.57,
          17.95,
          20.55,
          10.2,
          8.5,
          9.54,
          9.6,
          11.5,
          31.7,
          12.6,
          12,
          14.24,
          24.38,
          6.8,
          31.54,
          17.8,
          34.52,
          9.2,
          17.1,
          33.41,
          8.8,
          10.6,
          9.4,
          32.44,
          41.75,
          20.51,
          6.4,
          35.01,
          7.9,
          15.83,
          32.18,
          18.54,
          11.4,
          10,
          23.69,
          30.76,
          36.7,
          10.34,
          29.42,
          33.11,
          24.3,
          12.94,
          17.56,
          16.03,
          23.83,
          null,
          38.14,
          8.7,
          10.33,
          11,
          11.6,
          13.86,
          23.3,
          29.6,
          17.88,
          16.75,
          30.45,
          36.19,
          30.68
         ],
         "yaxis": "y"
        },
        {
         "hovertemplate": "<b>OLS trendline</b><br>Birth Rate = -13.4247 * log10(Physicians per thousand) + 19.6577<br>R<sup>2</sup>=0.747024<br><br>Physicians per thousand=%{x}<br>Birth Rate=%{y} <b>(trend)</b><extra></extra>",
         "legendgroup": "",
         "line": {
          "color": "#5591f5"
         },
         "marker": {
          "color": "#636efa",
          "symbol": "circle"
         },
         "mode": "lines",
         "name": "",
         "showlegend": false,
         "type": "scatter",
         "x": [
          0.01,
          0.02,
          0.03,
          0.04,
          0.04,
          0.04,
          0.04,
          0.05,
          0.06,
          0.06,
          0.07,
          0.07,
          0.07,
          0.07,
          0.08,
          0.08,
          0.08,
          0.08,
          0.08,
          0.08,
          0.09,
          0.1,
          0.1,
          0.12,
          0.13,
          0.13,
          0.13,
          0.14,
          0.16,
          0.17,
          0.17,
          0.17,
          0.18,
          0.18,
          0.19,
          0.19,
          0.2,
          0.21,
          0.21,
          0.22,
          0.23,
          0.23,
          0.26,
          0.27,
          0.28,
          0.31,
          0.31,
          0.34,
          0.35,
          0.37,
          0.37,
          0.38,
          0.4,
          0.42,
          0.42,
          0.42,
          0.43,
          0.45,
          0.52,
          0.58,
          0.6,
          0.64,
          0.66,
          0.68,
          0.68,
          0.71,
          0.72,
          0.73,
          0.75,
          0.77,
          0.8,
          0.81,
          0.82,
          0.84,
          0.86,
          0.91,
          0.93,
          0.95,
          0.98,
          0.98,
          1,
          1.08,
          1.12,
          1.18,
          1.19,
          1.2,
          1.21,
          1.22,
          1.27,
          1.3,
          1.31,
          1.35,
          1.41,
          1.51,
          1.56,
          1.57,
          1.57,
          1.58,
          1.59,
          1.61,
          1.7,
          1.72,
          1.85,
          1.88,
          1.92,
          1.94,
          1.95,
          1.98,
          2,
          2.04,
          2.09,
          2.1,
          2.15,
          2.16,
          2.18,
          2.22,
          2.29,
          2.32,
          2.36,
          2.37,
          2.38,
          2.38,
          2.41,
          2.48,
          2.49,
          2.52,
          2.53,
          2.53,
          2.58,
          2.59,
          2.61,
          2.61,
          2.61,
          2.76,
          2.76,
          2.81,
          2.86,
          2.86,
          2.89,
          2.92,
          2.98,
          2.99,
          3,
          3.01,
          3.07,
          3.09,
          3.11,
          3.19,
          3.21,
          3.25,
          3.27,
          3.31,
          3.33,
          3.41,
          3.42,
          3.45,
          3.59,
          3.61,
          3.67,
          3.68,
          3.81,
          3.87,
          3.96,
          3.98,
          3.98,
          4.01,
          4.01,
          4.03,
          4.08,
          4.12,
          4.17,
          4.25,
          4.3,
          4.4,
          4.48,
          4.56,
          4.62,
          5.05,
          5.12,
          5.17,
          5.19,
          5.48,
          6.11,
          6.35,
          6.56,
          7.12,
          8.42
         ],
         "xaxis": "x",
         "y": [
          46.50712324429298,
          42.4658761372545,
          40.10189812348913,
          38.42462903021601,
          38.42462903021601,
          38.42462903021601,
          38.42462903021601,
          37.12363804807805,
          36.06065101645065,
          36.06065101645065,
          35.16190828709745,
          35.16190828709745,
          35.16190828709745,
          35.16190828709745,
          34.38338192317754,
          34.38338192317754,
          34.38338192317754,
          34.38338192317754,
          34.38338192317754,
          34.38338192317754,
          33.69667300268528,
          33.08239094103957,
          33.08239094103957,
          32.01940390941217,
          31.552731938584998,
          31.552731938584998,
          31.552731938584998,
          31.120661180058963,
          30.34213481613905,
          29.988675861962754,
          29.988675861962754,
          29.988675861962754,
          29.6554258956468,
          29.6554258956468,
          29.34019846967992,
          29.34019846967992,
          29.04114383400109,
          28.756683166293595,
          28.756683166293595,
          28.48545811643907,
          28.226291575868242,
          28.226291575868242,
          27.511484831546515,
          27.29144788188143,
          27.079414073020484,
          26.485991737241303,
          26.485991737241303,
          25.947428754924275,
          25.77842309088252,
          25.454434901193107,
          25.454434901193107,
          25.29895136264144,
          24.99989672696261,
          24.715436059255115,
          24.715436059255115,
          24.715436059255115,
          24.578246502328252,
          24.313187806470356,
          23.470237724508035,
          22.833574494647277,
          22.635918713197242,
          22.259640602062092,
          22.08023299563522,
          21.90618164788579,
          21.90618164788579,
          21.654475488576452,
          21.572931681569838,
          21.492512652643367,
          21.33492773105928,
          21.18149026628202,
          20.958649619924127,
          20.886222761077583,
          20.81468459778345,
          20.674188952216635,
          20.536999395289772,
          20.207516981389464,
          20.080766616437455,
          19.956713273464995,
          19.77544622286343,
          19.77544622286343,
          19.657658637786167,
          19.20895366780447,
          18.99691985894352,
          18.692661932280927,
          18.64346090476722,
          18.594671606158762,
          18.546287202662125,
          18.49830102922338,
          18.26412147187083,
          18.12799963533159,
          18.083322886751848,
          17.907962685666508,
          17.65443199585868,
          17.254941031921874,
          17.065012603704186,
          17.02775824589181,
          17.02775824589181,
          16.990740425278908,
          16.95395615713906,
          16.881076618672708,
          16.563943558709347,
          16.49575228825129,
          16.070949704978183,
          15.977162902585567,
          15.854415481258243,
          15.79399745705965,
          15.764021621566224,
          15.675007874831373,
          15.616411530747687,
          15.500956527081943,
          15.359780448864495,
          15.331950863040191,
          15.194761306113328,
          15.167706560765989,
          15.11397081484655,
          15.007962673350775,
          14.826963614161102,
          14.751080280570314,
          14.651414825242448,
          14.62676241151354,
          14.60221379772874,
          14.60221379772874,
          14.529182105937998,
          14.362250416125859,
          14.338788464302127,
          14.268963831412787,
          14.245873555052816,
          14.245873555052816,
          14.131774274485922,
          14.109219943997573,
          14.06437136007806,
          14.06437136007806,
          14.06437136007806,
          13.738572240987432,
          13.738572240987432,
          13.633896410282484,
          13.53106681073109,
          13.53106681073109,
          13.47022847963253,
          13.410018438566404,
          13.291432238713515,
          13.271900270160263,
          13.252433516982318,
          13.23303154513272,
          13.117956352363194,
          13.08009721179867,
          13.042482325453866,
          12.894403580870328,
          12.857964167500068,
          12.785761546155149,
          12.74999280108118,
          12.679106977609866,
          12.64398465958541,
          12.505573716425875,
          12.488501121033742,
          12.43758125884947,
          12.20566426260017,
          12.173273695066861,
          12.07716788447018,
          12.06130314771432,
          11.858896351066981,
          11.767796260720555,
          11.633760767792891,
          11.60438898194364,
          11.60438898194364,
          11.560606895146497,
          11.560606895146497,
          11.531600431533322,
          11.459709420043463,
          11.402828118525557,
          11.332498108167835,
          11.221705469532905,
          11.153514199074847,
          11.019478706147183,
          10.91442564486656,
          10.811232027760628,
          10.735018038439689,
          10.216160155356969,
          10.13589928094665,
          10.0792390958471,
          10.056728306645587,
          9.739727409285464,
          9.105265810954547,
          8.880636275655906,
          8.69094327666801,
          8.213342929332205,
          7.23559151243985
         ],
         "yaxis": "y"
        }
       ],
       "layout": {
        "coloraxis": {
         "colorbar": {
          "title": {
           "text": "GDP_per_Capita"
          }
         },
         "colorscale": [
          [
           0,
           "#0d0887"
          ],
          [
           0.1111111111111111,
           "#46039f"
          ],
          [
           0.2222222222222222,
           "#7201a8"
          ],
          [
           0.3333333333333333,
           "#9c179e"
          ],
          [
           0.4444444444444444,
           "#bd3786"
          ],
          [
           0.5555555555555556,
           "#d8576b"
          ],
          [
           0.6666666666666666,
           "#ed7953"
          ],
          [
           0.7777777777777778,
           "#fb9f3a"
          ],
          [
           0.8888888888888888,
           "#fdca26"
          ],
          [
           1,
           "#f0f921"
          ]
         ]
        },
        "legend": {
         "tracegroupgap": 0
        },
        "margin": {
         "t": 60
        },
        "paper_bgcolor": "rgba(0, 0, 0, 0)",
        "plot_bgcolor": "rgba(0, 0, 0, 0)",
        "template": {
         "data": {
          "pie": [
           {
            "automargin": true,
            "type": "pie"
           }
          ]
         },
         "layout": {
          "xaxis": {
           "showgrid": true,
           "title": {
            "standoff": 15
           }
          },
          "yaxis": {
           "showgrid": true,
           "title": {
            "standoff": 15
           }
          }
         }
        },
        "title": {
         "font": {
          "color": "green"
         },
         "text": "Plot Sebaran Angka Kelahiran & Dokter per Seribu Populasi"
        },
        "xaxis": {
         "anchor": "y",
         "domain": [
          0,
          1
         ],
         "title": {
          "text": "Dokter per Seribu Populasi"
         }
        },
        "yaxis": {
         "anchor": "x",
         "domain": [
          0,
          1
         ],
         "title": {
          "text": "Angka Kelahiran"
         }
        }
       }
      }
     },
     "metadata": {},
     "output_type": "display_data"
    }
   ],
   "source": [
    "fig = px.scatter(df, x=\"Physicians per thousand\", y=\"Birth Rate\", color=\"GDP_per_Capita\", hover_data=df[['Country']])\n",
    "fig.update_layout(\n",
    "    title='Plot Sebaran Angka Kelahiran & Dokter per Seribu Populasi'\n",
    ")\n",
    "\n",
    "\n",
    "trendline = px.scatter(df, x=\"Physicians per thousand\", y=\"Birth Rate\",\n",
    "                       trendline=\"ols\", trendline_options=dict(log_x=True))\n",
    "trendline.data[1]['line']['color'] = '#5591f5'\n",
    "fig.add_trace(trendline.data[1])\n",
    "\n",
    "fig.update_layout(\n",
    "    template='gridon',\n",
    "    plot_bgcolor='rgba(0, 0, 0, 0)',\n",
    "    paper_bgcolor='rgba(0, 0, 0, 0)',\n",
    "    title={\n",
    "        'text': 'Plot Sebaran Angka Kelahiran & Dokter per Seribu Populasi',\n",
    "        'font': {'color': 'green'}\n",
    "    },\n",
    ")\n",
    "\n",
    "fig.update_xaxes(title_text=\"Dokter per Seribu Populasi\")\n",
    "fig.update_yaxes(title_text=\"Angka Kelahiran\")\n",
    "\n",
    "fig.show()\n"
   ]
  },
  {
   "cell_type": "markdown",
   "id": "21e66169",
   "metadata": {
    "papermill": {
     "duration": 0.009852,
     "end_time": "2023-08-28T11:18:47.978259",
     "exception": false,
     "start_time": "2023-08-28T11:18:47.968407",
     "status": "completed"
    },
    "tags": []
   },
   "source": [
    "**Angka Kelahiran:**  Angka yang menunjukkan jumlah bayi yang hidup di setiap seribu penduduk per tahunnya.  \n",
    "\n",
    "Dari grafik yang ditunjukkan sangat tampak hubungan yang kuat mengenai Angka kelahiran dan juga dokter per seribu populasi dengan indikasi $R^2=0.747024$.\n",
    "\n",
    "Dari grafik terlihat bahwa semakin rendah jumlah dokternya maka akan semakin tinggi pula tingkat kelahirannya"
   ]
  },
  {
   "cell_type": "code",
   "execution_count": 65,
   "id": "cbf4244b",
   "metadata": {
    "_kg_hide-input": true,
    "execution": {
     "iopub.execute_input": "2023-08-28T11:18:48.000595Z",
     "iopub.status.busy": "2023-08-28T11:18:48.000052Z",
     "iopub.status.idle": "2023-08-28T11:18:48.190367Z",
     "shell.execute_reply": "2023-08-28T11:18:48.189548Z"
    },
    "papermill": {
     "duration": 0.204131,
     "end_time": "2023-08-28T11:18:48.192542",
     "exception": false,
     "start_time": "2023-08-28T11:18:47.988411",
     "status": "completed"
    },
    "tags": []
   },
   "outputs": [
    {
     "data": {
      "application/vnd.plotly.v1+json": {
       "config": {
        "plotlyServerURL": "https://plot.ly"
       },
       "data": [
        {
         "customdata": [
          [
           "Afghanistan"
          ],
          [
           "Albania"
          ],
          [
           "Algeria"
          ],
          [
           "Andorra"
          ],
          [
           "Angola"
          ],
          [
           "AntiguaandBarbuda"
          ],
          [
           "Argentina"
          ],
          [
           "Armenia"
          ],
          [
           "Australia"
          ],
          [
           "Austria"
          ],
          [
           "Azerbaijan"
          ],
          [
           "TheBahamas"
          ],
          [
           "Bahrain"
          ],
          [
           "Bangladesh"
          ],
          [
           "Barbados"
          ],
          [
           "Belarus"
          ],
          [
           "Belgium"
          ],
          [
           "Belize"
          ],
          [
           "Benin"
          ],
          [
           "Bhutan"
          ],
          [
           "Bolivia"
          ],
          [
           "BosniaandHerzegovina"
          ],
          [
           "Botswana"
          ],
          [
           "Brazil"
          ],
          [
           "Brunei"
          ],
          [
           "Bulgaria"
          ],
          [
           "BurkinaFaso"
          ],
          [
           "Burundi"
          ],
          [
           "IvoryCoast"
          ],
          [
           "CapeVerde"
          ],
          [
           "Cambodia"
          ],
          [
           "Cameroon"
          ],
          [
           "Canada"
          ],
          [
           "CentralAfricanRepublic"
          ],
          [
           "Chad"
          ],
          [
           "Chile"
          ],
          [
           "China"
          ],
          [
           "Colombia"
          ],
          [
           "Comoros"
          ],
          [
           "RepublicoftheCongo"
          ],
          [
           "CostaRica"
          ],
          [
           "Croatia"
          ],
          [
           "Cuba"
          ],
          [
           "Cyprus"
          ],
          [
           "CzechRepublic"
          ],
          [
           "DemocraticRepublicoftheCongo"
          ],
          [
           "Denmark"
          ],
          [
           "Djibouti"
          ],
          [
           "Dominica"
          ],
          [
           "DominicanRepublic"
          ],
          [
           "Ecuador"
          ],
          [
           "Egypt"
          ],
          [
           "ElSalvador"
          ],
          [
           "EquatorialGuinea"
          ],
          [
           "Eritrea"
          ],
          [
           "Estonia"
          ],
          [
           "Eswatini"
          ],
          [
           "Ethiopia"
          ],
          [
           "Fiji"
          ],
          [
           "Finland"
          ],
          [
           "France"
          ],
          [
           "Gabon"
          ],
          [
           "TheGambia"
          ],
          [
           "Georgia"
          ],
          [
           "Germany"
          ],
          [
           "Ghana"
          ],
          [
           "Greece"
          ],
          [
           "Grenada"
          ],
          [
           "Guatemala"
          ],
          [
           "Guinea"
          ],
          [
           "Guinea-Bissau"
          ],
          [
           "Guyana"
          ],
          [
           "Haiti"
          ],
          [
           "VaticanCity"
          ],
          [
           "Honduras"
          ],
          [
           "Hungary"
          ],
          [
           "Iceland"
          ],
          [
           "India"
          ],
          [
           "Indonesia"
          ],
          [
           "Iran"
          ],
          [
           "Iraq"
          ],
          [
           "RepublicofIreland"
          ],
          [
           "Israel"
          ],
          [
           "Italy"
          ],
          [
           "Jamaica"
          ],
          [
           "Japan"
          ],
          [
           "Jordan"
          ],
          [
           "Kazakhstan"
          ],
          [
           "Kenya"
          ],
          [
           "Kiribati"
          ],
          [
           "Kuwait"
          ],
          [
           "Kyrgyzstan"
          ],
          [
           "Laos"
          ],
          [
           "Latvia"
          ],
          [
           "Lebanon"
          ],
          [
           "Lesotho"
          ],
          [
           "Liberia"
          ],
          [
           "Libya"
          ],
          [
           "Liechtenstein"
          ],
          [
           "Lithuania"
          ],
          [
           "Luxembourg"
          ],
          [
           "Madagascar"
          ],
          [
           "Malawi"
          ],
          [
           "Malaysia"
          ],
          [
           "Maldives"
          ],
          [
           "Mali"
          ],
          [
           "Malta"
          ],
          [
           "MarshallIslands"
          ],
          [
           "Mauritania"
          ],
          [
           "Mauritius"
          ],
          [
           "Mexico"
          ],
          [
           "FederatedStatesofMicronesia"
          ],
          [
           "Moldova"
          ],
          [
           "Monaco"
          ],
          [
           "Mongolia"
          ],
          [
           "Montenegro"
          ],
          [
           "Morocco"
          ],
          [
           "Mozambique"
          ],
          [
           "Myanmar"
          ],
          [
           "Namibia"
          ],
          [
           "Nauru"
          ],
          [
           "Nepal"
          ],
          [
           "Netherlands"
          ],
          [
           "NewZealand"
          ],
          [
           "Nicaragua"
          ],
          [
           "Niger"
          ],
          [
           "Nigeria"
          ],
          [
           "NorthKorea"
          ],
          [
           "NorthMacedonia"
          ],
          [
           "Norway"
          ],
          [
           "Oman"
          ],
          [
           "Pakistan"
          ],
          [
           "Palau"
          ],
          [
           "PalestinianNationalAuthority"
          ],
          [
           "Panama"
          ],
          [
           "PapuaNewGuinea"
          ],
          [
           "Paraguay"
          ],
          [
           "Peru"
          ],
          [
           "Philippines"
          ],
          [
           "Poland"
          ],
          [
           "Portugal"
          ],
          [
           "Qatar"
          ],
          [
           "Romania"
          ],
          [
           "Russia"
          ],
          [
           "Rwanda"
          ],
          [
           "SaintKittsandNevis"
          ],
          [
           "SaintLucia"
          ],
          [
           "SaintVincentandtheGrenadines"
          ],
          [
           "Samoa"
          ],
          [
           "SanMarino"
          ],
          [
           "SaoTomedanPrincipe"
          ],
          [
           "SaudiArabia"
          ],
          [
           "Senegal"
          ],
          [
           "Serbia"
          ],
          [
           "Seychelles"
          ],
          [
           "SierraLeone"
          ],
          [
           "Singapore"
          ],
          [
           "Slovakia"
          ],
          [
           "Slovenia"
          ],
          [
           "SolomonIslands"
          ],
          [
           "Somalia"
          ],
          [
           "SouthAfrica"
          ],
          [
           "SouthKorea"
          ],
          [
           "SouthSudan"
          ],
          [
           "Spain"
          ],
          [
           "SriLanka"
          ],
          [
           "Sudan"
          ],
          [
           "Suriname"
          ],
          [
           "Sweden"
          ],
          [
           "Switzerland"
          ],
          [
           "Syria"
          ],
          [
           "Tajikistan"
          ],
          [
           "Tanzania"
          ],
          [
           "Thailand"
          ],
          [
           "EastTimor"
          ],
          [
           "Togo"
          ],
          [
           "Tonga"
          ],
          [
           "TrinidadandTobago"
          ],
          [
           "Tunisia"
          ],
          [
           "Turkey"
          ],
          [
           "Turkmenistan"
          ],
          [
           "Tuvalu"
          ],
          [
           "Uganda"
          ],
          [
           "Ukraine"
          ],
          [
           "UnitedArabEmirates"
          ],
          [
           "UnitedKingdom"
          ],
          [
           "UnitedStates"
          ],
          [
           "Uruguay"
          ],
          [
           "Uzbekistan"
          ],
          [
           "Vanuatu"
          ],
          [
           "Venezuela"
          ],
          [
           "Vietnam"
          ],
          [
           "Yemen"
          ],
          [
           "Zambia"
          ],
          [
           "Zimbabwe"
          ]
         ],
         "hovertemplate": "Physicians per thousand=%{x}<br>Infant mortality=%{y}<br>Country=%{customdata[0]}<extra></extra>",
         "legendgroup": "",
         "marker": {
          "color": "#ea4335",
          "symbol": "circle"
         },
         "mode": "markers",
         "name": "",
         "orientation": "v",
         "showlegend": false,
         "type": "scatter",
         "x": [
          0.28,
          1.2,
          1.72,
          3.33,
          0.21,
          2.76,
          3.96,
          4.4,
          3.68,
          5.17,
          3.45,
          1.94,
          0.93,
          0.58,
          2.48,
          5.19,
          3.07,
          1.12,
          0.08,
          0.42,
          1.59,
          2.16,
          0.37,
          2.15,
          1.61,
          4.03,
          0.08,
          0.1,
          0.23,
          0.77,
          0.17,
          0.09,
          2.61,
          0.06,
          0.04,
          2.59,
          1.98,
          2.18,
          0.27,
          0.12,
          2.89,
          3,
          8.42,
          1.95,
          4.12,
          0.07,
          4.01,
          0.22,
          1.08,
          1.56,
          2.04,
          0.45,
          1.57,
          0.4,
          0.06,
          4.48,
          null,
          0.08,
          0.84,
          3.81,
          3.27,
          0.68,
          0.1,
          7.12,
          4.25,
          0.14,
          5.48,
          1.41,
          0.35,
          0.08,
          0.13,
          0.8,
          0.23,
          null,
          0.31,
          3.41,
          4.08,
          0.86,
          0.43,
          1.58,
          0.71,
          3.31,
          4.62,
          3.98,
          1.31,
          2.41,
          2.32,
          3.25,
          0.16,
          0.2,
          2.58,
          1.88,
          0.37,
          3.19,
          2.1,
          0.07,
          0.04,
          2.09,
          null,
          6.35,
          3.01,
          0.18,
          0.04,
          1.51,
          4.56,
          0.13,
          2.86,
          0.42,
          0.19,
          2.53,
          2.38,
          0.18,
          3.21,
          6.56,
          2.86,
          2.76,
          0.73,
          0.08,
          0.68,
          0.42,
          null,
          0.75,
          3.61,
          3.59,
          0.98,
          0.04,
          0.38,
          3.67,
          null,
          2.92,
          2,
          0.98,
          1.18,
          null,
          1.57,
          0.07,
          1.35,
          1.27,
          0.6,
          2.38,
          5.12,
          2.49,
          2.98,
          4.01,
          0.13,
          2.52,
          0.64,
          0.66,
          0.34,
          6.11,
          0.05,
          2.61,
          0.07,
          3.11,
          0.95,
          0.03,
          2.29,
          3.42,
          3.09,
          0.19,
          0.02,
          0.91,
          2.36,
          null,
          3.87,
          1,
          0.26,
          1.21,
          3.98,
          4.3,
          1.22,
          1.7,
          0.01,
          0.81,
          0.72,
          0.08,
          0.52,
          4.17,
          1.3,
          1.85,
          2.22,
          0.92,
          0.17,
          2.99,
          2.53,
          2.81,
          2.61,
          5.05,
          2.37,
          0.17,
          1.92,
          0.82,
          0.31,
          1.19,
          0.21
         ],
         "xaxis": "x",
         "y": [
          47.9,
          7.8,
          20.1,
          2.7,
          51.6,
          5,
          8.8,
          11,
          3.1,
          2.9,
          19.2,
          8.3,
          6.1,
          25.1,
          11.3,
          2.6,
          2.9,
          11.2,
          60.5,
          24.8,
          21.8,
          5,
          30,
          12.8,
          9.8,
          5.9,
          49,
          41,
          59.4,
          16.7,
          24,
          50.6,
          4.3,
          84.5,
          71.4,
          6.2,
          7.4,
          12.2,
          51.3,
          36.2,
          7.6,
          4,
          3.7,
          1.9,
          2.7,
          68.2,
          3.6,
          49.8,
          32.9,
          24.1,
          12.2,
          18.1,
          11.8,
          62.6,
          31.3,
          2.1,
          null,
          39.1,
          21.6,
          1.4,
          3.4,
          32.7,
          39,
          8.7,
          3.1,
          34.9,
          3.6,
          13.7,
          22.1,
          64.9,
          54,
          25.1,
          49.5,
          null,
          15.1,
          3.6,
          1.5,
          29.9,
          21.1,
          12.4,
          22.5,
          3.1,
          3,
          2.6,
          12.4,
          1.8,
          13.9,
          8.8,
          30.6,
          41.2,
          6.7,
          16.9,
          37.6,
          3.3,
          6.4,
          65.7,
          53.5,
          10.2,
          null,
          3.3,
          1.9,
          38.2,
          35.3,
          6.7,
          7.4,
          62,
          6.1,
          27.4,
          51.5,
          13.6,
          11,
          25.6,
          13.6,
          2.6,
          14,
          2.3,
          19.2,
          54,
          36.8,
          29,
          null,
          26.7,
          3.3,
          4.7,
          15.7,
          48,
          75.7,
          13.7,
          null,
          2.1,
          9.8,
          57.2,
          16.6,
          null,
          13.1,
          38,
          17.2,
          11.1,
          22.5,
          3.8,
          3.1,
          5.8,
          6.1,
          6.1,
          27,
          9.8,
          14.9,
          14.8,
          13.6,
          1.7,
          24.4,
          6,
          31.8,
          4.8,
          12.4,
          78.5,
          2.3,
          4.6,
          1.7,
          17.1,
          76.6,
          28.5,
          2.7,
          63.7,
          2.5,
          6.4,
          42.1,
          16.9,
          2.2,
          3.7,
          14,
          30.4,
          37.6,
          7.8,
          39.3,
          47.4,
          13.4,
          16.4,
          14.6,
          9.1,
          39.3,
          20.6,
          33.8,
          7.5,
          6.5,
          3.6,
          5.6,
          6.4,
          19.1,
          22.3,
          21.4,
          16.5,
          42.9,
          40.4,
          33.9
         ],
         "yaxis": "y"
        },
        {
         "hovertemplate": "<b>OLS trendline</b><br>Infant mortality = -25.1976 * log10(Physicians per thousand) + 20.1068<br>R<sup>2</sup>=0.686582<br><br>Physicians per thousand=%{x}<br>Infant mortality=%{y} <b>(trend)</b><extra></extra>",
         "legendgroup": "",
         "line": {
          "color": "#5591f5"
         },
         "marker": {
          "color": "#636efa",
          "symbol": "circle"
         },
         "mode": "lines",
         "name": "",
         "showlegend": false,
         "type": "scatter",
         "x": [
          0.01,
          0.02,
          0.03,
          0.04,
          0.04,
          0.04,
          0.04,
          0.05,
          0.06,
          0.06,
          0.07,
          0.07,
          0.07,
          0.07,
          0.08,
          0.08,
          0.08,
          0.08,
          0.08,
          0.08,
          0.09,
          0.1,
          0.1,
          0.12,
          0.13,
          0.13,
          0.13,
          0.14,
          0.16,
          0.17,
          0.17,
          0.17,
          0.18,
          0.18,
          0.19,
          0.19,
          0.2,
          0.21,
          0.21,
          0.22,
          0.23,
          0.23,
          0.26,
          0.27,
          0.28,
          0.31,
          0.31,
          0.34,
          0.35,
          0.37,
          0.37,
          0.38,
          0.4,
          0.42,
          0.42,
          0.42,
          0.43,
          0.45,
          0.52,
          0.58,
          0.6,
          0.64,
          0.66,
          0.68,
          0.68,
          0.71,
          0.72,
          0.73,
          0.75,
          0.77,
          0.8,
          0.81,
          0.82,
          0.84,
          0.86,
          0.91,
          0.92,
          0.93,
          0.95,
          0.98,
          0.98,
          1,
          1.08,
          1.12,
          1.18,
          1.19,
          1.2,
          1.21,
          1.22,
          1.27,
          1.3,
          1.31,
          1.35,
          1.41,
          1.51,
          1.56,
          1.57,
          1.57,
          1.58,
          1.59,
          1.61,
          1.7,
          1.72,
          1.85,
          1.88,
          1.92,
          1.94,
          1.95,
          1.98,
          2,
          2.04,
          2.09,
          2.1,
          2.15,
          2.16,
          2.18,
          2.22,
          2.29,
          2.32,
          2.36,
          2.37,
          2.38,
          2.38,
          2.41,
          2.48,
          2.49,
          2.52,
          2.53,
          2.53,
          2.58,
          2.59,
          2.61,
          2.61,
          2.61,
          2.76,
          2.76,
          2.81,
          2.86,
          2.86,
          2.89,
          2.92,
          2.98,
          2.99,
          3,
          3.01,
          3.07,
          3.09,
          3.11,
          3.19,
          3.21,
          3.25,
          3.27,
          3.31,
          3.33,
          3.41,
          3.42,
          3.45,
          3.59,
          3.61,
          3.67,
          3.68,
          3.81,
          3.87,
          3.96,
          3.98,
          3.98,
          4.01,
          4.01,
          4.03,
          4.08,
          4.12,
          4.17,
          4.25,
          4.3,
          4.4,
          4.48,
          4.56,
          4.62,
          5.05,
          5.12,
          5.17,
          5.19,
          5.48,
          6.11,
          6.35,
          6.56,
          7.12,
          8.42
         ],
         "xaxis": "x",
         "y": [
          70.50198457916044,
          62.91675830648465,
          58.47968537748442,
          55.33153203380888,
          55.33153203380888,
          55.33153203380888,
          55.33153203380888,
          52.8896345905568,
          50.89445910480865,
          50.89445910480865,
          49.20756226764343,
          49.20756226764343,
          49.20756226764343,
          49.20756226764343,
          47.7463057611331,
          47.7463057611331,
          47.7463057611331,
          47.7463057611331,
          47.7463057611331,
          47.7463057611331,
          46.45738617580841,
          45.30440831788102,
          45.30440831788102,
          43.309232832132864,
          42.43331200866367,
          42.43331200866367,
          42.43331200866367,
          41.622335994967656,
          40.16107948845732,
          39.49765404712238,
          39.49765404712238,
          39.49765404712238,
          38.872159903132626,
          38.872159903132626,
          38.28049319976586,
          38.28049319976586,
          37.719182045205244,
          37.18526306596742,
          37.18526306596742,
          36.676186704271736,
          36.18974358400015,
          36.18974358400015,
          34.848085735987894,
          34.43508697413239,
          34.03710972229188,
          32.923284565620506,
          32.923284565620506,
          31.9124277744466,
          31.5952122790398,
          30.987102043912472,
          30.987102043912472,
          30.69526692709008,
          30.13395577252946,
          29.600036793291643,
          29.600036793291643,
          29.600036793291643,
          29.342538599299495,
          28.84503618720477,
          27.262859463312118,
          26.06787323008338,
          25.696882843529227,
          24.990626943105767,
          24.653887502595722,
          24.327201501770823,
          24.327201501770823,
          23.854761157981333,
          23.70170735778107,
          23.550764711889972,
          23.254985400277143,
          22.966990665430515,
          22.548729499853685,
          22.412787772456372,
          22.27851408382879,
          22.014810520615864,
          21.75731232662372,
          21.138889697146674,
          21.019291038648593,
          20.90098536394449,
          20.668143211162224,
          20.327913683450657,
          20.327913683450657,
          20.106832056601604,
          19.26463442878083,
          18.866657176940322,
          18.295579695691668,
          18.203231735605378,
          18.111656570853448,
          18.020841374734594,
          17.93077363726346,
          17.491229881609314,
          17.235735747384258,
          17.15187964105644,
          16.82273698552875,
          16.346872085827226,
          15.59704677817098,
          15.240560261636102,
          15.170635625461806,
          15.170635625461806,
          15.101154958223923,
          15.032112657734656,
          14.895321272483148,
          14.300077785842962,
          14.17208605394794,
          13.374752055308832,
          13.198718742151685,
          12.968327741429754,
          12.854926018556592,
          12.79866281838402,
          12.631588300919706,
          12.521605783925825,
          12.304902300094806,
          12.039921597552944,
          11.987686804688003,
          11.730188610695858,
          11.679408156105055,
          11.578548747874345,
          11.379576569560674,
          11.039850048828015,
          10.897420684731822,
          10.710353423015889,
          10.664082029223685,
          10.6180054629296,
          10.6180054629296,
          10.480928493212932,
          10.167605747593171,
          10.123568793487673,
          9.99251131893985,
          9.949171981787229,
          9.949171981787229,
          9.735013124947702,
          9.69267973239547,
          9.608501099407123,
          9.608501099407123,
          9.608501099407123,
          8.996991836972578,
          8.996991836972578,
          8.800520341875314,
          8.607514133774975,
          8.607514133774975,
          8.49332351508432,
          8.380312166538415,
          8.157731578201146,
          8.121071013503384,
          8.08453285492559,
          8.048116287782497,
          7.832125690719431,
          7.761065906433833,
          7.690464575560155,
          7.412527900546236,
          7.344132875858037,
          7.208612031456399,
          7.141475818874108,
          7.008426540690049,
          6.942503640560439,
          6.682712963407585,
          6.650668523738053,
          6.555094393720493,
          6.119797356336562,
          6.059001820371288,
          5.878615840453081,
          5.848838493297038,
          5.4689306799332975,
          5.297940195947465,
          5.046362028243928,
          4.991232600174278,
          4.991232600174278,
          4.909055730943033,
          4.909055730943033,
          4.854611995123744,
          4.71967602741903,
          4.612912562758291,
          4.480906519031386,
          4.272954069915103,
          4.144962338020081,
          3.893384170316544,
          3.696204631588767,
          3.502515180062513,
          3.3594651910787228,
          2.3855939225563354,
          2.2349481250784358,
          2.128599685290318,
          2.0863480176373805,
          1.491352593841114,
          0.30049871700647657,
          -0.12112010699432574,
          -0.47716473419854566,
          -1.373597594278074,
          -3.2087899344447735
         ],
         "yaxis": "y"
        },
        {
         "customdata": [
          [
           "Afghanistan"
          ],
          [
           "Albania"
          ],
          [
           "Algeria"
          ],
          [
           "Andorra"
          ],
          [
           "Angola"
          ],
          [
           "AntiguaandBarbuda"
          ],
          [
           "Argentina"
          ],
          [
           "Armenia"
          ],
          [
           "Australia"
          ],
          [
           "Austria"
          ],
          [
           "Azerbaijan"
          ],
          [
           "TheBahamas"
          ],
          [
           "Bahrain"
          ],
          [
           "Bangladesh"
          ],
          [
           "Barbados"
          ],
          [
           "Belarus"
          ],
          [
           "Belgium"
          ],
          [
           "Belize"
          ],
          [
           "Benin"
          ],
          [
           "Bhutan"
          ],
          [
           "Bolivia"
          ],
          [
           "BosniaandHerzegovina"
          ],
          [
           "Botswana"
          ],
          [
           "Brazil"
          ],
          [
           "Brunei"
          ],
          [
           "Bulgaria"
          ],
          [
           "BurkinaFaso"
          ],
          [
           "Burundi"
          ],
          [
           "IvoryCoast"
          ],
          [
           "CapeVerde"
          ],
          [
           "Cambodia"
          ],
          [
           "Cameroon"
          ],
          [
           "Canada"
          ],
          [
           "CentralAfricanRepublic"
          ],
          [
           "Chad"
          ],
          [
           "Chile"
          ],
          [
           "China"
          ],
          [
           "Colombia"
          ],
          [
           "Comoros"
          ],
          [
           "RepublicoftheCongo"
          ],
          [
           "CostaRica"
          ],
          [
           "Croatia"
          ],
          [
           "Cuba"
          ],
          [
           "Cyprus"
          ],
          [
           "CzechRepublic"
          ],
          [
           "DemocraticRepublicoftheCongo"
          ],
          [
           "Denmark"
          ],
          [
           "Djibouti"
          ],
          [
           "Dominica"
          ],
          [
           "DominicanRepublic"
          ],
          [
           "Ecuador"
          ],
          [
           "Egypt"
          ],
          [
           "ElSalvador"
          ],
          [
           "EquatorialGuinea"
          ],
          [
           "Eritrea"
          ],
          [
           "Estonia"
          ],
          [
           "Eswatini"
          ],
          [
           "Ethiopia"
          ],
          [
           "Fiji"
          ],
          [
           "Finland"
          ],
          [
           "France"
          ],
          [
           "Gabon"
          ],
          [
           "TheGambia"
          ],
          [
           "Georgia"
          ],
          [
           "Germany"
          ],
          [
           "Ghana"
          ],
          [
           "Greece"
          ],
          [
           "Grenada"
          ],
          [
           "Guatemala"
          ],
          [
           "Guinea"
          ],
          [
           "Guinea-Bissau"
          ],
          [
           "Guyana"
          ],
          [
           "Haiti"
          ],
          [
           "VaticanCity"
          ],
          [
           "Honduras"
          ],
          [
           "Hungary"
          ],
          [
           "Iceland"
          ],
          [
           "India"
          ],
          [
           "Indonesia"
          ],
          [
           "Iran"
          ],
          [
           "Iraq"
          ],
          [
           "RepublicofIreland"
          ],
          [
           "Israel"
          ],
          [
           "Italy"
          ],
          [
           "Jamaica"
          ],
          [
           "Japan"
          ],
          [
           "Jordan"
          ],
          [
           "Kazakhstan"
          ],
          [
           "Kenya"
          ],
          [
           "Kiribati"
          ],
          [
           "Kuwait"
          ],
          [
           "Kyrgyzstan"
          ],
          [
           "Laos"
          ],
          [
           "Latvia"
          ],
          [
           "Lebanon"
          ],
          [
           "Lesotho"
          ],
          [
           "Liberia"
          ],
          [
           "Libya"
          ],
          [
           "Liechtenstein"
          ],
          [
           "Lithuania"
          ],
          [
           "Luxembourg"
          ],
          [
           "Madagascar"
          ],
          [
           "Malawi"
          ],
          [
           "Malaysia"
          ],
          [
           "Maldives"
          ],
          [
           "Mali"
          ],
          [
           "Malta"
          ],
          [
           "MarshallIslands"
          ],
          [
           "Mauritania"
          ],
          [
           "Mauritius"
          ],
          [
           "Mexico"
          ],
          [
           "FederatedStatesofMicronesia"
          ],
          [
           "Moldova"
          ],
          [
           "Monaco"
          ],
          [
           "Mongolia"
          ],
          [
           "Montenegro"
          ],
          [
           "Morocco"
          ],
          [
           "Mozambique"
          ],
          [
           "Myanmar"
          ],
          [
           "Namibia"
          ],
          [
           "Nauru"
          ],
          [
           "Nepal"
          ],
          [
           "Netherlands"
          ],
          [
           "NewZealand"
          ],
          [
           "Nicaragua"
          ],
          [
           "Niger"
          ],
          [
           "Nigeria"
          ],
          [
           "NorthKorea"
          ],
          [
           "NorthMacedonia"
          ],
          [
           "Norway"
          ],
          [
           "Oman"
          ],
          [
           "Pakistan"
          ],
          [
           "Palau"
          ],
          [
           "PalestinianNationalAuthority"
          ],
          [
           "Panama"
          ],
          [
           "PapuaNewGuinea"
          ],
          [
           "Paraguay"
          ],
          [
           "Peru"
          ],
          [
           "Philippines"
          ],
          [
           "Poland"
          ],
          [
           "Portugal"
          ],
          [
           "Qatar"
          ],
          [
           "Romania"
          ],
          [
           "Russia"
          ],
          [
           "Rwanda"
          ],
          [
           "SaintKittsandNevis"
          ],
          [
           "SaintLucia"
          ],
          [
           "SaintVincentandtheGrenadines"
          ],
          [
           "Samoa"
          ],
          [
           "SanMarino"
          ],
          [
           "SaoTomedanPrincipe"
          ],
          [
           "SaudiArabia"
          ],
          [
           "Senegal"
          ],
          [
           "Serbia"
          ],
          [
           "Seychelles"
          ],
          [
           "SierraLeone"
          ],
          [
           "Singapore"
          ],
          [
           "Slovakia"
          ],
          [
           "Slovenia"
          ],
          [
           "SolomonIslands"
          ],
          [
           "Somalia"
          ],
          [
           "SouthAfrica"
          ],
          [
           "SouthKorea"
          ],
          [
           "SouthSudan"
          ],
          [
           "Spain"
          ],
          [
           "SriLanka"
          ],
          [
           "Sudan"
          ],
          [
           "Suriname"
          ],
          [
           "Sweden"
          ],
          [
           "Switzerland"
          ],
          [
           "Syria"
          ],
          [
           "Tajikistan"
          ],
          [
           "Tanzania"
          ],
          [
           "Thailand"
          ],
          [
           "EastTimor"
          ],
          [
           "Togo"
          ],
          [
           "Tonga"
          ],
          [
           "TrinidadandTobago"
          ],
          [
           "Tunisia"
          ],
          [
           "Turkey"
          ],
          [
           "Turkmenistan"
          ],
          [
           "Tuvalu"
          ],
          [
           "Uganda"
          ],
          [
           "Ukraine"
          ],
          [
           "UnitedArabEmirates"
          ],
          [
           "UnitedKingdom"
          ],
          [
           "UnitedStates"
          ],
          [
           "Uruguay"
          ],
          [
           "Uzbekistan"
          ],
          [
           "Vanuatu"
          ],
          [
           "Venezuela"
          ],
          [
           "Vietnam"
          ],
          [
           "Yemen"
          ],
          [
           "Zambia"
          ],
          [
           "Zimbabwe"
          ]
         ],
         "hovertemplate": "Physicians per thousand=%{x}<br>Maternal mortality ratio=%{y}<br>Country=%{customdata[0]}<extra></extra>",
         "legendgroup": "",
         "marker": {
          "color": "#34a853",
          "symbol": "circle"
         },
         "mode": "markers",
         "name": "",
         "orientation": "v",
         "showlegend": false,
         "type": "scatter",
         "x": [
          0.28,
          1.2,
          1.72,
          3.33,
          0.21,
          2.76,
          3.96,
          4.4,
          3.68,
          5.17,
          3.45,
          1.94,
          0.93,
          0.58,
          2.48,
          5.19,
          3.07,
          1.12,
          0.08,
          0.42,
          1.59,
          2.16,
          0.37,
          2.15,
          1.61,
          4.03,
          0.08,
          0.1,
          0.23,
          0.77,
          0.17,
          0.09,
          2.61,
          0.06,
          0.04,
          2.59,
          1.98,
          2.18,
          0.27,
          0.12,
          2.89,
          3,
          8.42,
          1.95,
          4.12,
          0.07,
          4.01,
          0.22,
          1.08,
          1.56,
          2.04,
          0.45,
          1.57,
          0.4,
          0.06,
          4.48,
          null,
          0.08,
          0.84,
          3.81,
          3.27,
          0.68,
          0.1,
          7.12,
          4.25,
          0.14,
          5.48,
          1.41,
          0.35,
          0.08,
          0.13,
          0.8,
          0.23,
          null,
          0.31,
          3.41,
          4.08,
          0.86,
          0.43,
          1.58,
          0.71,
          3.31,
          4.62,
          3.98,
          1.31,
          2.41,
          2.32,
          3.25,
          0.16,
          0.2,
          2.58,
          1.88,
          0.37,
          3.19,
          2.1,
          0.07,
          0.04,
          2.09,
          null,
          6.35,
          3.01,
          0.18,
          0.04,
          1.51,
          4.56,
          0.13,
          2.86,
          0.42,
          0.19,
          2.53,
          2.38,
          0.18,
          3.21,
          6.56,
          2.86,
          2.76,
          0.73,
          0.08,
          0.68,
          0.42,
          null,
          0.75,
          3.61,
          3.59,
          0.98,
          0.04,
          0.38,
          3.67,
          null,
          2.92,
          2,
          0.98,
          1.18,
          null,
          1.57,
          0.07,
          1.35,
          1.27,
          0.6,
          2.38,
          5.12,
          2.49,
          2.98,
          4.01,
          0.13,
          2.52,
          0.64,
          0.66,
          0.34,
          6.11,
          0.05,
          2.61,
          0.07,
          3.11,
          0.95,
          0.03,
          2.29,
          3.42,
          3.09,
          0.19,
          0.02,
          0.91,
          2.36,
          null,
          3.87,
          1,
          0.26,
          1.21,
          3.98,
          4.3,
          1.22,
          1.7,
          0.01,
          0.81,
          0.72,
          0.08,
          0.52,
          4.17,
          1.3,
          1.85,
          2.22,
          0.92,
          0.17,
          2.99,
          2.53,
          2.81,
          2.61,
          5.05,
          2.37,
          0.17,
          1.92,
          0.82,
          0.31,
          1.19,
          0.21
         ],
         "xaxis": "x2",
         "y": [
          638,
          15,
          112,
          null,
          241,
          42,
          39,
          26,
          6,
          5,
          26,
          70,
          14,
          173,
          27,
          2,
          5,
          36,
          397,
          183,
          155,
          10,
          144,
          60,
          31,
          10,
          320,
          548,
          617,
          58,
          160,
          529,
          10,
          829,
          1140,
          13,
          29,
          83,
          273,
          378,
          27,
          8,
          36,
          6,
          3,
          473,
          4,
          248,
          null,
          95,
          59,
          37,
          46,
          301,
          480,
          9,
          null,
          401,
          34,
          3,
          8,
          252,
          597,
          25,
          7,
          308,
          3,
          25,
          95,
          576,
          667,
          169,
          480,
          null,
          65,
          12,
          4,
          145,
          177,
          16,
          79,
          5,
          3,
          2,
          80,
          5,
          46,
          10,
          342,
          92,
          12,
          60,
          185,
          19,
          29,
          544,
          661,
          72,
          null,
          8,
          5,
          335,
          349,
          29,
          53,
          562,
          6,
          null,
          766,
          61,
          33,
          88,
          19,
          null,
          45,
          6,
          70,
          289,
          250,
          195,
          null,
          186,
          5,
          9,
          98,
          509,
          917,
          89,
          null,
          2,
          19,
          140,
          null,
          null,
          52,
          145,
          129,
          88,
          121,
          2,
          8,
          9,
          19,
          17,
          248,
          null,
          117,
          68,
          43,
          null,
          130,
          17,
          315,
          12,
          53,
          1120,
          8,
          5,
          7,
          104,
          829,
          119,
          11,
          1150,
          4,
          36,
          295,
          120,
          4,
          5,
          31,
          17,
          524,
          37,
          142,
          396,
          52,
          67,
          43,
          17,
          7,
          null,
          375,
          19,
          3,
          7,
          19,
          17,
          29,
          72,
          125,
          43,
          164,
          213,
          458
         ],
         "yaxis": "y2"
        },
        {
         "hovertemplate": "<b>OLS trendline</b><br>Maternal mortality ratio = -274.877 * log10(Physicians per thousand) + 140.105<br>R<sup>2</sup>=0.630177<br><br>Physicians per thousand=%{x}<br>Maternal mortality ratio=%{y} <b>(trend)</b><extra></extra>",
         "legendgroup": "",
         "line": {
          "color": "#5591f5"
         },
         "marker": {
          "color": "#636efa",
          "symbol": "circle"
         },
         "mode": "lines",
         "name": "",
         "showlegend": false,
         "type": "scatter",
         "x": [
          0.01,
          0.02,
          0.03,
          0.04,
          0.04,
          0.04,
          0.04,
          0.05,
          0.06,
          0.06,
          0.07,
          0.07,
          0.07,
          0.07,
          0.08,
          0.08,
          0.08,
          0.08,
          0.08,
          0.08,
          0.09,
          0.1,
          0.1,
          0.12,
          0.13,
          0.13,
          0.13,
          0.14,
          0.16,
          0.17,
          0.17,
          0.17,
          0.18,
          0.18,
          0.19,
          0.19,
          0.2,
          0.21,
          0.21,
          0.22,
          0.23,
          0.23,
          0.26,
          0.27,
          0.28,
          0.31,
          0.31,
          0.34,
          0.35,
          0.37,
          0.37,
          0.38,
          0.4,
          0.42,
          0.42,
          0.43,
          0.45,
          0.52,
          0.58,
          0.6,
          0.64,
          0.66,
          0.68,
          0.68,
          0.71,
          0.72,
          0.73,
          0.75,
          0.77,
          0.8,
          0.81,
          0.82,
          0.84,
          0.86,
          0.91,
          0.93,
          0.95,
          0.98,
          0.98,
          1,
          1.12,
          1.19,
          1.2,
          1.21,
          1.22,
          1.27,
          1.3,
          1.31,
          1.35,
          1.41,
          1.51,
          1.56,
          1.57,
          1.57,
          1.58,
          1.59,
          1.61,
          1.7,
          1.72,
          1.85,
          1.88,
          1.92,
          1.94,
          1.95,
          1.98,
          2,
          2.04,
          2.09,
          2.1,
          2.15,
          2.16,
          2.18,
          2.22,
          2.29,
          2.32,
          2.36,
          2.37,
          2.38,
          2.38,
          2.41,
          2.48,
          2.49,
          2.53,
          2.53,
          2.58,
          2.59,
          2.61,
          2.61,
          2.61,
          2.76,
          2.76,
          2.81,
          2.86,
          2.86,
          2.89,
          2.92,
          2.98,
          2.99,
          3,
          3.01,
          3.07,
          3.09,
          3.11,
          3.19,
          3.21,
          3.25,
          3.27,
          3.31,
          3.41,
          3.42,
          3.45,
          3.59,
          3.61,
          3.67,
          3.68,
          3.81,
          3.87,
          3.96,
          3.98,
          3.98,
          4.01,
          4.01,
          4.03,
          4.08,
          4.12,
          4.17,
          4.25,
          4.3,
          4.4,
          4.48,
          4.56,
          4.62,
          5.05,
          5.12,
          5.17,
          5.19,
          5.48,
          6.35,
          7.12,
          8.42
         ],
         "xaxis": "x2",
         "y": [
          689.8584877418409,
          607.1123308940776,
          558.7089320593449,
          524.3661740463142,
          524.3661740463142,
          524.3661740463142,
          524.3661740463142,
          497.7278614130629,
          475.9627752115815,
          475.9627752115815,
          457.56065703392187,
          457.56065703392187,
          457.56065703392187,
          457.56065703392187,
          441.62001719855084,
          441.62001719855084,
          441.62001719855084,
          441.62001719855084,
          441.62001719855084,
          441.62001719855084,
          427.55937637684883,
          414.98170456529954,
          414.98170456529954,
          393.21661836381816,
          383.66132241884486,
          383.66132241884486,
          383.66132241884486,
          374.81450018615857,
          358.8738603507875,
          351.6366463703358,
          351.6366463703358,
          351.6366463703358,
          344.8132195290855,
          344.8132195290855,
          338.35881143650863,
          338.35881143650863,
          332.2355477175362,
          326.4111013514259,
          326.4111013514259,
          320.85765957420386,
          315.5511206153721,
          315.5511206153721,
          300.9151655710815,
          296.4098206943528,
          292.06834333839527,
          279.917782787958,
          279.917782787958,
          268.8904895225725,
          265.4300307051439,
          258.79624245839915,
          258.79624245839915,
          255.61265458874524,
          249.48939086977282,
          243.66494450366255,
          243.66494450366255,
          240.85593325177098,
          235.4287500480708,
          218.16900872331817,
          205.13307350779797,
          201.08599203504014,
          193.38154665526076,
          189.70810389170788,
          186.14433267480916,
          186.14433267480916,
          180.9905480172256,
          179.3209058335588,
          177.6742939326174,
          174.4476794017888,
          171.30598571404826,
          166.74323402200946,
          165.2602650118568,
          163.79549239990064,
          160.9187876558992,
          158.10977640400762,
          151.3634917109259,
          148.768227105462,
          146.22818510773058,
          142.5166694782396,
          142.5166694782396,
          140.10492138875813,
          126.5760296428685,
          119.33881566241692,
          118.33983518727679,
          117.3491451020936,
          116.36660893721253,
          111.57168849062937,
          108.78453924230348,
          107.86976487995653,
          104.2791943655748,
          99.08805171358938,
          90.90831385405431,
          87.01945304082214,
          86.25665510910537,
          86.25665510910537,
          85.49870037150397,
          84.74552771454643,
          83.25328990745314,
          76.7598631937945,
          75.36361955624427,
          66.66561612962109,
          64.7452937005587,
          62.23199097276478,
          60.99490767289387,
          60.381140407570825,
          58.55854820921185,
          57.358764540994784,
          54.99477699231315,
          52.104140116634966,
          51.534318174884504,
          48.72530692299294,
          48.17135015106277,
          47.071089181512704,
          44.90052992813975,
          41.19450153039055,
          39.640759812271284,
          37.60006960441439,
          37.0953015367713,
          36.59265881465356,
          36.59265881465356,
          35.097305607162454,
          31.67931224466797,
          31.19891936243613,
          29.296449295498476,
          29.296449295498476,
          26.96022072151159,
          26.498411750480173,
          25.580118990569275,
          25.580118990569275,
          25.580118990569275,
          18.909251237349395,
          18.909251237349395,
          16.765971582265664,
          14.66049425120788,
          14.66049425120788,
          13.41480499883086,
          12.181980237090684,
          9.753880189479844,
          9.3539552923761,
          8.955365706262114,
          8.558102543852016,
          6.201891775742951,
          5.426710674389966,
          4.656530776239947,
          1.6245590356876676,
          0.878447418577025,
          -0.5999302387111811,
          -1.3323096532199656,
          -2.7837253454266317,
          -6.336888531915633,
          -6.686456776246786,
          -7.729061395901965,
          -12.477654995606287,
          -13.140864868823684,
          -15.108669921814396,
          -15.43350677568128,
          -19.57786719186666,
          -21.44317811322108,
          -24.187608638551495,
          -24.789007744918507,
          -24.789007744918507,
          -25.68546354811079,
          -25.68546354811079,
          -26.279382535037996,
          -27.751379855450182,
          -28.916047338640738,
          -30.356082534219155,
          -32.62460628722016,
          -34.0208499247704,
          -36.765280450100846,
          -38.91628405265817,
          -41.02921478927749,
          -42.58972681621108,
          -53.213550264296146,
          -54.85692388802926,
          -56.01706392378827,
          -56.4779813694924,
          -62.96870200079397,
          -80.55893783814867,
          -94.2220369844994,
          -114.24188975702305
         ],
         "yaxis": "y2"
        }
       ],
       "layout": {
        "paper_bgcolor": "rgba(0, 0, 0, 0)",
        "plot_bgcolor": "rgba(0, 0, 0, 0)",
        "showlegend": false,
        "template": {
         "data": {
          "bar": [
           {
            "error_x": {
             "color": "#2a3f5f"
            },
            "error_y": {
             "color": "#2a3f5f"
            },
            "marker": {
             "line": {
              "color": "white",
              "width": 0.5
             },
             "pattern": {
              "fillmode": "overlay",
              "size": 10,
              "solidity": 0.2
             }
            },
            "type": "bar"
           }
          ],
          "barpolar": [
           {
            "marker": {
             "line": {
              "color": "white",
              "width": 0.5
             },
             "pattern": {
              "fillmode": "overlay",
              "size": 10,
              "solidity": 0.2
             }
            },
            "type": "barpolar"
           }
          ],
          "carpet": [
           {
            "aaxis": {
             "endlinecolor": "#2a3f5f",
             "gridcolor": "#C8D4E3",
             "linecolor": "#C8D4E3",
             "minorgridcolor": "#C8D4E3",
             "startlinecolor": "#2a3f5f"
            },
            "baxis": {
             "endlinecolor": "#2a3f5f",
             "gridcolor": "#C8D4E3",
             "linecolor": "#C8D4E3",
             "minorgridcolor": "#C8D4E3",
             "startlinecolor": "#2a3f5f"
            },
            "type": "carpet"
           }
          ],
          "choropleth": [
           {
            "colorbar": {
             "outlinewidth": 0,
             "ticks": ""
            },
            "type": "choropleth"
           }
          ],
          "contour": [
           {
            "colorbar": {
             "outlinewidth": 0,
             "ticks": ""
            },
            "colorscale": [
             [
              0,
              "#0d0887"
             ],
             [
              0.1111111111111111,
              "#46039f"
             ],
             [
              0.2222222222222222,
              "#7201a8"
             ],
             [
              0.3333333333333333,
              "#9c179e"
             ],
             [
              0.4444444444444444,
              "#bd3786"
             ],
             [
              0.5555555555555556,
              "#d8576b"
             ],
             [
              0.6666666666666666,
              "#ed7953"
             ],
             [
              0.7777777777777778,
              "#fb9f3a"
             ],
             [
              0.8888888888888888,
              "#fdca26"
             ],
             [
              1,
              "#f0f921"
             ]
            ],
            "type": "contour"
           }
          ],
          "contourcarpet": [
           {
            "colorbar": {
             "outlinewidth": 0,
             "ticks": ""
            },
            "type": "contourcarpet"
           }
          ],
          "heatmap": [
           {
            "colorbar": {
             "outlinewidth": 0,
             "ticks": ""
            },
            "colorscale": [
             [
              0,
              "#0d0887"
             ],
             [
              0.1111111111111111,
              "#46039f"
             ],
             [
              0.2222222222222222,
              "#7201a8"
             ],
             [
              0.3333333333333333,
              "#9c179e"
             ],
             [
              0.4444444444444444,
              "#bd3786"
             ],
             [
              0.5555555555555556,
              "#d8576b"
             ],
             [
              0.6666666666666666,
              "#ed7953"
             ],
             [
              0.7777777777777778,
              "#fb9f3a"
             ],
             [
              0.8888888888888888,
              "#fdca26"
             ],
             [
              1,
              "#f0f921"
             ]
            ],
            "type": "heatmap"
           }
          ],
          "heatmapgl": [
           {
            "colorbar": {
             "outlinewidth": 0,
             "ticks": ""
            },
            "colorscale": [
             [
              0,
              "#0d0887"
             ],
             [
              0.1111111111111111,
              "#46039f"
             ],
             [
              0.2222222222222222,
              "#7201a8"
             ],
             [
              0.3333333333333333,
              "#9c179e"
             ],
             [
              0.4444444444444444,
              "#bd3786"
             ],
             [
              0.5555555555555556,
              "#d8576b"
             ],
             [
              0.6666666666666666,
              "#ed7953"
             ],
             [
              0.7777777777777778,
              "#fb9f3a"
             ],
             [
              0.8888888888888888,
              "#fdca26"
             ],
             [
              1,
              "#f0f921"
             ]
            ],
            "type": "heatmapgl"
           }
          ],
          "histogram": [
           {
            "marker": {
             "pattern": {
              "fillmode": "overlay",
              "size": 10,
              "solidity": 0.2
             }
            },
            "type": "histogram"
           }
          ],
          "histogram2d": [
           {
            "colorbar": {
             "outlinewidth": 0,
             "ticks": ""
            },
            "colorscale": [
             [
              0,
              "#0d0887"
             ],
             [
              0.1111111111111111,
              "#46039f"
             ],
             [
              0.2222222222222222,
              "#7201a8"
             ],
             [
              0.3333333333333333,
              "#9c179e"
             ],
             [
              0.4444444444444444,
              "#bd3786"
             ],
             [
              0.5555555555555556,
              "#d8576b"
             ],
             [
              0.6666666666666666,
              "#ed7953"
             ],
             [
              0.7777777777777778,
              "#fb9f3a"
             ],
             [
              0.8888888888888888,
              "#fdca26"
             ],
             [
              1,
              "#f0f921"
             ]
            ],
            "type": "histogram2d"
           }
          ],
          "histogram2dcontour": [
           {
            "colorbar": {
             "outlinewidth": 0,
             "ticks": ""
            },
            "colorscale": [
             [
              0,
              "#0d0887"
             ],
             [
              0.1111111111111111,
              "#46039f"
             ],
             [
              0.2222222222222222,
              "#7201a8"
             ],
             [
              0.3333333333333333,
              "#9c179e"
             ],
             [
              0.4444444444444444,
              "#bd3786"
             ],
             [
              0.5555555555555556,
              "#d8576b"
             ],
             [
              0.6666666666666666,
              "#ed7953"
             ],
             [
              0.7777777777777778,
              "#fb9f3a"
             ],
             [
              0.8888888888888888,
              "#fdca26"
             ],
             [
              1,
              "#f0f921"
             ]
            ],
            "type": "histogram2dcontour"
           }
          ],
          "mesh3d": [
           {
            "colorbar": {
             "outlinewidth": 0,
             "ticks": ""
            },
            "type": "mesh3d"
           }
          ],
          "parcoords": [
           {
            "line": {
             "colorbar": {
              "outlinewidth": 0,
              "ticks": ""
             }
            },
            "type": "parcoords"
           }
          ],
          "pie": [
           {
            "automargin": true,
            "type": "pie"
           }
          ],
          "scatter": [
           {
            "fillpattern": {
             "fillmode": "overlay",
             "size": 10,
             "solidity": 0.2
            },
            "type": "scatter"
           }
          ],
          "scatter3d": [
           {
            "line": {
             "colorbar": {
              "outlinewidth": 0,
              "ticks": ""
             }
            },
            "marker": {
             "colorbar": {
              "outlinewidth": 0,
              "ticks": ""
             }
            },
            "type": "scatter3d"
           }
          ],
          "scattercarpet": [
           {
            "marker": {
             "colorbar": {
              "outlinewidth": 0,
              "ticks": ""
             }
            },
            "type": "scattercarpet"
           }
          ],
          "scattergeo": [
           {
            "marker": {
             "colorbar": {
              "outlinewidth": 0,
              "ticks": ""
             }
            },
            "type": "scattergeo"
           }
          ],
          "scattergl": [
           {
            "marker": {
             "colorbar": {
              "outlinewidth": 0,
              "ticks": ""
             }
            },
            "type": "scattergl"
           }
          ],
          "scattermapbox": [
           {
            "marker": {
             "colorbar": {
              "outlinewidth": 0,
              "ticks": ""
             }
            },
            "type": "scattermapbox"
           }
          ],
          "scatterpolar": [
           {
            "marker": {
             "colorbar": {
              "outlinewidth": 0,
              "ticks": ""
             }
            },
            "type": "scatterpolar"
           }
          ],
          "scatterpolargl": [
           {
            "marker": {
             "colorbar": {
              "outlinewidth": 0,
              "ticks": ""
             }
            },
            "type": "scatterpolargl"
           }
          ],
          "scatterternary": [
           {
            "marker": {
             "colorbar": {
              "outlinewidth": 0,
              "ticks": ""
             }
            },
            "type": "scatterternary"
           }
          ],
          "surface": [
           {
            "colorbar": {
             "outlinewidth": 0,
             "ticks": ""
            },
            "colorscale": [
             [
              0,
              "#0d0887"
             ],
             [
              0.1111111111111111,
              "#46039f"
             ],
             [
              0.2222222222222222,
              "#7201a8"
             ],
             [
              0.3333333333333333,
              "#9c179e"
             ],
             [
              0.4444444444444444,
              "#bd3786"
             ],
             [
              0.5555555555555556,
              "#d8576b"
             ],
             [
              0.6666666666666666,
              "#ed7953"
             ],
             [
              0.7777777777777778,
              "#fb9f3a"
             ],
             [
              0.8888888888888888,
              "#fdca26"
             ],
             [
              1,
              "#f0f921"
             ]
            ],
            "type": "surface"
           }
          ],
          "table": [
           {
            "cells": {
             "fill": {
              "color": "#EBF0F8"
             },
             "line": {
              "color": "white"
             }
            },
            "header": {
             "fill": {
              "color": "#C8D4E3"
             },
             "line": {
              "color": "white"
             }
            },
            "type": "table"
           }
          ]
         },
         "layout": {
          "annotationdefaults": {
           "arrowcolor": "#2a3f5f",
           "arrowhead": 0,
           "arrowwidth": 1
          },
          "autotypenumbers": "strict",
          "coloraxis": {
           "colorbar": {
            "outlinewidth": 0,
            "ticks": ""
           }
          },
          "colorscale": {
           "diverging": [
            [
             0,
             "#8e0152"
            ],
            [
             0.1,
             "#c51b7d"
            ],
            [
             0.2,
             "#de77ae"
            ],
            [
             0.3,
             "#f1b6da"
            ],
            [
             0.4,
             "#fde0ef"
            ],
            [
             0.5,
             "#f7f7f7"
            ],
            [
             0.6,
             "#e6f5d0"
            ],
            [
             0.7,
             "#b8e186"
            ],
            [
             0.8,
             "#7fbc41"
            ],
            [
             0.9,
             "#4d9221"
            ],
            [
             1,
             "#276419"
            ]
           ],
           "sequential": [
            [
             0,
             "#0d0887"
            ],
            [
             0.1111111111111111,
             "#46039f"
            ],
            [
             0.2222222222222222,
             "#7201a8"
            ],
            [
             0.3333333333333333,
             "#9c179e"
            ],
            [
             0.4444444444444444,
             "#bd3786"
            ],
            [
             0.5555555555555556,
             "#d8576b"
            ],
            [
             0.6666666666666666,
             "#ed7953"
            ],
            [
             0.7777777777777778,
             "#fb9f3a"
            ],
            [
             0.8888888888888888,
             "#fdca26"
            ],
            [
             1,
             "#f0f921"
            ]
           ],
           "sequentialminus": [
            [
             0,
             "#0d0887"
            ],
            [
             0.1111111111111111,
             "#46039f"
            ],
            [
             0.2222222222222222,
             "#7201a8"
            ],
            [
             0.3333333333333333,
             "#9c179e"
            ],
            [
             0.4444444444444444,
             "#bd3786"
            ],
            [
             0.5555555555555556,
             "#d8576b"
            ],
            [
             0.6666666666666666,
             "#ed7953"
            ],
            [
             0.7777777777777778,
             "#fb9f3a"
            ],
            [
             0.8888888888888888,
             "#fdca26"
            ],
            [
             1,
             "#f0f921"
            ]
           ]
          },
          "colorway": [
           "#636efa",
           "#EF553B",
           "#00cc96",
           "#ab63fa",
           "#FFA15A",
           "#19d3f3",
           "#FF6692",
           "#B6E880",
           "#FF97FF",
           "#FECB52"
          ],
          "font": {
           "color": "#2a3f5f"
          },
          "geo": {
           "bgcolor": "white",
           "lakecolor": "white",
           "landcolor": "white",
           "showlakes": true,
           "showland": true,
           "subunitcolor": "#C8D4E3"
          },
          "hoverlabel": {
           "align": "left"
          },
          "hovermode": "closest",
          "mapbox": {
           "style": "light"
          },
          "paper_bgcolor": "white",
          "plot_bgcolor": "white",
          "polar": {
           "angularaxis": {
            "gridcolor": "#EBF0F8",
            "linecolor": "#EBF0F8",
            "ticks": ""
           },
           "bgcolor": "white",
           "radialaxis": {
            "gridcolor": "#EBF0F8",
            "linecolor": "#EBF0F8",
            "ticks": ""
           }
          },
          "scene": {
           "xaxis": {
            "backgroundcolor": "white",
            "gridcolor": "#DFE8F3",
            "gridwidth": 2,
            "linecolor": "#EBF0F8",
            "showbackground": true,
            "ticks": "",
            "zerolinecolor": "#EBF0F8"
           },
           "yaxis": {
            "backgroundcolor": "white",
            "gridcolor": "#DFE8F3",
            "gridwidth": 2,
            "linecolor": "#EBF0F8",
            "showbackground": true,
            "ticks": "",
            "zerolinecolor": "#EBF0F8"
           },
           "zaxis": {
            "backgroundcolor": "white",
            "gridcolor": "#DFE8F3",
            "gridwidth": 2,
            "linecolor": "#EBF0F8",
            "showbackground": true,
            "ticks": "",
            "zerolinecolor": "#EBF0F8"
           }
          },
          "shapedefaults": {
           "line": {
            "color": "#2a3f5f"
           }
          },
          "ternary": {
           "aaxis": {
            "gridcolor": "#DFE8F3",
            "linecolor": "#A2B1C6",
            "ticks": ""
           },
           "baxis": {
            "gridcolor": "#DFE8F3",
            "linecolor": "#A2B1C6",
            "ticks": ""
           },
           "bgcolor": "white",
           "caxis": {
            "gridcolor": "#DFE8F3",
            "linecolor": "#A2B1C6",
            "ticks": ""
           }
          },
          "title": {
           "x": 0.05
          },
          "xaxis": {
           "automargin": true,
           "gridcolor": "#EBF0F8",
           "linecolor": "#EBF0F8",
           "ticks": "",
           "title": {
            "standoff": 15
           },
           "zerolinecolor": "#EBF0F8",
           "zerolinewidth": 2
          },
          "yaxis": {
           "automargin": true,
           "gridcolor": "#EBF0F8",
           "linecolor": "#EBF0F8",
           "ticks": "",
           "title": {
            "standoff": 15
           },
           "zerolinecolor": "#EBF0F8",
           "zerolinewidth": 2
          }
         }
        },
        "xaxis": {
         "anchor": "y",
         "domain": [
          0,
          0.45
         ],
         "title": {
          "text": "Dokter per Seribu Populasi"
         }
        },
        "xaxis2": {
         "anchor": "y2",
         "domain": [
          0.55,
          1
         ],
         "title": {
          "text": "Dokter per Seribu"
         }
        },
        "yaxis": {
         "anchor": "x",
         "domain": [
          0,
          1
         ],
         "title": {
          "text": "Mortalitas bayi"
         }
        },
        "yaxis2": {
         "anchor": "x2",
         "domain": [
          0,
          1
         ],
         "title": {
          "text": "Rasio Kematian Ibu"
         }
        }
       }
      }
     },
     "metadata": {},
     "output_type": "display_data"
    }
   ],
   "source": [
    "fig = make_subplots(rows=1, cols=2)\n",
    "\n",
    "scatter1 = px.scatter(df, x='Physicians per thousand', y='Infant mortality',\n",
    "                      trendline=\"ols\", trendline_options=dict(log_x=True), hover_data=df[['Country']])\n",
    "fig.add_trace(go.Scatter(scatter1.data[0], marker_color='#ea4335'), row=1, col=1)\n",
    "fig.add_trace(go.Scatter(scatter1.data[1], line=dict(color='#5591f5')), row=1, col=1)\n",
    "\n",
    "fig.update_xaxes(title_text=\"Dokter per Seribu Populasi\", row=1, col=1)\n",
    "fig.update_yaxes(title_text=\"Mortalitas bayi\", row=1, col=1)\n",
    "\n",
    "scatter2 = px.scatter(df, x=\"Physicians per thousand\", y=\"Maternal mortality ratio\",\n",
    "                      trendline=\"ols\", trendline_options=dict(log_x=True), hover_data=df[['Country']])\n",
    "fig.add_trace(go.Scatter(scatter2.data[0], marker_color='#34a853'), row=1, col=2)\n",
    "fig.add_trace(go.Scatter(scatter2.data[1], line=dict(color='#5591f5')), row=1, col=2)\n",
    "\n",
    "fig.update_xaxes(title_text=\"Dokter per Seribu\", row=1, col=2)\n",
    "fig.update_yaxes(title_text=\"Rasio Kematian Ibu\", row=1, col=2)\n",
    "\n",
    "fig.update_layout(\n",
    "    showlegend=False,\n",
    "    template='plotly_white',\n",
    "    plot_bgcolor='rgba(0, 0, 0, 0)',\n",
    "    paper_bgcolor='rgba(0, 0, 0, 0)',\n",
    ")\n",
    "\n",
    "fig.show()\n"
   ]
  },
  {
   "cell_type": "markdown",
   "id": "f1b32b76",
   "metadata": {
    "papermill": {
     "duration": 0.010518,
     "end_time": "2023-08-28T11:18:48.213996",
     "exception": false,
     "start_time": "2023-08-28T11:18:48.203478",
     "status": "completed"
    },
    "tags": []
   },
   "source": [
    "**Mortalitas Bayi:** Mortalitas bayi adalah tingkat kematian untuk setiap 1000 kelahiran.  \n",
    "**Rasio Kematian Ibu:** Rasio kematian ibu didefinisikan sebagai jumlah kematian ibu dalam jangka waktu tertentu per 100.000 kelahiran hidup dalam jangka waktu yang sama.\n",
    "\n",
    "It's connecting... Seiring penurunan jumlah dokter per seribu orang, tingkat kematian bayi dan kematian ibu naik secara drastis. Pada grafik hubungannya sangat kuat, dengan R2 mencapai 0.677729. \n",
    "Grafik ini menunjukkan pentingnya dokter dalam proses kelahiran. Tanpa kehadiran mereka, jumlah kematian bayi dan ibu akan meningkat. Namun, mengapa negara dengan dokter yang relatif sedikit (dibandingkan dengan jumlah penduduknya) memiliki tingkat kelahiran yang lebih tinggi? Let's find out!"
   ]
  },
  {
   "cell_type": "code",
   "execution_count": 66,
   "id": "3e144dba",
   "metadata": {
    "_kg_hide-input": true,
    "execution": {
     "iopub.execute_input": "2023-08-28T11:18:48.237835Z",
     "iopub.status.busy": "2023-08-28T11:18:48.237449Z",
     "iopub.status.idle": "2023-08-28T11:18:48.412985Z",
     "shell.execute_reply": "2023-08-28T11:18:48.411822Z"
    },
    "papermill": {
     "duration": 0.190509,
     "end_time": "2023-08-28T11:18:48.415495",
     "exception": false,
     "start_time": "2023-08-28T11:18:48.224986",
     "status": "completed"
    },
    "tags": []
   },
   "outputs": [
    {
     "data": {
      "application/vnd.plotly.v1+json": {
       "config": {
        "plotlyServerURL": "https://plot.ly"
       },
       "data": [
        {
         "customdata": [
          [
           "Afghanistan"
          ],
          [
           "Albania"
          ],
          [
           "Algeria"
          ],
          [
           "Andorra"
          ],
          [
           "Angola"
          ],
          [
           "AntiguaandBarbuda"
          ],
          [
           "Argentina"
          ],
          [
           "Armenia"
          ],
          [
           "Australia"
          ],
          [
           "Austria"
          ],
          [
           "Azerbaijan"
          ],
          [
           "TheBahamas"
          ],
          [
           "Bahrain"
          ],
          [
           "Bangladesh"
          ],
          [
           "Barbados"
          ],
          [
           "Belarus"
          ],
          [
           "Belgium"
          ],
          [
           "Belize"
          ],
          [
           "Benin"
          ],
          [
           "Bhutan"
          ],
          [
           "Bolivia"
          ],
          [
           "BosniaandHerzegovina"
          ],
          [
           "Botswana"
          ],
          [
           "Brazil"
          ],
          [
           "Brunei"
          ],
          [
           "Bulgaria"
          ],
          [
           "BurkinaFaso"
          ],
          [
           "Burundi"
          ],
          [
           "IvoryCoast"
          ],
          [
           "CapeVerde"
          ],
          [
           "Cambodia"
          ],
          [
           "Cameroon"
          ],
          [
           "Canada"
          ],
          [
           "CentralAfricanRepublic"
          ],
          [
           "Chad"
          ],
          [
           "Chile"
          ],
          [
           "China"
          ],
          [
           "Colombia"
          ],
          [
           "Comoros"
          ],
          [
           "RepublicoftheCongo"
          ],
          [
           "CostaRica"
          ],
          [
           "Croatia"
          ],
          [
           "Cuba"
          ],
          [
           "Cyprus"
          ],
          [
           "CzechRepublic"
          ],
          [
           "DemocraticRepublicoftheCongo"
          ],
          [
           "Denmark"
          ],
          [
           "Djibouti"
          ],
          [
           "Dominica"
          ],
          [
           "DominicanRepublic"
          ],
          [
           "Ecuador"
          ],
          [
           "Egypt"
          ],
          [
           "ElSalvador"
          ],
          [
           "EquatorialGuinea"
          ],
          [
           "Eritrea"
          ],
          [
           "Estonia"
          ],
          [
           "Eswatini"
          ],
          [
           "Ethiopia"
          ],
          [
           "Fiji"
          ],
          [
           "Finland"
          ],
          [
           "France"
          ],
          [
           "Gabon"
          ],
          [
           "TheGambia"
          ],
          [
           "Georgia"
          ],
          [
           "Germany"
          ],
          [
           "Ghana"
          ],
          [
           "Greece"
          ],
          [
           "Grenada"
          ],
          [
           "Guatemala"
          ],
          [
           "Guinea"
          ],
          [
           "Guinea-Bissau"
          ],
          [
           "Guyana"
          ],
          [
           "Haiti"
          ],
          [
           "VaticanCity"
          ],
          [
           "Honduras"
          ],
          [
           "Hungary"
          ],
          [
           "Iceland"
          ],
          [
           "India"
          ],
          [
           "Indonesia"
          ],
          [
           "Iran"
          ],
          [
           "Iraq"
          ],
          [
           "RepublicofIreland"
          ],
          [
           "Israel"
          ],
          [
           "Italy"
          ],
          [
           "Jamaica"
          ],
          [
           "Japan"
          ],
          [
           "Jordan"
          ],
          [
           "Kazakhstan"
          ],
          [
           "Kenya"
          ],
          [
           "Kiribati"
          ],
          [
           "Kuwait"
          ],
          [
           "Kyrgyzstan"
          ],
          [
           "Laos"
          ],
          [
           "Latvia"
          ],
          [
           "Lebanon"
          ],
          [
           "Lesotho"
          ],
          [
           "Liberia"
          ],
          [
           "Libya"
          ],
          [
           "Liechtenstein"
          ],
          [
           "Lithuania"
          ],
          [
           "Luxembourg"
          ],
          [
           "Madagascar"
          ],
          [
           "Malawi"
          ],
          [
           "Malaysia"
          ],
          [
           "Maldives"
          ],
          [
           "Mali"
          ],
          [
           "Malta"
          ],
          [
           "MarshallIslands"
          ],
          [
           "Mauritania"
          ],
          [
           "Mauritius"
          ],
          [
           "Mexico"
          ],
          [
           "FederatedStatesofMicronesia"
          ],
          [
           "Moldova"
          ],
          [
           "Monaco"
          ],
          [
           "Mongolia"
          ],
          [
           "Montenegro"
          ],
          [
           "Morocco"
          ],
          [
           "Mozambique"
          ],
          [
           "Myanmar"
          ],
          [
           "Namibia"
          ],
          [
           "Nauru"
          ],
          [
           "Nepal"
          ],
          [
           "Netherlands"
          ],
          [
           "NewZealand"
          ],
          [
           "Nicaragua"
          ],
          [
           "Niger"
          ],
          [
           "Nigeria"
          ],
          [
           "NorthKorea"
          ],
          [
           "NorthMacedonia"
          ],
          [
           "Norway"
          ],
          [
           "Oman"
          ],
          [
           "Pakistan"
          ],
          [
           "Palau"
          ],
          [
           "PalestinianNationalAuthority"
          ],
          [
           "Panama"
          ],
          [
           "PapuaNewGuinea"
          ],
          [
           "Paraguay"
          ],
          [
           "Peru"
          ],
          [
           "Philippines"
          ],
          [
           "Poland"
          ],
          [
           "Portugal"
          ],
          [
           "Qatar"
          ],
          [
           "Romania"
          ],
          [
           "Russia"
          ],
          [
           "Rwanda"
          ],
          [
           "SaintKittsandNevis"
          ],
          [
           "SaintLucia"
          ],
          [
           "SaintVincentandtheGrenadines"
          ],
          [
           "Samoa"
          ],
          [
           "SanMarino"
          ],
          [
           "SaoTomedanPrincipe"
          ],
          [
           "SaudiArabia"
          ],
          [
           "Senegal"
          ],
          [
           "Serbia"
          ],
          [
           "Seychelles"
          ],
          [
           "SierraLeone"
          ],
          [
           "Singapore"
          ],
          [
           "Slovakia"
          ],
          [
           "Slovenia"
          ],
          [
           "SolomonIslands"
          ],
          [
           "Somalia"
          ],
          [
           "SouthAfrica"
          ],
          [
           "SouthKorea"
          ],
          [
           "SouthSudan"
          ],
          [
           "Spain"
          ],
          [
           "SriLanka"
          ],
          [
           "Sudan"
          ],
          [
           "Suriname"
          ],
          [
           "Sweden"
          ],
          [
           "Switzerland"
          ],
          [
           "Syria"
          ],
          [
           "Tajikistan"
          ],
          [
           "Tanzania"
          ],
          [
           "Thailand"
          ],
          [
           "EastTimor"
          ],
          [
           "Togo"
          ],
          [
           "Tonga"
          ],
          [
           "TrinidadandTobago"
          ],
          [
           "Tunisia"
          ],
          [
           "Turkey"
          ],
          [
           "Turkmenistan"
          ],
          [
           "Tuvalu"
          ],
          [
           "Uganda"
          ],
          [
           "Ukraine"
          ],
          [
           "UnitedArabEmirates"
          ],
          [
           "UnitedKingdom"
          ],
          [
           "UnitedStates"
          ],
          [
           "Uruguay"
          ],
          [
           "Uzbekistan"
          ],
          [
           "Vanuatu"
          ],
          [
           "Venezuela"
          ],
          [
           "Vietnam"
          ],
          [
           "Yemen"
          ],
          [
           "Zambia"
          ],
          [
           "Zimbabwe"
          ]
         ],
         "hovertemplate": "Physicians per thousand=%{x}<br>GDP_per_Capita=%{y}<br>Country=%{customdata[0]}<extra></extra>",
         "legendgroup": "",
         "marker": {
          "color": "#5591f5",
          "symbol": "circle"
         },
         "mode": "markers",
         "name": "",
         "orientation": "v",
         "showlegend": false,
         "type": "scatter",
         "x": [
          0.28,
          1.2,
          1.72,
          3.33,
          0.21,
          2.76,
          3.96,
          4.4,
          3.68,
          5.17,
          3.45,
          1.94,
          0.93,
          0.58,
          2.48,
          5.19,
          3.07,
          1.12,
          0.08,
          0.42,
          1.59,
          2.16,
          0.37,
          2.15,
          1.61,
          4.03,
          0.08,
          0.1,
          0.23,
          0.77,
          0.17,
          0.09,
          2.61,
          0.06,
          0.04,
          2.59,
          1.98,
          2.18,
          0.27,
          0.12,
          2.89,
          3,
          8.42,
          1.95,
          4.12,
          0.07,
          4.01,
          0.22,
          1.08,
          1.56,
          2.04,
          0.45,
          1.57,
          0.4,
          0.06,
          4.48,
          null,
          0.08,
          0.84,
          3.81,
          3.27,
          0.68,
          0.1,
          7.12,
          4.25,
          0.14,
          5.48,
          1.41,
          0.35,
          0.08,
          0.13,
          0.8,
          0.23,
          null,
          0.31,
          3.41,
          4.08,
          0.86,
          0.43,
          1.58,
          0.71,
          3.31,
          4.62,
          3.98,
          1.31,
          2.41,
          2.32,
          3.25,
          0.16,
          0.2,
          2.58,
          1.88,
          0.37,
          3.19,
          2.1,
          0.07,
          0.04,
          2.09,
          null,
          6.35,
          3.01,
          0.18,
          0.04,
          1.51,
          4.56,
          0.13,
          2.86,
          0.42,
          0.19,
          2.53,
          2.38,
          0.18,
          3.21,
          6.56,
          2.86,
          2.76,
          0.73,
          0.08,
          0.68,
          0.42,
          null,
          0.75,
          3.61,
          3.59,
          0.98,
          0.04,
          0.38,
          3.67,
          null,
          2.92,
          2,
          0.98,
          1.18,
          null,
          1.57,
          0.07,
          1.35,
          1.27,
          0.6,
          2.38,
          5.12,
          2.49,
          2.98,
          4.01,
          0.13,
          2.52,
          0.64,
          0.66,
          0.34,
          6.11,
          0.05,
          2.61,
          0.07,
          3.11,
          0.95,
          0.03,
          2.29,
          3.42,
          3.09,
          0.19,
          0.02,
          0.91,
          2.36,
          null,
          3.87,
          1,
          0.26,
          1.21,
          3.98,
          4.3,
          1.22,
          1.7,
          0.01,
          0.81,
          0.72,
          0.08,
          0.52,
          4.17,
          1.3,
          1.85,
          2.22,
          0.92,
          0.17,
          2.99,
          2.53,
          2.81,
          2.61,
          5.05,
          2.37,
          0.17,
          1.92,
          0.82,
          0.31,
          1.19,
          0.21
         ],
         "xaxis": "x",
         "y": [
          502.11548691997746,
          5352.857411084262,
          3948.3432789227913,
          40886.39116175365,
          2973.591159799147,
          17790.309304145474,
          10006.148973606541,
          4622.733493343377,
          54049.8288124881,
          50277.27508736838,
          3911.5789801341234,
          32933.48601475806,
          25688.046129052665,
          1808.4378618138294,
          18148.24492640014,
          6663.295292861749,
          46116.699233676605,
          4815.163710795101,
          1219.4326718639563,
          3364.767826224481,
          3552.068762105775,
          6073.265202968797,
          7817.1830832174355,
          8655.264804221777,
          31086.751078389512,
          12328.404026456756,
          774.8396902513206,
          261.24747254691437,
          2286.16277684902,
          4097.872209632196,
          1643.121388766668,
          1497.90917558793,
          46940.59584210967,
          467.90744070041524,
          709.5403101522832,
          14896.453866597354,
          14244.677920749224,
          6432.387583390623,
          1393.522371974624,
          2011.0723989259006,
          12238.374964463035,
          14853.239837492318,
          8825.442275777004,
          20494.87761299877,
          23101.777704996453,
          545.2162123102618,
          59822.092960913134,
          3408.8462539545585,
          8300.375069630125,
          8282.11622189043,
          6183.823824821733,
          3020.0313497202005,
          4187.250031106896,
          8131.92388785725,
          326.0630992391604,
          23566.890205462583,
          3467.9588049445774,
          857.5013510413618,
          6220.046420428944,
          48685.853986747854,
          40493.9285720389,
          7667.366861228061,
          751.2946885172164,
          4769.18654320981,
          46258.8782897109,
          2175.3153946557563,
          19582.53601086268,
          10965.51315589761,
          4619.987097105244,
          1064.1312373906196,
          697.7844030106376,
          5468.356628928696,
          754.5879177599514,
          null,
          2574.912190670397,
          16475.741838979917,
          66944.82550863102,
          1910.8358277376421,
          4142.022784788127,
          5371.177207873912,
          5955.109010370268,
          77629.9889911643,
          43641.39773585323,
          33189.56579886136,
          5582.263777613991,
          40259.112030836484,
          4330.329345949303,
          9731.14520687936,
          1816.5469164371505,
          1655.0788395149907,
          32031.980102603156,
          1309.3929916833156,
          2534.8982772051713,
          17836.364886560932,
          7784.316856904599,
          1157.5351645063117,
          621.8929536227153,
          7683.750611291677,
          172357.4722901707,
          19455.45412660343,
          110172.37314087298,
          522.219809244635,
          411.5523404231106,
          11239.78150436468,
          10790.500236367438,
          890.7372854890706,
          29416.230606402427,
          3763.8073854841728,
          1677.9192526409197,
          11203.540584699034,
          9985.29113811174,
          3531.452611694416,
          4498.520850289186,
          184396.98678267119,
          4295.235024728952,
          8832.036835938065,
          3216.5667385160236,
          491.80472307942995,
          1407.8131434078966,
          4957.458005716508,
          13189.210630702102,
          1071.0507605550897,
          52447.83143920359,
          42745.04555752943,
          1912.903745350624,
          554.6009686961554,
          2229.858696245781,
          1250.6739905512165,
          5564.713196345863,
          75419.6348687409,
          14617.408775978893,
          1405.5805556086316,
          15575.873416333023,
          null,
          15731.01603484708,
          2845.180185774812,
          5414.799137954041,
          6977.695783568442,
          3485.0842183692116,
          15595.227033436207,
          23145.04081731222,
          64781.73319734314,
          12919.529644186483,
          11774.156384485565,
          801.6561869651816,
          19896.49571209511,
          11611.415449422835,
          8216.466925489025,
          4200.641052610787,
          48373.6277023036,
          1994.9064662227513,
          23139.798656131363,
          1446.8309649931728,
          7402.354558655718,
          17401.72151600512,
          504.4625433960284,
          65233.28243929371,
          19329.0968008679,
          25739.247814359183,
          2127.5385079341854,
          305.689070676793,
          6001.400813941395,
          39238.74286107253,
          1084.58490263117,
          29613.67113798626,
          3853.0836928863,
          441.5056033837011,
          6854.906560687477,
          51610.06605523354,
          81993.72714940654,
          2366.999792737433,
          870.787589295504,
          1089.1572087787663,
          7808.192916304814,
          478.15437142857144,
          675.5422133815766,
          4494.140386592023,
          17276.465447001483,
          3317.5410135121674,
          9042.492982893424,
          6859.732807266939,
          4059.029967370771,
          776.7685758762549,
          3464.696002931611,
          43103.32305835232,
          42300.26712583137,
          65280.6822413034,
          16190.126957183886,
          1724.8411344032947,
          3058.065675832494,
          16915.49345340793,
          2715.276036405425,
          922.9296417430922,
          1291.3433573539712,
          1463.9859101805419
         ],
         "yaxis": "y"
        },
        {
         "hovertemplate": "<b>OLS trendline</b><br>GDP_per_Capita = 7544.82 * Physicians per thousand + 1186.16<br>R<sup>2</sup>=0.309703<br><br>Physicians per thousand=%{x}<br>GDP_per_Capita=%{y} <b>(trend)</b><extra></extra>",
         "legendgroup": "",
         "line": {
          "color": "#ea4335"
         },
         "marker": {
          "color": "#636efa",
          "symbol": "circle"
         },
         "mode": "lines",
         "name": "",
         "showlegend": false,
         "type": "scatter",
         "x": [
          0.01,
          0.02,
          0.03,
          0.04,
          0.04,
          0.04,
          0.04,
          0.05,
          0.06,
          0.06,
          0.07,
          0.07,
          0.07,
          0.07,
          0.08,
          0.08,
          0.08,
          0.08,
          0.08,
          0.08,
          0.09,
          0.1,
          0.1,
          0.12,
          0.13,
          0.13,
          0.13,
          0.14,
          0.16,
          0.17,
          0.17,
          0.17,
          0.18,
          0.18,
          0.19,
          0.19,
          0.2,
          0.21,
          0.21,
          0.22,
          0.23,
          0.23,
          0.26,
          0.27,
          0.28,
          0.31,
          0.31,
          0.34,
          0.35,
          0.37,
          0.37,
          0.38,
          0.4,
          0.42,
          0.42,
          0.42,
          0.43,
          0.45,
          0.52,
          0.58,
          0.6,
          0.64,
          0.66,
          0.68,
          0.68,
          0.71,
          0.72,
          0.73,
          0.75,
          0.77,
          0.8,
          0.81,
          0.82,
          0.84,
          0.86,
          0.91,
          0.92,
          0.93,
          0.95,
          0.98,
          0.98,
          1,
          1.08,
          1.12,
          1.18,
          1.19,
          1.2,
          1.21,
          1.22,
          1.27,
          1.3,
          1.31,
          1.35,
          1.41,
          1.51,
          1.56,
          1.57,
          1.57,
          1.58,
          1.59,
          1.61,
          1.7,
          1.72,
          1.85,
          1.88,
          1.92,
          1.94,
          1.95,
          1.98,
          2,
          2.04,
          2.09,
          2.1,
          2.15,
          2.16,
          2.18,
          2.22,
          2.29,
          2.32,
          2.36,
          2.37,
          2.38,
          2.38,
          2.41,
          2.48,
          2.49,
          2.52,
          2.53,
          2.53,
          2.58,
          2.59,
          2.61,
          2.61,
          2.61,
          2.76,
          2.76,
          2.81,
          2.86,
          2.86,
          2.89,
          2.92,
          2.98,
          2.99,
          3,
          3.01,
          3.07,
          3.09,
          3.11,
          3.19,
          3.21,
          3.25,
          3.27,
          3.31,
          3.33,
          3.41,
          3.42,
          3.45,
          3.59,
          3.61,
          3.67,
          3.68,
          3.81,
          3.87,
          3.96,
          3.98,
          3.98,
          4.01,
          4.01,
          4.03,
          4.08,
          4.12,
          4.17,
          4.25,
          4.3,
          4.4,
          4.48,
          4.56,
          4.62,
          5.05,
          5.12,
          5.17,
          5.19,
          5.48,
          6.11,
          6.35,
          6.56,
          7.12,
          8.42
         ],
         "xaxis": "x",
         "y": [
          1261.604698934675,
          1337.0529034984609,
          1412.5011080622469,
          1487.949312626033,
          1487.949312626033,
          1487.949312626033,
          1487.949312626033,
          1563.3975171898187,
          1638.8457217536047,
          1638.8457217536047,
          1714.2939263173907,
          1714.2939263173907,
          1714.2939263173907,
          1714.2939263173907,
          1789.7421308811768,
          1789.7421308811768,
          1789.7421308811768,
          1789.7421308811768,
          1789.7421308811768,
          1789.7421308811768,
          1865.1903354449626,
          1940.6385400087486,
          1940.6385400087486,
          2091.5349491363204,
          2166.9831537001064,
          2166.9831537001064,
          2166.9831537001064,
          2242.4313582638924,
          2393.3277673914645,
          2468.7759719552505,
          2468.7759719552505,
          2468.7759719552505,
          2544.224176519036,
          2544.224176519036,
          2619.672381082822,
          2619.672381082822,
          2695.120585646608,
          2770.5687902103937,
          2770.5687902103937,
          2846.0169947741797,
          2921.4651993379657,
          2921.4651993379657,
          3147.809813029324,
          3223.25801759311,
          3298.706222156896,
          3525.0508358482534,
          3525.0508358482534,
          3751.3954495396115,
          3826.843654103397,
          3977.740063230969,
          3977.740063230969,
          4053.188267794755,
          4204.084676922327,
          4354.981086049898,
          4354.981086049898,
          4354.981086049898,
          4430.429290613685,
          4581.325699741257,
          5109.4631316877585,
          5562.152359070474,
          5713.048768198046,
          6014.84158645319,
          6165.737995580762,
          6316.634404708334,
          6316.634404708334,
          6542.979018399691,
          6618.427222963477,
          6693.875427527263,
          6844.771836654835,
          6995.668245782407,
          7222.012859473765,
          7297.461064037551,
          7372.909268601336,
          7523.805677728908,
          7674.7020868564805,
          8051.943109675411,
          8127.391314239197,
          8202.839518802983,
          8353.735927930553,
          8580.080541621912,
          8580.080541621912,
          8730.976950749484,
          9334.562587259772,
          9636.355405514916,
          10089.04463289763,
          10164.492837461417,
          10239.941042025202,
          10315.38924658899,
          10390.837451152775,
          10768.078473971704,
          10994.423087663063,
          11069.871292226848,
          11371.664110481992,
          11824.353337864708,
          12578.835383502566,
          12956.076406321497,
          13031.524610885283,
          13031.524610885283,
          13106.97281544907,
          13182.421020012855,
          13333.317429140427,
          14012.3512702145,
          14163.247679342072,
          15144.07433867129,
          15370.418952362646,
          15672.21177061779,
          15823.108179745363,
          15898.55638430915,
          16124.900998000507,
          16275.797407128079,
          16577.590225383225,
          16954.83124820215,
          17030.27945276594,
          17407.520475584868,
          17482.968680148653,
          17633.865089276223,
          17935.65790753137,
          18463.795339477874,
          18690.13995316923,
          18991.93277142437,
          19067.380975988162,
          19142.829180551948,
          19142.829180551948,
          19369.173794243303,
          19897.311226189806,
          19972.75943075359,
          20199.104044444946,
          20274.55224900873,
          20274.55224900873,
          20651.793271827664,
          20727.24147639145,
          20878.13788551902,
          20878.13788551902,
          20878.13788551902,
          22009.86095397581,
          22009.86095397581,
          22387.101976794744,
          22764.34299961367,
          22764.34299961367,
          22990.687613305032,
          23217.032226996387,
          23669.721454379105,
          23745.16965894289,
          23820.617863506675,
          23896.06606807046,
          24348.75529545317,
          24499.65170458075,
          24650.54811370832,
          25254.133750218607,
          25405.030159346177,
          25706.822977601325,
          25857.719386728895,
          26159.512204984036,
          26310.408614111613,
          26913.9942506219,
          26989.442455185686,
          27215.78706887704,
          28272.06193277004,
          28422.958341897618,
          28875.64756928033,
          28951.09577384412,
          29931.922433173335,
          30384.611660556053,
          31063.645501630126,
          31214.541910757696,
          31214.541910757696,
          31440.88652444905,
          31440.88652444905,
          31591.78293357663,
          31969.023956395555,
          32270.816774650702,
          32648.057797469628,
          33251.643433979916,
          33628.88445679885,
          34383.36650243671,
          34986.952138946996,
          35590.53777545728,
          36043.227002839994,
          39287.49979908279,
          39815.63723102929,
          40192.87825384822,
          40343.7746629758,
          42531.77259532559,
          47285.00948284411,
          49095.766392374964,
          50680.178688214466,
          54905.27814378648,
          64713.54473707866
         ],
         "yaxis": "y"
        },
        {
         "customdata": [
          [
           "Afghanistan"
          ],
          [
           "Albania"
          ],
          [
           "Algeria"
          ],
          [
           "Andorra"
          ],
          [
           "Angola"
          ],
          [
           "AntiguaandBarbuda"
          ],
          [
           "Argentina"
          ],
          [
           "Armenia"
          ],
          [
           "Australia"
          ],
          [
           "Austria"
          ],
          [
           "Azerbaijan"
          ],
          [
           "TheBahamas"
          ],
          [
           "Bahrain"
          ],
          [
           "Bangladesh"
          ],
          [
           "Barbados"
          ],
          [
           "Belarus"
          ],
          [
           "Belgium"
          ],
          [
           "Belize"
          ],
          [
           "Benin"
          ],
          [
           "Bhutan"
          ],
          [
           "Bolivia"
          ],
          [
           "BosniaandHerzegovina"
          ],
          [
           "Botswana"
          ],
          [
           "Brazil"
          ],
          [
           "Brunei"
          ],
          [
           "Bulgaria"
          ],
          [
           "BurkinaFaso"
          ],
          [
           "Burundi"
          ],
          [
           "IvoryCoast"
          ],
          [
           "CapeVerde"
          ],
          [
           "Cambodia"
          ],
          [
           "Cameroon"
          ],
          [
           "Canada"
          ],
          [
           "CentralAfricanRepublic"
          ],
          [
           "Chad"
          ],
          [
           "Chile"
          ],
          [
           "China"
          ],
          [
           "Colombia"
          ],
          [
           "Comoros"
          ],
          [
           "RepublicoftheCongo"
          ],
          [
           "CostaRica"
          ],
          [
           "Croatia"
          ],
          [
           "Cuba"
          ],
          [
           "Cyprus"
          ],
          [
           "CzechRepublic"
          ],
          [
           "DemocraticRepublicoftheCongo"
          ],
          [
           "Denmark"
          ],
          [
           "Djibouti"
          ],
          [
           "Dominica"
          ],
          [
           "DominicanRepublic"
          ],
          [
           "Ecuador"
          ],
          [
           "Egypt"
          ],
          [
           "ElSalvador"
          ],
          [
           "EquatorialGuinea"
          ],
          [
           "Eritrea"
          ],
          [
           "Estonia"
          ],
          [
           "Eswatini"
          ],
          [
           "Ethiopia"
          ],
          [
           "Fiji"
          ],
          [
           "Finland"
          ],
          [
           "France"
          ],
          [
           "Gabon"
          ],
          [
           "TheGambia"
          ],
          [
           "Georgia"
          ],
          [
           "Germany"
          ],
          [
           "Ghana"
          ],
          [
           "Greece"
          ],
          [
           "Grenada"
          ],
          [
           "Guatemala"
          ],
          [
           "Guinea"
          ],
          [
           "Guinea-Bissau"
          ],
          [
           "Guyana"
          ],
          [
           "Haiti"
          ],
          [
           "VaticanCity"
          ],
          [
           "Honduras"
          ],
          [
           "Hungary"
          ],
          [
           "Iceland"
          ],
          [
           "India"
          ],
          [
           "Indonesia"
          ],
          [
           "Iran"
          ],
          [
           "Iraq"
          ],
          [
           "RepublicofIreland"
          ],
          [
           "Israel"
          ],
          [
           "Italy"
          ],
          [
           "Jamaica"
          ],
          [
           "Japan"
          ],
          [
           "Jordan"
          ],
          [
           "Kazakhstan"
          ],
          [
           "Kenya"
          ],
          [
           "Kiribati"
          ],
          [
           "Kuwait"
          ],
          [
           "Kyrgyzstan"
          ],
          [
           "Laos"
          ],
          [
           "Latvia"
          ],
          [
           "Lebanon"
          ],
          [
           "Lesotho"
          ],
          [
           "Liberia"
          ],
          [
           "Libya"
          ],
          [
           "Liechtenstein"
          ],
          [
           "Lithuania"
          ],
          [
           "Luxembourg"
          ],
          [
           "Madagascar"
          ],
          [
           "Malawi"
          ],
          [
           "Malaysia"
          ],
          [
           "Maldives"
          ],
          [
           "Mali"
          ],
          [
           "Malta"
          ],
          [
           "MarshallIslands"
          ],
          [
           "Mauritania"
          ],
          [
           "Mauritius"
          ],
          [
           "Mexico"
          ],
          [
           "FederatedStatesofMicronesia"
          ],
          [
           "Moldova"
          ],
          [
           "Monaco"
          ],
          [
           "Mongolia"
          ],
          [
           "Montenegro"
          ],
          [
           "Morocco"
          ],
          [
           "Mozambique"
          ],
          [
           "Myanmar"
          ],
          [
           "Namibia"
          ],
          [
           "Nauru"
          ],
          [
           "Nepal"
          ],
          [
           "Netherlands"
          ],
          [
           "NewZealand"
          ],
          [
           "Nicaragua"
          ],
          [
           "Niger"
          ],
          [
           "Nigeria"
          ],
          [
           "NorthKorea"
          ],
          [
           "NorthMacedonia"
          ],
          [
           "Norway"
          ],
          [
           "Oman"
          ],
          [
           "Pakistan"
          ],
          [
           "Palau"
          ],
          [
           "PalestinianNationalAuthority"
          ],
          [
           "Panama"
          ],
          [
           "PapuaNewGuinea"
          ],
          [
           "Paraguay"
          ],
          [
           "Peru"
          ],
          [
           "Philippines"
          ],
          [
           "Poland"
          ],
          [
           "Portugal"
          ],
          [
           "Qatar"
          ],
          [
           "Romania"
          ],
          [
           "Russia"
          ],
          [
           "Rwanda"
          ],
          [
           "SaintKittsandNevis"
          ],
          [
           "SaintLucia"
          ],
          [
           "SaintVincentandtheGrenadines"
          ],
          [
           "Samoa"
          ],
          [
           "SanMarino"
          ],
          [
           "SaoTomedanPrincipe"
          ],
          [
           "SaudiArabia"
          ],
          [
           "Senegal"
          ],
          [
           "Serbia"
          ],
          [
           "Seychelles"
          ],
          [
           "SierraLeone"
          ],
          [
           "Singapore"
          ],
          [
           "Slovakia"
          ],
          [
           "Slovenia"
          ],
          [
           "SolomonIslands"
          ],
          [
           "Somalia"
          ],
          [
           "SouthAfrica"
          ],
          [
           "SouthKorea"
          ],
          [
           "SouthSudan"
          ],
          [
           "Spain"
          ],
          [
           "SriLanka"
          ],
          [
           "Sudan"
          ],
          [
           "Suriname"
          ],
          [
           "Sweden"
          ],
          [
           "Switzerland"
          ],
          [
           "Syria"
          ],
          [
           "Tajikistan"
          ],
          [
           "Tanzania"
          ],
          [
           "Thailand"
          ],
          [
           "EastTimor"
          ],
          [
           "Togo"
          ],
          [
           "Tonga"
          ],
          [
           "TrinidadandTobago"
          ],
          [
           "Tunisia"
          ],
          [
           "Turkey"
          ],
          [
           "Turkmenistan"
          ],
          [
           "Tuvalu"
          ],
          [
           "Uganda"
          ],
          [
           "Ukraine"
          ],
          [
           "UnitedArabEmirates"
          ],
          [
           "UnitedKingdom"
          ],
          [
           "UnitedStates"
          ],
          [
           "Uruguay"
          ],
          [
           "Uzbekistan"
          ],
          [
           "Vanuatu"
          ],
          [
           "Venezuela"
          ],
          [
           "Vietnam"
          ],
          [
           "Yemen"
          ],
          [
           "Zambia"
          ],
          [
           "Zimbabwe"
          ]
         ],
         "hovertemplate": "Birth Rate=%{x}<br>GDP_per_Capita=%{y}<br>Country=%{customdata[0]}<extra></extra>",
         "legendgroup": "",
         "marker": {
          "color": "#34a853",
          "symbol": "circle"
         },
         "mode": "markers",
         "name": "",
         "orientation": "v",
         "showlegend": false,
         "type": "scatter",
         "x": [
          32.49,
          11.78,
          24.28,
          7.2,
          40.73,
          15.33,
          17.02,
          13.99,
          12.6,
          9.7,
          14,
          13.97,
          13.99,
          18.18,
          10.65,
          9.9,
          10.3,
          20.79,
          36.22,
          17.26,
          21.75,
          8.11,
          24.82,
          13.92,
          14.9,
          8.9,
          37.93,
          39.01,
          35.74,
          19.49,
          22.46,
          35.39,
          10.1,
          35.35,
          42.17,
          12.43,
          10.9,
          14.88,
          31.88,
          32.86,
          13.97,
          9,
          10.17,
          10.46,
          10.7,
          41.18,
          10.6,
          21.47,
          12,
          19.51,
          19.72,
          26.38,
          18.25,
          33.24,
          30.3,
          10.9,
          null,
          32.34,
          21.28,
          8.6,
          11.3,
          31.61,
          38.54,
          13.47,
          9.5,
          29.41,
          8.1,
          16.47,
          24.56,
          36.36,
          35.13,
          19.97,
          24.35,
          null,
          21.6,
          9.6,
          12,
          17.86,
          18.07,
          18.78,
          29.08,
          12.5,
          20.8,
          7.3,
          16.1,
          7.4,
          21.98,
          21.77,
          28.75,
          27.89,
          13.94,
          27.1,
          23.55,
          10,
          17.55,
          26.81,
          33.04,
          18.83,
          9.9,
          10,
          10.3,
          32.66,
          34.12,
          16.75,
          14.2,
          41.54,
          9.2,
          29.03,
          33.69,
          10.2,
          17.6,
          22.82,
          10.1,
          5.9,
          24.13,
          11.73,
          18.94,
          37.52,
          17.55,
          28.64,
          null,
          19.89,
          9.7,
          11.98,
          20.64,
          46.08,
          37.91,
          13.89,
          null,
          10.4,
          19.19,
          28.25,
          14,
          null,
          18.98,
          27.07,
          20.57,
          17.95,
          20.55,
          10.2,
          8.5,
          9.54,
          9.6,
          11.5,
          31.7,
          12.6,
          12,
          14.24,
          24.38,
          6.8,
          31.54,
          17.8,
          34.52,
          9.2,
          17.1,
          33.41,
          8.8,
          10.6,
          9.4,
          32.44,
          41.75,
          20.51,
          6.4,
          35.01,
          7.9,
          15.83,
          32.18,
          18.54,
          11.4,
          10,
          23.69,
          30.76,
          36.7,
          10.34,
          29.42,
          33.11,
          24.3,
          12.94,
          17.56,
          16.03,
          23.83,
          null,
          38.14,
          8.7,
          10.33,
          11,
          11.6,
          13.86,
          23.3,
          29.6,
          17.88,
          16.75,
          30.45,
          36.19,
          30.68
         ],
         "xaxis": "x2",
         "y": [
          502.11548691997746,
          5352.857411084262,
          3948.3432789227913,
          40886.39116175365,
          2973.591159799147,
          17790.309304145474,
          10006.148973606541,
          4622.733493343377,
          54049.8288124881,
          50277.27508736838,
          3911.5789801341234,
          32933.48601475806,
          25688.046129052665,
          1808.4378618138294,
          18148.24492640014,
          6663.295292861749,
          46116.699233676605,
          4815.163710795101,
          1219.4326718639563,
          3364.767826224481,
          3552.068762105775,
          6073.265202968797,
          7817.1830832174355,
          8655.264804221777,
          31086.751078389512,
          12328.404026456756,
          774.8396902513206,
          261.24747254691437,
          2286.16277684902,
          4097.872209632196,
          1643.121388766668,
          1497.90917558793,
          46940.59584210967,
          467.90744070041524,
          709.5403101522832,
          14896.453866597354,
          14244.677920749224,
          6432.387583390623,
          1393.522371974624,
          2011.0723989259006,
          12238.374964463035,
          14853.239837492318,
          8825.442275777004,
          20494.87761299877,
          23101.777704996453,
          545.2162123102618,
          59822.092960913134,
          3408.8462539545585,
          8300.375069630125,
          8282.11622189043,
          6183.823824821733,
          3020.0313497202005,
          4187.250031106896,
          8131.92388785725,
          326.0630992391604,
          23566.890205462583,
          3467.9588049445774,
          857.5013510413618,
          6220.046420428944,
          48685.853986747854,
          40493.9285720389,
          7667.366861228061,
          751.2946885172164,
          4769.18654320981,
          46258.8782897109,
          2175.3153946557563,
          19582.53601086268,
          10965.51315589761,
          4619.987097105244,
          1064.1312373906196,
          697.7844030106376,
          5468.356628928696,
          754.5879177599514,
          null,
          2574.912190670397,
          16475.741838979917,
          66944.82550863102,
          1910.8358277376421,
          4142.022784788127,
          5371.177207873912,
          5955.109010370268,
          77629.9889911643,
          43641.39773585323,
          33189.56579886136,
          5582.263777613991,
          40259.112030836484,
          4330.329345949303,
          9731.14520687936,
          1816.5469164371505,
          1655.0788395149907,
          32031.980102603156,
          1309.3929916833156,
          2534.8982772051713,
          17836.364886560932,
          7784.316856904599,
          1157.5351645063117,
          621.8929536227153,
          7683.750611291677,
          172357.4722901707,
          19455.45412660343,
          110172.37314087298,
          522.219809244635,
          411.5523404231106,
          11239.78150436468,
          10790.500236367438,
          890.7372854890706,
          29416.230606402427,
          3763.8073854841728,
          1677.9192526409197,
          11203.540584699034,
          9985.29113811174,
          3531.452611694416,
          4498.520850289186,
          184396.98678267119,
          4295.235024728952,
          8832.036835938065,
          3216.5667385160236,
          491.80472307942995,
          1407.8131434078966,
          4957.458005716508,
          13189.210630702102,
          1071.0507605550897,
          52447.83143920359,
          42745.04555752943,
          1912.903745350624,
          554.6009686961554,
          2229.858696245781,
          1250.6739905512165,
          5564.713196345863,
          75419.6348687409,
          14617.408775978893,
          1405.5805556086316,
          15575.873416333023,
          null,
          15731.01603484708,
          2845.180185774812,
          5414.799137954041,
          6977.695783568442,
          3485.0842183692116,
          15595.227033436207,
          23145.04081731222,
          64781.73319734314,
          12919.529644186483,
          11774.156384485565,
          801.6561869651816,
          19896.49571209511,
          11611.415449422835,
          8216.466925489025,
          4200.641052610787,
          48373.6277023036,
          1994.9064662227513,
          23139.798656131363,
          1446.8309649931728,
          7402.354558655718,
          17401.72151600512,
          504.4625433960284,
          65233.28243929371,
          19329.0968008679,
          25739.247814359183,
          2127.5385079341854,
          305.689070676793,
          6001.400813941395,
          39238.74286107253,
          1084.58490263117,
          29613.67113798626,
          3853.0836928863,
          441.5056033837011,
          6854.906560687477,
          51610.06605523354,
          81993.72714940654,
          2366.999792737433,
          870.787589295504,
          1089.1572087787663,
          7808.192916304814,
          478.15437142857144,
          675.5422133815766,
          4494.140386592023,
          17276.465447001483,
          3317.5410135121674,
          9042.492982893424,
          6859.732807266939,
          4059.029967370771,
          776.7685758762549,
          3464.696002931611,
          43103.32305835232,
          42300.26712583137,
          65280.6822413034,
          16190.126957183886,
          1724.8411344032947,
          3058.065675832494,
          16915.49345340793,
          2715.276036405425,
          922.9296417430922,
          1291.3433573539712,
          1463.9859101805419
         ],
         "yaxis": "y2"
        },
        {
         "hovertemplate": "<b>OLS trendline</b><br>GDP_per_Capita = -67042.6 * log10(Birth Rate) + 99803.9<br>R<sup>2</sup>=0.335297<br><br>Birth Rate=%{x}<br>GDP_per_Capita=%{y} <b>(trend)</b><extra></extra>",
         "legendgroup": "",
         "line": {
          "color": "#ea4335"
         },
         "marker": {
          "color": "#636efa",
          "symbol": "circle"
         },
         "mode": "lines",
         "name": "",
         "showlegend": false,
         "type": "scatter",
         "x": [
          5.9,
          6.4,
          6.8,
          7.2,
          7.3,
          7.4,
          7.9,
          8.1,
          8.11,
          8.5,
          8.6,
          8.7,
          8.8,
          8.9,
          9,
          9.2,
          9.2,
          9.4,
          9.5,
          9.54,
          9.6,
          9.6,
          9.7,
          9.7,
          9.9,
          9.9,
          10,
          10,
          10,
          10.1,
          10.1,
          10.17,
          10.2,
          10.2,
          10.3,
          10.3,
          10.33,
          10.34,
          10.4,
          10.46,
          10.6,
          10.6,
          10.65,
          10.7,
          10.9,
          10.9,
          11,
          11.3,
          11.4,
          11.5,
          11.6,
          11.73,
          11.78,
          11.98,
          12,
          12,
          12,
          12.43,
          12.5,
          12.6,
          12.6,
          12.94,
          13.47,
          13.86,
          13.89,
          13.92,
          13.94,
          13.97,
          13.97,
          13.99,
          13.99,
          14,
          14,
          14.2,
          14.24,
          14.88,
          14.9,
          15.33,
          15.83,
          16.03,
          16.1,
          16.47,
          16.75,
          16.75,
          17.02,
          17.1,
          17.26,
          17.55,
          17.55,
          17.56,
          17.6,
          17.8,
          17.86,
          17.88,
          17.95,
          18.07,
          18.18,
          18.25,
          18.54,
          18.78,
          18.83,
          18.94,
          18.98,
          19.19,
          19.49,
          19.51,
          19.72,
          19.89,
          19.97,
          20.51,
          20.55,
          20.57,
          20.64,
          20.79,
          20.8,
          21.28,
          21.47,
          21.6,
          21.75,
          21.77,
          21.98,
          22.46,
          22.82,
          23.3,
          23.55,
          23.69,
          23.83,
          24.13,
          24.28,
          24.3,
          24.35,
          24.38,
          24.56,
          24.82,
          26.38,
          26.81,
          27.07,
          27.1,
          27.89,
          28.25,
          28.64,
          28.75,
          29.03,
          29.08,
          29.41,
          29.42,
          29.6,
          30.3,
          30.45,
          30.68,
          30.76,
          31.54,
          31.61,
          31.7,
          31.88,
          32.18,
          32.34,
          32.44,
          32.49,
          32.66,
          32.86,
          33.04,
          33.11,
          33.24,
          33.41,
          33.69,
          34.12,
          34.52,
          35.01,
          35.13,
          35.35,
          35.39,
          35.74,
          36.19,
          36.22,
          36.36,
          36.7,
          37.52,
          37.91,
          37.93,
          38.14,
          38.54,
          39.01,
          40.73,
          41.18,
          41.54,
          41.75,
          42.17,
          46.08
         ],
         "xaxis": "x2",
         "y": [
          48124.012409194096,
          45755.534265126276,
          43990.373984520396,
          42326.13660390288,
          41924.527098785926,
          41528.381838312,
          39624.68254536375,
          38896.73894267949,
          38860.81515342769,
          37493.27558041283,
          37152.73102587715,
          36816.123490818085,
          36483.362983246276,
          36154.36256188039,
          35829.038199795315,
          35189.09535167999,
          35189.09535167999,
          34562.91578791218,
          34254.80468526727,
          34132.46741497217,
          33949.919936162696,
          33949.919936162696,
          33648.19467135344,
          33648.19467135344,
          33053.965322022894,
          33053.965322022894,
          32761.337456911147,
          32761.337456911147,
          32761.337456911147,
          32471.621360139747,
          32471.621360139747,
          32270.52180149527,
          32184.759655556816,
          32184.759655556816,
          31900.696646366516,
          31900.696646366516,
          31816.015362744118,
          31787.84291013975,
          31619.378250223934,
          31451.882711641403,
          31064.766672088008,
          31064.766672088008,
          30927.74887807599,
          30791.37285594306,
          30252.168048161344,
          30252.168048161344,
          29986.264579138704,
          29202.821058611094,
          28946.288760411233,
          28691.996947572436,
          28439.906823077894,
          28115.41914621809,
          27991.572819576177,
          27501.38906207368,
          27452.821532055124,
          27452.821532055124,
          27452.821532055124,
          26427.748180838666,
          26264.239052803576,
          26032.236012579364,
          26032.236012579364,
          25256.973505731585,
          24088.19859720253,
          23257.163134806935,
          23194.20910488676,
          23131.39089822187,
          23089.587262189365,
          23026.994129888975,
          23026.994129888975,
          22985.340006196682,
          22985.340006196682,
          22964.535269695203,
          22964.535269695203,
          22551.532210335805,
          22469.629969284186,
          21189.589666364045,
          21150.481228657547,
          20322.110582606387,
          19387.619990849256,
          19022.063054744183,
          18895.194760356477,
          18233.63703003066,
          17742.80399178721,
          17742.80399178721,
          17277.21033226952,
          17140.674431447653,
          16869.50853671378,
          16384.366260036957,
          16384.366260036957,
          16367.780541847067,
          16301.531986542497,
          15972.531565176614,
          15874.552019564522,
          15841.965303801524,
          15728.198152379424,
          15534.19702935523,
          15357.491106320143,
          15245.597697974576,
          14786.566392546913,
          14412.075988913464,
          14334.659757463596,
          14165.065154355601,
          14103.638491287362,
          13783.257591792091,
          13331.60074574135,
          13301.73794569276,
          12990.013949875793,
          12740.087715798436,
          12623.213589998457,
          11846.351159807105,
          11789.622008894716,
          11761.298828164203,
          11662.384104317345,
          11451.548805843355,
          11437.547253520155,
          10773.269905455105,
          10514.457290263454,
          10338.691278235521,
          10137.194090006742,
          10110.43284961635,
          9830.914918953436,
          9201.917046630115,
          8738.928408722495,
          8132.844547316825,
          7822.1027772058005,
          7649.525140324025,
          7477.964380941587,
          7113.703239313749,
          6933.267457390859,
          6909.293617012125,
          6849.445235210413,
          6813.595166045503,
          6599.416801458123,
          6292.803228880046,
          4517.983765111014,
          4047.209161611172,
          3766.204042490659,
          3733.9542025736446,
          2897.314727810488,
          2523.8916577997443,
          2124.682425540188,
          2013.0675467610854,
          1730.872755622855,
          1680.7673784409126,
          1352.2169586591335,
          1342.3185300426412,
          1164.7198449044517,
          484.176034472388,
          340.3919027907832,
          121.29280499176821,
          45.46925303922035,
          -683.6429204686865,
          -748.1919864832598,
          -830.9739242423384,
          -995.8350425555254,
          -1268.5460043301282,
          -1412.9541242567793,
          -1502.846839979873,
          -1547.6893369000027,
          -1699.6392957066855,
          -1877.3945944144216,
          -2036.4517714294052,
          -2098.073439922591,
          -2212.1688255410263,
          -2360.699040339561,
          -2603.6972823334654,
          -2972.9686476857023,
          -3312.3224599899986,
          -3722.7118650664343,
          -3822.3397723489907,
          -4004.110227887548,
          -4037.0378282247257,
          -4323.576893878824,
          -4687.888677887546,
          -4712.0148172281915,
          -4824.339890383635,
          -5095.338762923435,
          -5738.730788024957,
          -6039.816030248156,
          -6055.1726906753465,
          -6215.9305007620715,
          -6519.701931122632,
          -6872.630221931322,
          -8128.905123930454,
          -8448.827824308799,
          -8702.258870607664,
          -8849.081315809948,
          -9140.523585843752,
          -11722.257982100884
         ],
         "yaxis": "y2"
        }
       ],
       "layout": {
        "paper_bgcolor": "rgba(0, 0, 0, 0)",
        "plot_bgcolor": "rgba(0, 0, 0, 0)",
        "showlegend": false,
        "template": {
         "data": {
          "bar": [
           {
            "error_x": {
             "color": "#2a3f5f"
            },
            "error_y": {
             "color": "#2a3f5f"
            },
            "marker": {
             "line": {
              "color": "white",
              "width": 0.5
             },
             "pattern": {
              "fillmode": "overlay",
              "size": 10,
              "solidity": 0.2
             }
            },
            "type": "bar"
           }
          ],
          "barpolar": [
           {
            "marker": {
             "line": {
              "color": "white",
              "width": 0.5
             },
             "pattern": {
              "fillmode": "overlay",
              "size": 10,
              "solidity": 0.2
             }
            },
            "type": "barpolar"
           }
          ],
          "carpet": [
           {
            "aaxis": {
             "endlinecolor": "#2a3f5f",
             "gridcolor": "#C8D4E3",
             "linecolor": "#C8D4E3",
             "minorgridcolor": "#C8D4E3",
             "startlinecolor": "#2a3f5f"
            },
            "baxis": {
             "endlinecolor": "#2a3f5f",
             "gridcolor": "#C8D4E3",
             "linecolor": "#C8D4E3",
             "minorgridcolor": "#C8D4E3",
             "startlinecolor": "#2a3f5f"
            },
            "type": "carpet"
           }
          ],
          "choropleth": [
           {
            "colorbar": {
             "outlinewidth": 0,
             "ticks": ""
            },
            "type": "choropleth"
           }
          ],
          "contour": [
           {
            "colorbar": {
             "outlinewidth": 0,
             "ticks": ""
            },
            "colorscale": [
             [
              0,
              "#0d0887"
             ],
             [
              0.1111111111111111,
              "#46039f"
             ],
             [
              0.2222222222222222,
              "#7201a8"
             ],
             [
              0.3333333333333333,
              "#9c179e"
             ],
             [
              0.4444444444444444,
              "#bd3786"
             ],
             [
              0.5555555555555556,
              "#d8576b"
             ],
             [
              0.6666666666666666,
              "#ed7953"
             ],
             [
              0.7777777777777778,
              "#fb9f3a"
             ],
             [
              0.8888888888888888,
              "#fdca26"
             ],
             [
              1,
              "#f0f921"
             ]
            ],
            "type": "contour"
           }
          ],
          "contourcarpet": [
           {
            "colorbar": {
             "outlinewidth": 0,
             "ticks": ""
            },
            "type": "contourcarpet"
           }
          ],
          "heatmap": [
           {
            "colorbar": {
             "outlinewidth": 0,
             "ticks": ""
            },
            "colorscale": [
             [
              0,
              "#0d0887"
             ],
             [
              0.1111111111111111,
              "#46039f"
             ],
             [
              0.2222222222222222,
              "#7201a8"
             ],
             [
              0.3333333333333333,
              "#9c179e"
             ],
             [
              0.4444444444444444,
              "#bd3786"
             ],
             [
              0.5555555555555556,
              "#d8576b"
             ],
             [
              0.6666666666666666,
              "#ed7953"
             ],
             [
              0.7777777777777778,
              "#fb9f3a"
             ],
             [
              0.8888888888888888,
              "#fdca26"
             ],
             [
              1,
              "#f0f921"
             ]
            ],
            "type": "heatmap"
           }
          ],
          "heatmapgl": [
           {
            "colorbar": {
             "outlinewidth": 0,
             "ticks": ""
            },
            "colorscale": [
             [
              0,
              "#0d0887"
             ],
             [
              0.1111111111111111,
              "#46039f"
             ],
             [
              0.2222222222222222,
              "#7201a8"
             ],
             [
              0.3333333333333333,
              "#9c179e"
             ],
             [
              0.4444444444444444,
              "#bd3786"
             ],
             [
              0.5555555555555556,
              "#d8576b"
             ],
             [
              0.6666666666666666,
              "#ed7953"
             ],
             [
              0.7777777777777778,
              "#fb9f3a"
             ],
             [
              0.8888888888888888,
              "#fdca26"
             ],
             [
              1,
              "#f0f921"
             ]
            ],
            "type": "heatmapgl"
           }
          ],
          "histogram": [
           {
            "marker": {
             "pattern": {
              "fillmode": "overlay",
              "size": 10,
              "solidity": 0.2
             }
            },
            "type": "histogram"
           }
          ],
          "histogram2d": [
           {
            "colorbar": {
             "outlinewidth": 0,
             "ticks": ""
            },
            "colorscale": [
             [
              0,
              "#0d0887"
             ],
             [
              0.1111111111111111,
              "#46039f"
             ],
             [
              0.2222222222222222,
              "#7201a8"
             ],
             [
              0.3333333333333333,
              "#9c179e"
             ],
             [
              0.4444444444444444,
              "#bd3786"
             ],
             [
              0.5555555555555556,
              "#d8576b"
             ],
             [
              0.6666666666666666,
              "#ed7953"
             ],
             [
              0.7777777777777778,
              "#fb9f3a"
             ],
             [
              0.8888888888888888,
              "#fdca26"
             ],
             [
              1,
              "#f0f921"
             ]
            ],
            "type": "histogram2d"
           }
          ],
          "histogram2dcontour": [
           {
            "colorbar": {
             "outlinewidth": 0,
             "ticks": ""
            },
            "colorscale": [
             [
              0,
              "#0d0887"
             ],
             [
              0.1111111111111111,
              "#46039f"
             ],
             [
              0.2222222222222222,
              "#7201a8"
             ],
             [
              0.3333333333333333,
              "#9c179e"
             ],
             [
              0.4444444444444444,
              "#bd3786"
             ],
             [
              0.5555555555555556,
              "#d8576b"
             ],
             [
              0.6666666666666666,
              "#ed7953"
             ],
             [
              0.7777777777777778,
              "#fb9f3a"
             ],
             [
              0.8888888888888888,
              "#fdca26"
             ],
             [
              1,
              "#f0f921"
             ]
            ],
            "type": "histogram2dcontour"
           }
          ],
          "mesh3d": [
           {
            "colorbar": {
             "outlinewidth": 0,
             "ticks": ""
            },
            "type": "mesh3d"
           }
          ],
          "parcoords": [
           {
            "line": {
             "colorbar": {
              "outlinewidth": 0,
              "ticks": ""
             }
            },
            "type": "parcoords"
           }
          ],
          "pie": [
           {
            "automargin": true,
            "type": "pie"
           }
          ],
          "scatter": [
           {
            "fillpattern": {
             "fillmode": "overlay",
             "size": 10,
             "solidity": 0.2
            },
            "type": "scatter"
           }
          ],
          "scatter3d": [
           {
            "line": {
             "colorbar": {
              "outlinewidth": 0,
              "ticks": ""
             }
            },
            "marker": {
             "colorbar": {
              "outlinewidth": 0,
              "ticks": ""
             }
            },
            "type": "scatter3d"
           }
          ],
          "scattercarpet": [
           {
            "marker": {
             "colorbar": {
              "outlinewidth": 0,
              "ticks": ""
             }
            },
            "type": "scattercarpet"
           }
          ],
          "scattergeo": [
           {
            "marker": {
             "colorbar": {
              "outlinewidth": 0,
              "ticks": ""
             }
            },
            "type": "scattergeo"
           }
          ],
          "scattergl": [
           {
            "marker": {
             "colorbar": {
              "outlinewidth": 0,
              "ticks": ""
             }
            },
            "type": "scattergl"
           }
          ],
          "scattermapbox": [
           {
            "marker": {
             "colorbar": {
              "outlinewidth": 0,
              "ticks": ""
             }
            },
            "type": "scattermapbox"
           }
          ],
          "scatterpolar": [
           {
            "marker": {
             "colorbar": {
              "outlinewidth": 0,
              "ticks": ""
             }
            },
            "type": "scatterpolar"
           }
          ],
          "scatterpolargl": [
           {
            "marker": {
             "colorbar": {
              "outlinewidth": 0,
              "ticks": ""
             }
            },
            "type": "scatterpolargl"
           }
          ],
          "scatterternary": [
           {
            "marker": {
             "colorbar": {
              "outlinewidth": 0,
              "ticks": ""
             }
            },
            "type": "scatterternary"
           }
          ],
          "surface": [
           {
            "colorbar": {
             "outlinewidth": 0,
             "ticks": ""
            },
            "colorscale": [
             [
              0,
              "#0d0887"
             ],
             [
              0.1111111111111111,
              "#46039f"
             ],
             [
              0.2222222222222222,
              "#7201a8"
             ],
             [
              0.3333333333333333,
              "#9c179e"
             ],
             [
              0.4444444444444444,
              "#bd3786"
             ],
             [
              0.5555555555555556,
              "#d8576b"
             ],
             [
              0.6666666666666666,
              "#ed7953"
             ],
             [
              0.7777777777777778,
              "#fb9f3a"
             ],
             [
              0.8888888888888888,
              "#fdca26"
             ],
             [
              1,
              "#f0f921"
             ]
            ],
            "type": "surface"
           }
          ],
          "table": [
           {
            "cells": {
             "fill": {
              "color": "#EBF0F8"
             },
             "line": {
              "color": "white"
             }
            },
            "header": {
             "fill": {
              "color": "#C8D4E3"
             },
             "line": {
              "color": "white"
             }
            },
            "type": "table"
           }
          ]
         },
         "layout": {
          "annotationdefaults": {
           "arrowcolor": "#2a3f5f",
           "arrowhead": 0,
           "arrowwidth": 1
          },
          "autotypenumbers": "strict",
          "coloraxis": {
           "colorbar": {
            "outlinewidth": 0,
            "ticks": ""
           }
          },
          "colorscale": {
           "diverging": [
            [
             0,
             "#8e0152"
            ],
            [
             0.1,
             "#c51b7d"
            ],
            [
             0.2,
             "#de77ae"
            ],
            [
             0.3,
             "#f1b6da"
            ],
            [
             0.4,
             "#fde0ef"
            ],
            [
             0.5,
             "#f7f7f7"
            ],
            [
             0.6,
             "#e6f5d0"
            ],
            [
             0.7,
             "#b8e186"
            ],
            [
             0.8,
             "#7fbc41"
            ],
            [
             0.9,
             "#4d9221"
            ],
            [
             1,
             "#276419"
            ]
           ],
           "sequential": [
            [
             0,
             "#0d0887"
            ],
            [
             0.1111111111111111,
             "#46039f"
            ],
            [
             0.2222222222222222,
             "#7201a8"
            ],
            [
             0.3333333333333333,
             "#9c179e"
            ],
            [
             0.4444444444444444,
             "#bd3786"
            ],
            [
             0.5555555555555556,
             "#d8576b"
            ],
            [
             0.6666666666666666,
             "#ed7953"
            ],
            [
             0.7777777777777778,
             "#fb9f3a"
            ],
            [
             0.8888888888888888,
             "#fdca26"
            ],
            [
             1,
             "#f0f921"
            ]
           ],
           "sequentialminus": [
            [
             0,
             "#0d0887"
            ],
            [
             0.1111111111111111,
             "#46039f"
            ],
            [
             0.2222222222222222,
             "#7201a8"
            ],
            [
             0.3333333333333333,
             "#9c179e"
            ],
            [
             0.4444444444444444,
             "#bd3786"
            ],
            [
             0.5555555555555556,
             "#d8576b"
            ],
            [
             0.6666666666666666,
             "#ed7953"
            ],
            [
             0.7777777777777778,
             "#fb9f3a"
            ],
            [
             0.8888888888888888,
             "#fdca26"
            ],
            [
             1,
             "#f0f921"
            ]
           ]
          },
          "colorway": [
           "#636efa",
           "#EF553B",
           "#00cc96",
           "#ab63fa",
           "#FFA15A",
           "#19d3f3",
           "#FF6692",
           "#B6E880",
           "#FF97FF",
           "#FECB52"
          ],
          "font": {
           "color": "#2a3f5f"
          },
          "geo": {
           "bgcolor": "white",
           "lakecolor": "white",
           "landcolor": "white",
           "showlakes": true,
           "showland": true,
           "subunitcolor": "#C8D4E3"
          },
          "hoverlabel": {
           "align": "left"
          },
          "hovermode": "closest",
          "mapbox": {
           "style": "light"
          },
          "paper_bgcolor": "white",
          "plot_bgcolor": "white",
          "polar": {
           "angularaxis": {
            "gridcolor": "#EBF0F8",
            "linecolor": "#EBF0F8",
            "ticks": ""
           },
           "bgcolor": "white",
           "radialaxis": {
            "gridcolor": "#EBF0F8",
            "linecolor": "#EBF0F8",
            "ticks": ""
           }
          },
          "scene": {
           "xaxis": {
            "backgroundcolor": "white",
            "gridcolor": "#DFE8F3",
            "gridwidth": 2,
            "linecolor": "#EBF0F8",
            "showbackground": true,
            "ticks": "",
            "zerolinecolor": "#EBF0F8"
           },
           "yaxis": {
            "backgroundcolor": "white",
            "gridcolor": "#DFE8F3",
            "gridwidth": 2,
            "linecolor": "#EBF0F8",
            "showbackground": true,
            "ticks": "",
            "zerolinecolor": "#EBF0F8"
           },
           "zaxis": {
            "backgroundcolor": "white",
            "gridcolor": "#DFE8F3",
            "gridwidth": 2,
            "linecolor": "#EBF0F8",
            "showbackground": true,
            "ticks": "",
            "zerolinecolor": "#EBF0F8"
           }
          },
          "shapedefaults": {
           "line": {
            "color": "#2a3f5f"
           }
          },
          "ternary": {
           "aaxis": {
            "gridcolor": "#DFE8F3",
            "linecolor": "#A2B1C6",
            "ticks": ""
           },
           "baxis": {
            "gridcolor": "#DFE8F3",
            "linecolor": "#A2B1C6",
            "ticks": ""
           },
           "bgcolor": "white",
           "caxis": {
            "gridcolor": "#DFE8F3",
            "linecolor": "#A2B1C6",
            "ticks": ""
           }
          },
          "title": {
           "x": 0.05
          },
          "xaxis": {
           "automargin": true,
           "gridcolor": "#EBF0F8",
           "linecolor": "#EBF0F8",
           "ticks": "",
           "title": {
            "standoff": 15
           },
           "zerolinecolor": "#EBF0F8",
           "zerolinewidth": 2
          },
          "yaxis": {
           "automargin": true,
           "gridcolor": "#EBF0F8",
           "linecolor": "#EBF0F8",
           "ticks": "",
           "title": {
            "standoff": 15
           },
           "zerolinecolor": "#EBF0F8",
           "zerolinewidth": 2
          }
         }
        },
        "xaxis": {
         "anchor": "y",
         "domain": [
          0,
          0.45
         ],
         "title": {
          "text": "Dokter per Seribu Populasi"
         }
        },
        "xaxis2": {
         "anchor": "y2",
         "domain": [
          0.55,
          1
         ],
         "title": {
          "text": "Tingkat Kelahiran"
         }
        },
        "yaxis": {
         "anchor": "x",
         "domain": [
          0,
          1
         ],
         "title": {
          "text": "GDPDB per Kapita"
         }
        },
        "yaxis2": {
         "anchor": "x2",
         "domain": [
          0,
          1
         ],
         "title": {
          "text": "PDB per Kapita"
         }
        }
       }
      }
     },
     "metadata": {},
     "output_type": "display_data"
    }
   ],
   "source": [
    "fig = make_subplots(rows=1, cols=2)\n",
    "\n",
    "scatter1 = px.scatter(df, x=\"Physicians per thousand\", y=\"GDP_per_Capita\",\n",
    "                      trendline=\"ols\", trendline_options=dict(log_x=False), hover_data=df[['Country']])\n",
    "fig.add_trace(go.Scatter(scatter1.data[0], marker_color='#5591f5'), row=1, col=1)\n",
    "fig.add_trace(go.Scatter(scatter1.data[1], line=dict(color='#ea4335')), row=1, col=1)\n",
    "\n",
    "fig.update_xaxes(title_text=\"Dokter per Seribu Populasi\", row=1, col=1)\n",
    "fig.update_yaxes(title_text=\"GDPDB per Kapita\", row=1, col=1)\n",
    "\n",
    "scatter2 = px.scatter(df, x=\"Birth Rate\", y=\"GDP_per_Capita\",\n",
    "                      trendline=\"ols\", trendline_options=dict(log_x=True), hover_data=df[['Country']])\n",
    "fig.add_trace(go.Scatter(scatter2.data[0], marker_color='#34a853'), row=1, col=2)\n",
    "fig.add_trace(go.Scatter(scatter2.data[1], line=dict(color='#ea4335')), row=1, col=2)\n",
    "\n",
    "fig.update_xaxes(title_text=\"Tingkat Kelahiran\", row=1, col=2)\n",
    "fig.update_yaxes(title_text=\"PDB per Kapita\", row=1, col=2)\n",
    "\n",
    "fig.update_layout(\n",
    "    showlegend=False,\n",
    "    template='plotly_white',\n",
    "    plot_bgcolor='rgba(0, 0, 0, 0)',\n",
    "    paper_bgcolor='rgba(0, 0, 0, 0)',\n",
    ")\n",
    "\n",
    "fig.show()\n"
   ]
  },
  {
   "cell_type": "markdown",
   "id": "f7c9816a",
   "metadata": {
    "papermill": {
     "duration": 0.011021,
     "end_time": "2023-08-28T11:18:48.437892",
     "exception": false,
     "start_time": "2023-08-28T11:18:48.426871",
     "status": "completed"
    },
    "tags": []
   },
   "source": [
    "Bagai berbagai puzzle yang telah ditemukan disusun, mulai terlihat pola dimana pada negara yang miskin :\n",
    "- Jumlah dokter per seribu orang rendah.\n",
    "- Tingkat kelahiran tinggi.\n",
    "- Tingkat mortalitas bayi dan rasio kematian ibu tinggi.\n",
    "\n",
    "Ini berarti pada negara-negara miskin, angka kelahiran tinggi karena anak-anak dibutuhkan untuk bekerja dan memberikan penghasilan bagi keluarga. Anak-anak diharuskan menjaga orang tua yang lanjut usia karena kurangnya dana pensiun.\n",
    "Inilah sebabnya, di negara-negara miskin, meskipun jumlah dokternya sedikit, namun angka kelahirannya tinggi, sehingga menyebabkan tingginya angka kematian bayi dan tingginya angka kematian ibu."
   ]
  },
  {
   "cell_type": "code",
   "execution_count": 67,
   "id": "65fe9ffd",
   "metadata": {
    "_kg_hide-input": true,
    "execution": {
     "iopub.execute_input": "2023-08-28T11:18:48.620934Z",
     "iopub.status.busy": "2023-08-28T11:18:48.620552Z",
     "iopub.status.idle": "2023-08-28T11:18:48.751839Z",
     "shell.execute_reply": "2023-08-28T11:18:48.750601Z"
    },
    "papermill": {
     "duration": 0.146312,
     "end_time": "2023-08-28T11:18:48.754299",
     "exception": false,
     "start_time": "2023-08-28T11:18:48.607987",
     "status": "completed"
    },
    "tags": []
   },
   "outputs": [
    {
     "data": {
      "application/vnd.plotly.v1+json": {
       "config": {
        "plotlyServerURL": "https://plot.ly"
       },
       "data": [
        {
         "customdata": [
          [
           "Afghanistan"
          ],
          [
           "Albania"
          ],
          [
           "Algeria"
          ],
          [
           "Andorra"
          ],
          [
           "Angola"
          ],
          [
           "AntiguaandBarbuda"
          ],
          [
           "Argentina"
          ],
          [
           "Armenia"
          ],
          [
           "Australia"
          ],
          [
           "Austria"
          ],
          [
           "Azerbaijan"
          ],
          [
           "TheBahamas"
          ],
          [
           "Bahrain"
          ],
          [
           "Bangladesh"
          ],
          [
           "Barbados"
          ],
          [
           "Belarus"
          ],
          [
           "Belgium"
          ],
          [
           "Belize"
          ],
          [
           "Benin"
          ],
          [
           "Bhutan"
          ],
          [
           "Bolivia"
          ],
          [
           "BosniaandHerzegovina"
          ],
          [
           "Botswana"
          ],
          [
           "Brazil"
          ],
          [
           "Brunei"
          ],
          [
           "Bulgaria"
          ],
          [
           "BurkinaFaso"
          ],
          [
           "Burundi"
          ],
          [
           "IvoryCoast"
          ],
          [
           "CapeVerde"
          ],
          [
           "Cambodia"
          ],
          [
           "Cameroon"
          ],
          [
           "Canada"
          ],
          [
           "CentralAfricanRepublic"
          ],
          [
           "Chad"
          ],
          [
           "Chile"
          ],
          [
           "China"
          ],
          [
           "Colombia"
          ],
          [
           "Comoros"
          ],
          [
           "RepublicoftheCongo"
          ],
          [
           "CostaRica"
          ],
          [
           "Croatia"
          ],
          [
           "Cuba"
          ],
          [
           "Cyprus"
          ],
          [
           "CzechRepublic"
          ],
          [
           "DemocraticRepublicoftheCongo"
          ],
          [
           "Denmark"
          ],
          [
           "Djibouti"
          ],
          [
           "Dominica"
          ],
          [
           "DominicanRepublic"
          ],
          [
           "Ecuador"
          ],
          [
           "Egypt"
          ],
          [
           "ElSalvador"
          ],
          [
           "EquatorialGuinea"
          ],
          [
           "Eritrea"
          ],
          [
           "Estonia"
          ],
          [
           "Eswatini"
          ],
          [
           "Ethiopia"
          ],
          [
           "Fiji"
          ],
          [
           "Finland"
          ],
          [
           "France"
          ],
          [
           "Gabon"
          ],
          [
           "TheGambia"
          ],
          [
           "Georgia"
          ],
          [
           "Germany"
          ],
          [
           "Ghana"
          ],
          [
           "Greece"
          ],
          [
           "Grenada"
          ],
          [
           "Guatemala"
          ],
          [
           "Guinea"
          ],
          [
           "Guinea-Bissau"
          ],
          [
           "Guyana"
          ],
          [
           "Haiti"
          ],
          [
           "VaticanCity"
          ],
          [
           "Honduras"
          ],
          [
           "Hungary"
          ],
          [
           "Iceland"
          ],
          [
           "India"
          ],
          [
           "Indonesia"
          ],
          [
           "Iran"
          ],
          [
           "Iraq"
          ],
          [
           "RepublicofIreland"
          ],
          [
           "Israel"
          ],
          [
           "Italy"
          ],
          [
           "Jamaica"
          ],
          [
           "Japan"
          ],
          [
           "Jordan"
          ],
          [
           "Kazakhstan"
          ],
          [
           "Kenya"
          ],
          [
           "Kiribati"
          ],
          [
           "Kuwait"
          ],
          [
           "Kyrgyzstan"
          ],
          [
           "Laos"
          ],
          [
           "Latvia"
          ],
          [
           "Lebanon"
          ],
          [
           "Lesotho"
          ],
          [
           "Liberia"
          ],
          [
           "Libya"
          ],
          [
           "Liechtenstein"
          ],
          [
           "Lithuania"
          ],
          [
           "Luxembourg"
          ],
          [
           "Madagascar"
          ],
          [
           "Malawi"
          ],
          [
           "Malaysia"
          ],
          [
           "Maldives"
          ],
          [
           "Mali"
          ],
          [
           "Malta"
          ],
          [
           "MarshallIslands"
          ],
          [
           "Mauritania"
          ],
          [
           "Mauritius"
          ],
          [
           "Mexico"
          ],
          [
           "FederatedStatesofMicronesia"
          ],
          [
           "Moldova"
          ],
          [
           "Monaco"
          ],
          [
           "Mongolia"
          ],
          [
           "Montenegro"
          ],
          [
           "Morocco"
          ],
          [
           "Mozambique"
          ],
          [
           "Myanmar"
          ],
          [
           "Namibia"
          ],
          [
           "Nauru"
          ],
          [
           "Nepal"
          ],
          [
           "Netherlands"
          ],
          [
           "NewZealand"
          ],
          [
           "Nicaragua"
          ],
          [
           "Niger"
          ],
          [
           "Nigeria"
          ],
          [
           "NorthKorea"
          ],
          [
           "NorthMacedonia"
          ],
          [
           "Norway"
          ],
          [
           "Oman"
          ],
          [
           "Pakistan"
          ],
          [
           "Palau"
          ],
          [
           "PalestinianNationalAuthority"
          ],
          [
           "Panama"
          ],
          [
           "PapuaNewGuinea"
          ],
          [
           "Paraguay"
          ],
          [
           "Peru"
          ],
          [
           "Philippines"
          ],
          [
           "Poland"
          ],
          [
           "Portugal"
          ],
          [
           "Qatar"
          ],
          [
           "Romania"
          ],
          [
           "Russia"
          ],
          [
           "Rwanda"
          ],
          [
           "SaintKittsandNevis"
          ],
          [
           "SaintLucia"
          ],
          [
           "SaintVincentandtheGrenadines"
          ],
          [
           "Samoa"
          ],
          [
           "SanMarino"
          ],
          [
           "SaoTomedanPrincipe"
          ],
          [
           "SaudiArabia"
          ],
          [
           "Senegal"
          ],
          [
           "Serbia"
          ],
          [
           "Seychelles"
          ],
          [
           "SierraLeone"
          ],
          [
           "Singapore"
          ],
          [
           "Slovakia"
          ],
          [
           "Slovenia"
          ],
          [
           "SolomonIslands"
          ],
          [
           "Somalia"
          ],
          [
           "SouthAfrica"
          ],
          [
           "SouthKorea"
          ],
          [
           "SouthSudan"
          ],
          [
           "Spain"
          ],
          [
           "SriLanka"
          ],
          [
           "Sudan"
          ],
          [
           "Suriname"
          ],
          [
           "Sweden"
          ],
          [
           "Switzerland"
          ],
          [
           "Syria"
          ],
          [
           "Tajikistan"
          ],
          [
           "Tanzania"
          ],
          [
           "Thailand"
          ],
          [
           "EastTimor"
          ],
          [
           "Togo"
          ],
          [
           "Tonga"
          ],
          [
           "TrinidadandTobago"
          ],
          [
           "Tunisia"
          ],
          [
           "Turkey"
          ],
          [
           "Turkmenistan"
          ],
          [
           "Tuvalu"
          ],
          [
           "Uganda"
          ],
          [
           "Ukraine"
          ],
          [
           "UnitedArabEmirates"
          ],
          [
           "UnitedKingdom"
          ],
          [
           "UnitedStates"
          ],
          [
           "Uruguay"
          ],
          [
           "Uzbekistan"
          ],
          [
           "Vanuatu"
          ],
          [
           "Venezuela"
          ],
          [
           "Vietnam"
          ],
          [
           "Yemen"
          ],
          [
           "Zambia"
          ],
          [
           "Zimbabwe"
          ]
         ],
         "hovertemplate": "GDP_per_Capita=%{x}<br>Life expectancy=%{y}<br>Country=%{customdata[0]}<extra></extra>",
         "legendgroup": "",
         "marker": {
          "color": "#636efa",
          "symbol": "circle"
         },
         "mode": "markers",
         "name": "",
         "orientation": "v",
         "showlegend": false,
         "type": "scatter",
         "x": [
          502.11548691997746,
          5352.857411084262,
          3948.3432789227913,
          40886.39116175365,
          2973.591159799147,
          17790.309304145474,
          10006.148973606541,
          4622.733493343377,
          54049.8288124881,
          50277.27508736838,
          3911.5789801341234,
          32933.48601475806,
          25688.046129052665,
          1808.4378618138294,
          18148.24492640014,
          6663.295292861749,
          46116.699233676605,
          4815.163710795101,
          1219.4326718639563,
          3364.767826224481,
          3552.068762105775,
          6073.265202968797,
          7817.1830832174355,
          8655.264804221777,
          31086.751078389512,
          12328.404026456756,
          774.8396902513206,
          261.24747254691437,
          2286.16277684902,
          4097.872209632196,
          1643.121388766668,
          1497.90917558793,
          46940.59584210967,
          467.90744070041524,
          709.5403101522832,
          14896.453866597354,
          14244.677920749224,
          6432.387583390623,
          1393.522371974624,
          2011.0723989259006,
          12238.374964463035,
          14853.239837492318,
          8825.442275777004,
          20494.87761299877,
          23101.777704996453,
          545.2162123102618,
          59822.092960913134,
          3408.8462539545585,
          8300.375069630125,
          8282.11622189043,
          6183.823824821733,
          3020.0313497202005,
          4187.250031106896,
          8131.92388785725,
          326.0630992391604,
          23566.890205462583,
          3467.9588049445774,
          857.5013510413618,
          6220.046420428944,
          48685.853986747854,
          40493.9285720389,
          7667.366861228061,
          751.2946885172164,
          4769.18654320981,
          46258.8782897109,
          2175.3153946557563,
          19582.53601086268,
          10965.51315589761,
          4619.987097105244,
          1064.1312373906196,
          697.7844030106376,
          5468.356628928696,
          754.5879177599514,
          null,
          2574.912190670397,
          16475.741838979917,
          66944.82550863102,
          1910.8358277376421,
          4142.022784788127,
          5371.177207873912,
          5955.109010370268,
          77629.9889911643,
          43641.39773585323,
          33189.56579886136,
          5582.263777613991,
          40259.112030836484,
          4330.329345949303,
          9731.14520687936,
          1816.5469164371505,
          1655.0788395149907,
          32031.980102603156,
          1309.3929916833156,
          2534.8982772051713,
          17836.364886560932,
          7784.316856904599,
          1157.5351645063117,
          621.8929536227153,
          7683.750611291677,
          172357.4722901707,
          19455.45412660343,
          110172.37314087298,
          522.219809244635,
          411.5523404231106,
          11239.78150436468,
          10790.500236367438,
          890.7372854890706,
          29416.230606402427,
          3763.8073854841728,
          1677.9192526409197,
          11203.540584699034,
          9985.29113811174,
          3531.452611694416,
          4498.520850289186,
          184396.98678267119,
          4295.235024728952,
          8832.036835938065,
          3216.5667385160236,
          491.80472307942995,
          1407.8131434078966,
          4957.458005716508,
          13189.210630702102,
          1071.0507605550897,
          52447.83143920359,
          42745.04555752943,
          1912.903745350624,
          554.6009686961554,
          2229.858696245781,
          1250.6739905512165,
          5564.713196345863,
          75419.6348687409,
          14617.408775978893,
          1405.5805556086316,
          15575.873416333023,
          null,
          15731.01603484708,
          2845.180185774812,
          5414.799137954041,
          6977.695783568442,
          3485.0842183692116,
          15595.227033436207,
          23145.04081731222,
          64781.73319734314,
          12919.529644186483,
          11774.156384485565,
          801.6561869651816,
          19896.49571209511,
          11611.415449422835,
          8216.466925489025,
          4200.641052610787,
          48373.6277023036,
          1994.9064662227513,
          23139.798656131363,
          1446.8309649931728,
          7402.354558655718,
          17401.72151600512,
          504.4625433960284,
          65233.28243929371,
          19329.0968008679,
          25739.247814359183,
          2127.5385079341854,
          305.689070676793,
          6001.400813941395,
          39238.74286107253,
          1084.58490263117,
          29613.67113798626,
          3853.0836928863,
          441.5056033837011,
          6854.906560687477,
          51610.06605523354,
          81993.72714940654,
          2366.999792737433,
          870.787589295504,
          1089.1572087787663,
          7808.192916304814,
          478.15437142857144,
          675.5422133815766,
          4494.140386592023,
          17276.465447001483,
          3317.5410135121674,
          9042.492982893424,
          6859.732807266939,
          4059.029967370771,
          776.7685758762549,
          3464.696002931611,
          43103.32305835232,
          42300.26712583137,
          65280.6822413034,
          16190.126957183886,
          1724.8411344032947,
          3058.065675832494,
          16915.49345340793,
          2715.276036405425,
          922.9296417430922,
          1291.3433573539712,
          1463.9859101805419
         ],
         "xaxis": "x",
         "y": [
          64.5,
          78.5,
          76.7,
          null,
          60.8,
          76.9,
          76.5,
          74.9,
          82.7,
          81.6,
          72.9,
          73.8,
          77.2,
          72.3,
          79.1,
          74.2,
          81.6,
          74.5,
          61.5,
          71.5,
          71.2,
          77.3,
          69.3,
          75.7,
          75.7,
          74.9,
          61.2,
          61.2,
          57.4,
          72.8,
          69.6,
          58.9,
          81.9,
          52.8,
          54,
          80,
          77,
          77.1,
          64.1,
          64.3,
          80.1,
          78.1,
          78.7,
          80.8,
          79,
          60.4,
          81,
          66.6,
          76.6,
          73.9,
          76.8,
          71.8,
          73.1,
          58.4,
          65.9,
          78.2,
          null,
          66.2,
          67.3,
          81.7,
          82.5,
          66.2,
          61.7,
          73.6,
          80.9,
          63.8,
          81.3,
          72.4,
          74.1,
          61.2,
          58,
          69.8,
          63.7,
          null,
          75.1,
          75.8,
          82.7,
          69.4,
          71.5,
          76.5,
          70.5,
          82.3,
          82.8,
          82.9,
          74.4,
          84.2,
          74.4,
          73.2,
          66.3,
          68.1,
          75.4,
          71.4,
          67.6,
          74.7,
          78.9,
          53.7,
          63.7,
          72.7,
          83,
          75.7,
          82.1,
          66.7,
          63.8,
          76,
          78.6,
          58.9,
          82.3,
          65.2,
          64.7,
          74.4,
          75,
          67.8,
          71.8,
          null,
          69.7,
          76.8,
          76.5,
          60.2,
          66.9,
          63.4,
          null,
          70.5,
          81.8,
          81.9,
          74.3,
          62,
          54.3,
          72.1,
          null,
          82.8,
          77.6,
          67.1,
          69.1,
          null,
          78.3,
          64.3,
          74.1,
          76.5,
          71.1,
          77.6,
          81.3,
          80.1,
          75.4,
          72.7,
          68.7,
          71.3,
          76.1,
          72.4,
          73.2,
          85.4,
          70.2,
          75,
          67.7,
          75.5,
          72.8,
          54.3,
          83.1,
          77.2,
          81,
          72.8,
          57.1,
          63.9,
          82.6,
          57.6,
          83.3,
          76.8,
          65.1,
          71.6,
          82.5,
          83.6,
          71.8,
          70.9,
          65,
          76.9,
          69.3,
          60.8,
          70.8,
          73.4,
          76.5,
          77.4,
          68.1,
          null,
          63,
          71.6,
          77.8,
          81.3,
          78.5,
          77.8,
          71.6,
          70.3,
          72.1,
          75.3,
          66.1,
          63.5,
          61.2
         ],
         "yaxis": "y"
        },
        {
         "hovertemplate": "<b>OLS trendline</b><br>Life expectancy = 9.81503 * log10(GDP_per_Capita) + 35.356<br>R<sup>2</sup>=0.695973<br><br>GDP_per_Capita=%{x}<br>Life expectancy=%{y} <b>(trend)</b><extra></extra>",
         "legendgroup": "",
         "marker": {
          "color": "#636efa",
          "symbol": "circle"
         },
         "mode": "lines",
         "name": "",
         "showlegend": false,
         "type": "scatter",
         "x": [
          261.24747254691437,
          305.689070676793,
          326.0630992391604,
          411.5523404231106,
          441.5056033837011,
          467.90744070041524,
          478.15437142857144,
          491.80472307942995,
          502.11548691997746,
          504.4625433960284,
          522.219809244635,
          545.2162123102618,
          554.6009686961554,
          621.8929536227153,
          675.5422133815766,
          697.7844030106376,
          709.5403101522832,
          751.2946885172164,
          754.5879177599514,
          774.8396902513206,
          776.7685758762549,
          801.6561869651816,
          857.5013510413618,
          870.787589295504,
          890.7372854890706,
          922.9296417430922,
          1064.1312373906196,
          1071.0507605550897,
          1084.58490263117,
          1089.1572087787663,
          1157.5351645063117,
          1219.4326718639563,
          1250.6739905512165,
          1291.3433573539712,
          1309.3929916833156,
          1393.522371974624,
          1405.5805556086316,
          1407.8131434078966,
          1446.8309649931728,
          1463.9859101805419,
          1497.90917558793,
          1643.121388766668,
          1655.0788395149907,
          1677.9192526409197,
          1724.8411344032947,
          1808.4378618138294,
          1816.5469164371505,
          1910.8358277376421,
          1912.903745350624,
          1994.9064662227513,
          2011.0723989259006,
          2127.5385079341854,
          2175.3153946557563,
          2229.858696245781,
          2286.16277684902,
          2366.999792737433,
          2534.8982772051713,
          2574.912190670397,
          2715.276036405425,
          2845.180185774812,
          2973.591159799147,
          3020.0313497202005,
          3058.065675832494,
          3216.5667385160236,
          3317.5410135121674,
          3364.767826224481,
          3408.8462539545585,
          3464.696002931611,
          3485.0842183692116,
          3531.452611694416,
          3552.068762105775,
          3763.8073854841728,
          3853.0836928863,
          3911.5789801341234,
          3948.3432789227913,
          4097.872209632196,
          4142.022784788127,
          4187.250031106896,
          4200.641052610787,
          4295.235024728952,
          4330.329345949303,
          4494.140386592023,
          4498.520850289186,
          4619.987097105244,
          4622.733493343377,
          4769.18654320981,
          4815.163710795101,
          4957.458005716508,
          5352.857411084262,
          5371.177207873912,
          5414.799137954041,
          5468.356628928696,
          5582.263777613991,
          5955.109010370268,
          6001.400813941395,
          6073.265202968797,
          6183.823824821733,
          6220.046420428944,
          6432.387583390623,
          6663.295292861749,
          6854.906560687477,
          6859.732807266939,
          6977.695783568442,
          7402.354558655718,
          7667.366861228061,
          7683.750611291677,
          7784.316856904599,
          7808.192916304814,
          7817.1830832174355,
          8131.92388785725,
          8216.466925489025,
          8282.11622189043,
          8300.375069630125,
          8655.264804221777,
          8825.442275777004,
          8832.036835938065,
          9042.492982893424,
          9731.14520687936,
          9985.29113811174,
          10006.148973606541,
          10790.500236367438,
          10965.51315589761,
          11203.540584699034,
          11239.78150436468,
          11611.415449422835,
          11774.156384485565,
          12238.374964463035,
          12328.404026456756,
          12919.529644186483,
          14244.677920749224,
          14617.408775978893,
          14853.239837492318,
          14896.453866597354,
          15575.873416333023,
          15595.227033436207,
          15731.01603484708,
          16190.126957183886,
          16475.741838979917,
          16915.49345340793,
          17276.465447001483,
          17401.72151600512,
          17790.309304145474,
          17836.364886560932,
          18148.24492640014,
          19329.0968008679,
          19455.45412660343,
          19582.53601086268,
          19896.49571209511,
          20494.87761299877,
          23101.777704996453,
          23139.798656131363,
          23145.04081731222,
          23566.890205462583,
          25688.046129052665,
          25739.247814359183,
          29416.230606402427,
          29613.67113798626,
          31086.751078389512,
          32031.980102603156,
          32933.48601475806,
          33189.56579886136,
          39238.74286107253,
          40259.112030836484,
          40493.9285720389,
          42300.26712583137,
          42745.04555752943,
          43103.32305835232,
          43641.39773585323,
          46116.699233676605,
          46258.8782897109,
          46940.59584210967,
          48373.6277023036,
          48685.853986747854,
          50277.27508736838,
          51610.06605523354,
          52447.83143920359,
          54049.8288124881,
          59822.092960913134,
          64781.73319734314,
          65233.28243929371,
          65280.6822413034,
          66944.82550863102,
          75419.6348687409,
          77629.9889911643,
          81993.72714940654,
          110172.37314087298,
          172357.4722901707
         ],
         "xaxis": "x",
         "y": [
          59.0794818773406,
          59.74913998724765,
          60.024174239378326,
          61.016703775619604,
          61.316171599808655,
          61.56374330735748,
          61.65608487725453,
          61.77606935784684,
          61.86451183138611,
          61.884390297142275,
          62.03185541180599,
          62.21554783471683,
          62.2882954944597,
          62.7764461810154,
          63.129167540383676,
          63.26725290816492,
          63.33846896390756,
          63.58220803327154,
          63.600851965718576,
          63.71374456716371,
          63.72434273023951,
          63.858774309915404,
          64.14583122625459,
          64.21137028848786,
          64.30792468571595,
          64.45926228115025,
          65.066092252321,
          65.0937202092895,
          65.14724648909775,
          65.16517870278548,
          65.42472368154893,
          65.64677534572988,
          65.7546061367726,
          65.89101165550507,
          65.95017940290764,
          66.21561644618969,
          66.25234228245604,
          66.25910753650605,
          66.37563923480627,
          66.42588337990983,
          66.52352904143856,
          66.91793789440288,
          66.94884579225557,
          67.00726849851387,
          67.12483336728042,
          67.32657632509458,
          67.34564720561188,
          67.5613497529983,
          67.56596028404684,
          67.74488261174508,
          67.77928593946905,
          68.0192607373092,
          68.11392478645276,
          68.2194865223986,
          68.32578140561975,
          68.47390073106901,
          68.76601878828987,
          68.8327795213142,
          69.05903133049875,
          69.25823512628645,
          69.44640381060029,
          69.51246087565505,
          69.56580907290859,
          69.78120737301612,
          69.91296173683132,
          69.97321426936088,
          70.02869188123464,
          70.09796363110578,
          70.12297372783152,
          70.17931304032211,
          70.2041252575004,
          70.45093427912462,
          70.55086162317767,
          70.61508786102688,
          70.65496437508077,
          70.8134133935875,
          70.8590932601586,
          70.90538497931496,
          70.91899526608901,
          71.01391996378592,
          71.04860624213916,
          71.20688055120301,
          71.21103332110873,
          71.32460328911043,
          71.32713648844978,
          71.4600855329767,
          71.50098228803064,
          71.62512266966615,
          71.95222458405331,
          71.96678818764616,
          72.00126711638516,
          72.04322126055106,
          72.13110037743276,
          72.40670018110806,
          72.43970731605776,
          72.49044722935216,
          72.56734664445146,
          72.59224264412475,
          72.73533184956035,
          72.88566725706919,
          73.00651462253987,
          73.00951469065166,
          73.08219333737172,
          73.33402595145442,
          73.48396390170063,
          73.49306260422075,
          73.54849048586544,
          73.56154476657973,
          73.5664498151068,
          73.73470910350301,
          73.7787963210706,
          73.8127191217319,
          73.82210618504041,
          74.00056938132299,
          74.0835664537791,
          74.08675038102828,
          74.18713173293045,
          74.49999342959792,
          74.6098901614333,
          74.61878486128097,
          74.9404687146662,
          75.00905008247776,
          75.1005883146513,
          75.11435465262142,
          75.25301449361473,
          75.31234278021276,
          75.47717597235146,
          75.50841823166881,
          75.70805443215495,
          76.12426996205383,
          76.23437260554525,
          76.30259493811157,
          76.31497858469052,
          76.50509095595018,
          76.51038412845516,
          76.54733842872953,
          76.66996232807935,
          76.74450477910986,
          76.85678572142358,
          76.94679175903408,
          76.97758463587064,
          77.07172339129508,
          77.08274419382256,
          77.15663452958381,
          77.42533993829642,
          77.45311462553897,
          77.48086722781494,
          77.54866611294912,
          77.67497316135893,
          78.18535547311083,
          78.19236512460782,
          78.19333068088653,
          78.27032299829108,
          78.63768777069157,
          78.64617560140162,
          79.21536073465802,
          79.24387563466777,
          79.4508067816737,
          79.5784851251093,
          79.69679469655682,
          79.72981116052014,
          80.44349655494533,
          80.55292538362235,
          80.57771541115406,
          80.76374163183132,
          80.80832812123427,
          80.84390730602331,
          80.89678969337197,
          81.13195355494356,
          81.14507509422921,
          81.20743489829115,
          81.33561978992134,
          81.36304430602505,
          81.50014988137045,
          81.61167496744466,
          81.68031266878995,
          81.80856358483265,
          82.24108530944083,
          82.58059665142301,
          82.61020535099154,
          82.61330152632411,
          82.72060267796371,
          83.2287014271401,
          83.35183196322718,
          83.58494978309831,
          84.84414048461292,
          86.75176450636174
         ],
         "yaxis": "y"
        },
        {
         "hovertemplate": "<b>OLS trendline</b><br>Life expectancy = 9.81503 * log10(GDP_per_Capita) + 35.356<br>R<sup>2</sup>=0.695973<br><br>GDP_per_Capita=%{x}<br>Life expectancy=%{y} <b>(trend)</b><extra></extra>",
         "legendgroup": "",
         "line": {
          "color": "#ea4335"
         },
         "marker": {
          "color": "#636efa",
          "symbol": "circle"
         },
         "mode": "lines",
         "name": "",
         "showlegend": false,
         "type": "scatter",
         "x": [
          261.24747254691437,
          305.689070676793,
          326.0630992391604,
          411.5523404231106,
          441.5056033837011,
          467.90744070041524,
          478.15437142857144,
          491.80472307942995,
          502.11548691997746,
          504.4625433960284,
          522.219809244635,
          545.2162123102618,
          554.6009686961554,
          621.8929536227153,
          675.5422133815766,
          697.7844030106376,
          709.5403101522832,
          751.2946885172164,
          754.5879177599514,
          774.8396902513206,
          776.7685758762549,
          801.6561869651816,
          857.5013510413618,
          870.787589295504,
          890.7372854890706,
          922.9296417430922,
          1064.1312373906196,
          1071.0507605550897,
          1084.58490263117,
          1089.1572087787663,
          1157.5351645063117,
          1219.4326718639563,
          1250.6739905512165,
          1291.3433573539712,
          1309.3929916833156,
          1393.522371974624,
          1405.5805556086316,
          1407.8131434078966,
          1446.8309649931728,
          1463.9859101805419,
          1497.90917558793,
          1643.121388766668,
          1655.0788395149907,
          1677.9192526409197,
          1724.8411344032947,
          1808.4378618138294,
          1816.5469164371505,
          1910.8358277376421,
          1912.903745350624,
          1994.9064662227513,
          2011.0723989259006,
          2127.5385079341854,
          2175.3153946557563,
          2229.858696245781,
          2286.16277684902,
          2366.999792737433,
          2534.8982772051713,
          2574.912190670397,
          2715.276036405425,
          2845.180185774812,
          2973.591159799147,
          3020.0313497202005,
          3058.065675832494,
          3216.5667385160236,
          3317.5410135121674,
          3364.767826224481,
          3408.8462539545585,
          3464.696002931611,
          3485.0842183692116,
          3531.452611694416,
          3552.068762105775,
          3763.8073854841728,
          3853.0836928863,
          3911.5789801341234,
          3948.3432789227913,
          4097.872209632196,
          4142.022784788127,
          4187.250031106896,
          4200.641052610787,
          4295.235024728952,
          4330.329345949303,
          4494.140386592023,
          4498.520850289186,
          4619.987097105244,
          4622.733493343377,
          4769.18654320981,
          4815.163710795101,
          4957.458005716508,
          5352.857411084262,
          5371.177207873912,
          5414.799137954041,
          5468.356628928696,
          5582.263777613991,
          5955.109010370268,
          6001.400813941395,
          6073.265202968797,
          6183.823824821733,
          6220.046420428944,
          6432.387583390623,
          6663.295292861749,
          6854.906560687477,
          6859.732807266939,
          6977.695783568442,
          7402.354558655718,
          7667.366861228061,
          7683.750611291677,
          7784.316856904599,
          7808.192916304814,
          7817.1830832174355,
          8131.92388785725,
          8216.466925489025,
          8282.11622189043,
          8300.375069630125,
          8655.264804221777,
          8825.442275777004,
          8832.036835938065,
          9042.492982893424,
          9731.14520687936,
          9985.29113811174,
          10006.148973606541,
          10790.500236367438,
          10965.51315589761,
          11203.540584699034,
          11239.78150436468,
          11611.415449422835,
          11774.156384485565,
          12238.374964463035,
          12328.404026456756,
          12919.529644186483,
          14244.677920749224,
          14617.408775978893,
          14853.239837492318,
          14896.453866597354,
          15575.873416333023,
          15595.227033436207,
          15731.01603484708,
          16190.126957183886,
          16475.741838979917,
          16915.49345340793,
          17276.465447001483,
          17401.72151600512,
          17790.309304145474,
          17836.364886560932,
          18148.24492640014,
          19329.0968008679,
          19455.45412660343,
          19582.53601086268,
          19896.49571209511,
          20494.87761299877,
          23101.777704996453,
          23139.798656131363,
          23145.04081731222,
          23566.890205462583,
          25688.046129052665,
          25739.247814359183,
          29416.230606402427,
          29613.67113798626,
          31086.751078389512,
          32031.980102603156,
          32933.48601475806,
          33189.56579886136,
          39238.74286107253,
          40259.112030836484,
          40493.9285720389,
          42300.26712583137,
          42745.04555752943,
          43103.32305835232,
          43641.39773585323,
          46116.699233676605,
          46258.8782897109,
          46940.59584210967,
          48373.6277023036,
          48685.853986747854,
          50277.27508736838,
          51610.06605523354,
          52447.83143920359,
          54049.8288124881,
          59822.092960913134,
          64781.73319734314,
          65233.28243929371,
          65280.6822413034,
          66944.82550863102,
          75419.6348687409,
          77629.9889911643,
          81993.72714940654,
          110172.37314087298,
          172357.4722901707
         ],
         "xaxis": "x",
         "y": [
          59.0794818773406,
          59.74913998724765,
          60.024174239378326,
          61.016703775619604,
          61.316171599808655,
          61.56374330735748,
          61.65608487725453,
          61.77606935784684,
          61.86451183138611,
          61.884390297142275,
          62.03185541180599,
          62.21554783471683,
          62.2882954944597,
          62.7764461810154,
          63.129167540383676,
          63.26725290816492,
          63.33846896390756,
          63.58220803327154,
          63.600851965718576,
          63.71374456716371,
          63.72434273023951,
          63.858774309915404,
          64.14583122625459,
          64.21137028848786,
          64.30792468571595,
          64.45926228115025,
          65.066092252321,
          65.0937202092895,
          65.14724648909775,
          65.16517870278548,
          65.42472368154893,
          65.64677534572988,
          65.7546061367726,
          65.89101165550507,
          65.95017940290764,
          66.21561644618969,
          66.25234228245604,
          66.25910753650605,
          66.37563923480627,
          66.42588337990983,
          66.52352904143856,
          66.91793789440288,
          66.94884579225557,
          67.00726849851387,
          67.12483336728042,
          67.32657632509458,
          67.34564720561188,
          67.5613497529983,
          67.56596028404684,
          67.74488261174508,
          67.77928593946905,
          68.0192607373092,
          68.11392478645276,
          68.2194865223986,
          68.32578140561975,
          68.47390073106901,
          68.76601878828987,
          68.8327795213142,
          69.05903133049875,
          69.25823512628645,
          69.44640381060029,
          69.51246087565505,
          69.56580907290859,
          69.78120737301612,
          69.91296173683132,
          69.97321426936088,
          70.02869188123464,
          70.09796363110578,
          70.12297372783152,
          70.17931304032211,
          70.2041252575004,
          70.45093427912462,
          70.55086162317767,
          70.61508786102688,
          70.65496437508077,
          70.8134133935875,
          70.8590932601586,
          70.90538497931496,
          70.91899526608901,
          71.01391996378592,
          71.04860624213916,
          71.20688055120301,
          71.21103332110873,
          71.32460328911043,
          71.32713648844978,
          71.4600855329767,
          71.50098228803064,
          71.62512266966615,
          71.95222458405331,
          71.96678818764616,
          72.00126711638516,
          72.04322126055106,
          72.13110037743276,
          72.40670018110806,
          72.43970731605776,
          72.49044722935216,
          72.56734664445146,
          72.59224264412475,
          72.73533184956035,
          72.88566725706919,
          73.00651462253987,
          73.00951469065166,
          73.08219333737172,
          73.33402595145442,
          73.48396390170063,
          73.49306260422075,
          73.54849048586544,
          73.56154476657973,
          73.5664498151068,
          73.73470910350301,
          73.7787963210706,
          73.8127191217319,
          73.82210618504041,
          74.00056938132299,
          74.0835664537791,
          74.08675038102828,
          74.18713173293045,
          74.49999342959792,
          74.6098901614333,
          74.61878486128097,
          74.9404687146662,
          75.00905008247776,
          75.1005883146513,
          75.11435465262142,
          75.25301449361473,
          75.31234278021276,
          75.47717597235146,
          75.50841823166881,
          75.70805443215495,
          76.12426996205383,
          76.23437260554525,
          76.30259493811157,
          76.31497858469052,
          76.50509095595018,
          76.51038412845516,
          76.54733842872953,
          76.66996232807935,
          76.74450477910986,
          76.85678572142358,
          76.94679175903408,
          76.97758463587064,
          77.07172339129508,
          77.08274419382256,
          77.15663452958381,
          77.42533993829642,
          77.45311462553897,
          77.48086722781494,
          77.54866611294912,
          77.67497316135893,
          78.18535547311083,
          78.19236512460782,
          78.19333068088653,
          78.27032299829108,
          78.63768777069157,
          78.64617560140162,
          79.21536073465802,
          79.24387563466777,
          79.4508067816737,
          79.5784851251093,
          79.69679469655682,
          79.72981116052014,
          80.44349655494533,
          80.55292538362235,
          80.57771541115406,
          80.76374163183132,
          80.80832812123427,
          80.84390730602331,
          80.89678969337197,
          81.13195355494356,
          81.14507509422921,
          81.20743489829115,
          81.33561978992134,
          81.36304430602505,
          81.50014988137045,
          81.61167496744466,
          81.68031266878995,
          81.80856358483265,
          82.24108530944083,
          82.58059665142301,
          82.61020535099154,
          82.61330152632411,
          82.72060267796371,
          83.2287014271401,
          83.35183196322718,
          83.58494978309831,
          84.84414048461292,
          86.75176450636174
         ],
         "yaxis": "y"
        }
       ],
       "layout": {
        "legend": {
         "tracegroupgap": 0
        },
        "margin": {
         "t": 60
        },
        "paper_bgcolor": "rgba(0, 0, 0, 0)",
        "plot_bgcolor": "rgba(0, 0, 0, 0)",
        "template": {
         "data": {
          "pie": [
           {
            "automargin": true,
            "type": "pie"
           }
          ]
         },
         "layout": {
          "xaxis": {
           "showgrid": true,
           "title": {
            "standoff": 15
           }
          },
          "yaxis": {
           "showgrid": true,
           "title": {
            "standoff": 15
           }
          }
         }
        },
        "title": {
         "text": "Sebaran plot Ekspektasi Hidup dan PDB per Kapita"
        },
        "xaxis": {
         "anchor": "y",
         "domain": [
          0,
          1
         ],
         "title": {
          "text": "PDB per Kapita"
         }
        },
        "yaxis": {
         "anchor": "x",
         "domain": [
          0,
          1
         ],
         "title": {
          "text": "Ekspektasi Hidup"
         }
        }
       }
      }
     },
     "metadata": {},
     "output_type": "display_data"
    }
   ],
   "source": [
    "fig = px.scatter(df, x=\"GDP_per_Capita\", y=\"Life expectancy\",\n",
    "                 trendline=\"ols\", trendline_options=dict(log_x=True), hover_data=df[['Country']])\n",
    "fig.update_layout(\n",
    "    title='Sebaran plot Ekspektasi Hidup dan PDB per Kapita'\n",
    ")\n",
    "\n",
    "trendline = px.scatter(df, x=\"GDP_per_Capita\", y=\"Life expectancy\",\n",
    "                       trendline=\"ols\", trendline_options=dict(log_x=True))\n",
    "trendline.data[1]['line']['color'] = '#ea4335'\n",
    "fig.add_trace(trendline.data[1])\n",
    "\n",
    "fig.update_xaxes(title_text=\"PDB per Kapita\")\n",
    "fig.update_yaxes(title_text=\"Ekspektasi Hidup\")\n",
    "\n",
    "fig.update_layout(\n",
    "    template='gridon',\n",
    "    plot_bgcolor='rgba(0, 0, 0, 0)',\n",
    "    paper_bgcolor='rgba(0, 0, 0, 0)',\n",
    ")\n",
    "\n",
    "fig.show()"
   ]
  },
  {
   "cell_type": "markdown",
   "id": "71e48cce",
   "metadata": {
    "papermill": {
     "duration": 0.011862,
     "end_time": "2023-08-28T11:18:48.777847",
     "exception": false,
     "start_time": "2023-08-28T11:18:48.765985",
     "status": "completed"
    },
    "tags": []
   },
   "source": [
    "Ekspektasi hidup dan PDB per kapita memiliki korelasi yang kuat.   \n",
    "Dengan kata lain, negara yang miskin memiliki ekspektasi hidup yang lebih rendah daripada negara yang kaya\n",
    "\n",
    "Terlihat erdapat korelasi negatif antara harapan hidup dan tingkat kelahiran. Hal ini disebabkan oleh fakta bahwa negara-negara dengan tingkat kelahiran yang tinggi biasanya memiliki GDP per Kapita yang rendah. Akibatnya, penduduk di negara-negara tersebut tidak mampu membiayai kebutuhan pokok untuk menjalani gaya hidup yang sehat, seperti akses ke layanan kesehatan dan lingkungan yang bersih. Dengan demikian, harapan hidup di negara-negara tersebut cenderung rendah. Dua negara dengan harapan hidup terendah adalah Central African Republic dan Lesotho dimana mereka memiliki rata-rata usia hidup hanya di kisaran 52,8 dan 53,7 tahun!"
   ]
  },
  {
   "cell_type": "code",
   "execution_count": 68,
   "id": "3ab23e58",
   "metadata": {
    "_kg_hide-input": true,
    "execution": {
     "iopub.execute_input": "2023-08-28T11:18:48.887059Z",
     "iopub.status.busy": "2023-08-28T11:18:48.884885Z",
     "iopub.status.idle": "2023-08-28T11:18:48.960758Z",
     "shell.execute_reply": "2023-08-28T11:18:48.959602Z"
    },
    "papermill": {
     "duration": 0.091183,
     "end_time": "2023-08-28T11:18:48.963032",
     "exception": false,
     "start_time": "2023-08-28T11:18:48.871849",
     "status": "completed"
    },
    "tags": []
   },
   "outputs": [
    {
     "data": {
      "application/vnd.plotly.v1+json": {
       "config": {
        "plotlyServerURL": "https://plot.ly"
       },
       "data": [
        {
         "marker": {
          "color": [
           "#a1c2fa",
           "#f28e86",
           "#fde396",
           "#aedcba",
           "#a1c2fa",
           "#f28e86",
           "#fcd050",
           "#5db975",
           "#5591f5",
           "#ea4335"
          ]
         },
         "orientation": "h",
         "text": [
          "126M",
          "144M",
          "167M",
          "200M",
          "212M",
          "216M",
          "270M",
          "328M",
          "1366M",
          "1397M"
         ],
         "textposition": "outside",
         "type": "bar",
         "x": [
          126226568,
          144373535,
          167310838,
          200963599,
          212559417,
          216565318,
          270203917,
          328239523,
          1366417754,
          1397715000
         ],
         "y": [
          "Japan",
          "Russia",
          "Bangladesh",
          "Nigeria",
          "Brazil",
          "Pakistan",
          "Indonesia",
          "UnitedStates",
          "India",
          "China"
         ]
        }
       ],
       "layout": {
        "paper_bgcolor": "rgba(0, 0, 0, 0)",
        "plot_bgcolor": "rgba(0, 0, 0, 0)",
        "template": {
         "data": {
          "pie": [
           {
            "automargin": true,
            "type": "pie"
           }
          ]
         },
         "layout": {
          "xaxis": {
           "showgrid": true,
           "title": {
            "standoff": 15
           }
          },
          "yaxis": {
           "showgrid": true,
           "title": {
            "standoff": 15
           }
          }
         }
        },
        "title": {
         "text": "Top 10 Negara dengan Populasi terbanyak"
        },
        "xaxis": {
         "title": {
          "text": "Populasi"
         }
        }
       }
      }
     },
     "metadata": {},
     "output_type": "display_data"
    },
    {
     "data": {
      "application/vnd.plotly.v1+json": {
       "config": {
        "plotlyServerURL": "https://plot.ly"
       },
       "data": [
        {
         "hole": 0.6,
         "labels": [
          "China",
          "India",
          "Others"
         ],
         "marker": {
          "colors": [
           "#4285f4",
           "#ea4335",
           "#34a853"
          ]
         },
         "pull": [
          0,
          0,
          0
         ],
         "showlegend": false,
         "textinfo": "label+percent",
         "type": "pie",
         "values": [
          1397715000,
          1366417754,
          4875813064
         ]
        }
       ],
       "layout": {
        "annotations": [
         {
          "font": {
           "size": 13
          },
          "showarrow": false,
          "text": "Hampir setengah <br>Penduduk bumi adalah <br> rakyat China dan India!",
          "x": 0.5,
          "y": 0.5
         }
        ],
        "paper_bgcolor": "rgba(0, 0, 0, 0)",
        "plot_bgcolor": "rgba(0, 0, 0, 0)",
        "template": {
         "data": {
          "pie": [
           {
            "automargin": true,
            "type": "pie"
           }
          ]
         },
         "layout": {
          "xaxis": {
           "showgrid": true,
           "title": {
            "standoff": 15
           }
          },
          "yaxis": {
           "showgrid": true,
           "title": {
            "standoff": 15
           }
          }
         }
        },
        "title": {
         "text": "Distribusi populasi pada Negara"
        }
       }
      }
     },
     "metadata": {},
     "output_type": "display_data"
    }
   ],
   "source": [
    "data = df[['Country', 'Population']].sort_values('Population', ascending=False)[:10]\n",
    "colors = ['#a1c2fa', '#f28e86', '#fde396', '#aedcba', '#a1c2fa', '#f28e86', '#fcd050', '#5db975', '#5591f5', '#ea4335']\n",
    "fig = go.Figure(go.Bar(\n",
    "            x=data['Population'][::-1],\n",
    "            y=data['Country'][::-1],\n",
    "            marker=dict(color=colors),\n",
    "            text=data['Population'].apply(lambda x:str(int(x/1000000))+\"M\")[::-1], \n",
    "            textposition='outside',\n",
    "            orientation='h'))\n",
    "fig.update_layout(\n",
    "    title='Top 10 Negara dengan Populasi terbanyak',\n",
    "    xaxis_title=\"Populasi\",\n",
    "    template='gridon',\n",
    "    plot_bgcolor='rgba(0, 0, 0, 0)',\n",
    "    paper_bgcolor='rgba(0, 0, 0, 0)',\n",
    ")\n",
    "\n",
    "fig.show()\n",
    "\n",
    "df_sorted = df.sort_values('Population', ascending=False)\n",
    "\n",
    "top_n = 2\n",
    "top_countries = df_sorted.head(top_n)\n",
    "\n",
    "other_population = df_sorted.iloc[top_n:]['Population'].sum()\n",
    "\n",
    "new_df = pd.concat([top_countries, pd.DataFrame({'Country': ['Others'], 'Population': [other_population]})])\n",
    "\n",
    "colors = ['#4285f4', '#ea4335', '#34a853']\n",
    "fig = go.Figure(data=[go.Pie(labels=new_df['Country'],\n",
    "                             values=new_df['Population'],\n",
    "                             textinfo=\"label+percent\",\n",
    "                             pull=[0, 0, 0],\n",
    "                             showlegend=False,\n",
    "                             marker_colors=colors,\n",
    "                            )])\n",
    "\n",
    "\n",
    "fig.update_traces(\n",
    "    hole=0.6\n",
    ")\n",
    "fig.update_layout(\n",
    "    title='Distribusi populasi pada Negara',\n",
    "    template='gridon',\n",
    "    plot_bgcolor='rgba(0, 0, 0, 0)',\n",
    "    paper_bgcolor='rgba(0, 0, 0, 0)',\n",
    "    annotations=[\n",
    "        dict(\n",
    "            text=\"Hampir setengah <br>Penduduk bumi adalah <br> rakyat China dan India!\", \n",
    "            x=0.5, y=0.5, \n",
    "            font_size=13,\n",
    "            showarrow=False\n",
    "        )\n",
    "    ]\n",
    ")\n",
    "\n",
    "fig.show()"
   ]
  },
  {
   "cell_type": "code",
   "execution_count": 69,
   "id": "a8612c80",
   "metadata": {
    "_kg_hide-input": true,
    "execution": {
     "iopub.execute_input": "2023-08-28T11:18:49.566148Z",
     "iopub.status.busy": "2023-08-28T11:18:49.565431Z",
     "iopub.status.idle": "2023-08-28T11:18:49.653987Z",
     "shell.execute_reply": "2023-08-28T11:18:49.652882Z"
    },
    "papermill": {
     "duration": 0.106215,
     "end_time": "2023-08-28T11:18:49.656601",
     "exception": false,
     "start_time": "2023-08-28T11:18:49.550386",
     "status": "completed"
    },
    "tags": []
   },
   "outputs": [
    {
     "data": {
      "application/vnd.plotly.v1+json": {
       "config": {
        "plotlyServerURL": "https://plot.ly"
       },
       "data": [
        {
         "alignmentgroup": "True",
         "hovertemplate": "population_growth_indicator=%{text}<br>Country=%{y}<extra></extra>",
         "legendgroup": "",
         "marker": {
          "color": [
           "#4285f4",
           "#ea4335",
           "#4285f4",
           "#ea4335",
           "#4285f4",
           "#ea4335",
           "#4285f4",
           "#ea4335",
           "#ea4335",
           "#ea4335",
           "#ea4335",
           "#ea4335",
           "#ea4335",
           "#ea4335",
           "#ea4335",
           "#ea4335",
           "#ea4335",
           "#4285f4",
           "#4285f4",
           "#ea4335",
           "#4285f4",
           "#ea4335",
           "#4285f4",
           "#ea4335",
           "#ea4335",
           "#ea4335",
           "#4285f4",
           "#4285f4",
           "#4285f4",
           "#4285f4",
           "#4285f4",
           "#4285f4",
           "#ea4335",
           "#4285f4",
           "#4285f4",
           "#ea4335",
           "#ea4335",
           "#ea4335",
           "#4285f4",
           "#4285f4",
           "#ea4335",
           "#ea4335",
           "#ea4335",
           "#ea4335",
           "#ea4335",
           "#4285f4",
           "#ea4335",
           "#4285f4",
           "#ea4335",
           "#4285f4",
           "#4285f4",
           "#4285f4",
           "#ea4335",
           "#4285f4",
           "#4285f4",
           "#ea4335",
           "#4285f4",
           "#4285f4",
           "#4285f4",
           "#ea4335",
           "#ea4335",
           "#4285f4",
           "#4285f4",
           "#ea4335",
           "#ea4335",
           "#4285f4",
           "#ea4335",
           "#ea4335",
           "#4285f4",
           "#4285f4",
           "#4285f4",
           "#4285f4",
           "#4285f4",
           "#4285f4",
           "#4285f4",
           "#ea4335",
           "#ea4335",
           "#4285f4",
           "#4285f4",
           "#4285f4",
           "#4285f4",
           "#ea4335",
           "#4285f4",
           "#ea4335",
           "#ea4335",
           "#ea4335",
           "#4285f4",
           "#4285f4",
           "#4285f4",
           "#4285f4",
           "#ea4335",
           "#4285f4",
           "#4285f4",
           "#ea4335",
           "#ea4335",
           "#4285f4",
           "#4285f4",
           "#4285f4",
           "#ea4335",
           "#ea4335",
           "#ea4335",
           "#4285f4",
           "#4285f4",
           "#ea4335",
           "#ea4335",
           "#4285f4",
           "#ea4335",
           "#4285f4",
           "#4285f4",
           "#ea4335",
           "#4285f4",
           "#4285f4",
           "#ea4335",
           "#4285f4",
           "#4285f4",
           "#ea4335",
           "#4285f4",
           "#4285f4",
           "#4285f4",
           "#4285f4",
           "#4285f4",
           "#ea4335",
           "#ea4335",
           "#ea4335",
           "#4285f4",
           "#4285f4",
           "#4285f4",
           "#ea4335",
           "#4285f4",
           "#ea4335",
           "#4285f4",
           "#4285f4",
           "#4285f4",
           "#4285f4",
           "#4285f4",
           "#4285f4",
           "#4285f4",
           "#4285f4",
           "#4285f4",
           "#ea4335",
           "#ea4335",
           "#ea4335",
           "#ea4335",
           "#ea4335",
           "#4285f4",
           "#4285f4",
           "#ea4335",
           "#ea4335",
           "#4285f4",
           "#ea4335",
           "#4285f4",
           "#4285f4",
           "#4285f4",
           "#ea4335",
           "#4285f4",
           "#4285f4",
           "#ea4335",
           "#ea4335",
           "#ea4335",
           "#4285f4",
           "#4285f4",
           "#4285f4",
           "#ea4335",
           "#4285f4",
           "#ea4335",
           "#4285f4",
           "#4285f4",
           "#4285f4",
           "#ea4335",
           "#ea4335",
           "#4285f4",
           "#4285f4",
           "#4285f4",
           "#ea4335",
           "#4285f4",
           "#4285f4",
           "#4285f4",
           "#ea4335",
           "#4285f4",
           "#ea4335",
           "#4285f4",
           "#4285f4",
           "#4285f4",
           "#ea4335",
           "#ea4335",
           "#ea4335",
           "#ea4335",
           "#ea4335",
           "#4285f4",
           "#4285f4",
           "#4285f4",
           "#ea4335",
           "#4285f4",
           "#4285f4",
           "#4285f4"
          ],
          "pattern": {
           "shape": ""
          }
         },
         "name": "",
         "offsetgroup": "",
         "orientation": "h",
         "showlegend": false,
         "text": [
          2.37,
          -0.48,
          0.92,
          -0.83,
          3.42,
          -0.11,
          0.16,
          -0.34,
          -0.36,
          -0.63,
          -0.37,
          -0.35,
          -0.11,
          -0.06,
          -0.48,
          -0.65,
          -0.48,
          0.21,
          2.74,
          -0.12,
          0.63,
          -0.83,
          0.77,
          -0.37,
          -0.25,
          -0.54,
          3.09,
          3.31,
          2.55,
          0.17,
          0.4,
          2.47,
          -0.6,
          2.62,
          3.65,
          -0.45,
          -0.41,
          -0.29,
          2.11,
          2.33,
          -0.35,
          -0.63,
          -0.48,
          -0.77,
          -0.41,
          3.82,
          -0.37,
          0.63,
          -0.2,
          0.25,
          0.33,
          1.23,
          -0.06,
          2.41,
          1.96,
          -0.51,
          null,
          2.15,
          0.67,
          -0.69,
          -0.22,
          1.87,
          3.12,
          -0.04,
          -0.54,
          1.77,
          -0.75,
          -0.04,
          0.77,
          2.6,
          2.38,
          0.36,
          0.84,
          null,
          0.36,
          -0.56,
          -0.39,
          0.12,
          0.21,
          0.04,
          1.57,
          -0.35,
          0.99,
          -0.81,
          -0.12,
          -0.68,
          0.66,
          0.74,
          1.39,
          1.47,
          -0.02,
          1.2,
          0.57,
          -0.5,
          -0.01,
          1.04,
          2.22,
          0.14,
          -0.66,
          -0.47,
          -0.73,
          1.98,
          2.11,
          -0.1,
          -0.23,
          3.78,
          -0.87,
          1.95,
          2.46,
          -0.69,
          0.03,
          0.95,
          -0.84,
          null,
          0.8,
          -0.35,
          0.32,
          2.75,
          0.05,
          1.3,
          null,
          -0.18,
          -0.51,
          -0.39,
          0.3,
          4.81,
          3.29,
          -0.2,
          null,
          -0.54,
          0.79,
          1.41,
          0.11,
          null,
          0.36,
          1.46,
          0.33,
          0.15,
          0.48,
          -0.64,
          -0.72,
          -0.23,
          -0.39,
          -0.53,
          1.94,
          0.01,
          -0.66,
          -0.21,
          1.78,
          -0.84,
          2.22,
          0.22,
          2.53,
          -0.61,
          0.31,
          2.16,
          -0.96,
          -0.58,
          -0.5,
          2.3,
          3.97,
          0.31,
          -1.12,
          2.6,
          -0.84,
          0.1,
          2.31,
          0.32,
          -0.34,
          -0.58,
          0.71,
          1.49,
          2.79,
          -0.57,
          1.92,
          2.22,
          1.46,
          -0.37,
          0.1,
          -0.03,
          0.69,
          null,
          2.86,
          -0.8,
          -0.69,
          -0.42,
          -0.37,
          -0.13,
          0.32,
          1.68,
          0.17,
          -0.05,
          1.69,
          2.53,
          1.52
         ],
         "textposition": "outside",
         "type": "bar",
         "x": [
          2.37,
          -0.48,
          0.92,
          -0.83,
          3.42,
          -0.11,
          0.16,
          -0.34,
          -0.36,
          -0.63,
          -0.37,
          -0.35,
          -0.11,
          -0.06,
          -0.48,
          -0.65,
          -0.48,
          0.21,
          2.74,
          -0.12,
          0.63,
          -0.83,
          0.77,
          -0.37,
          -0.25,
          -0.54,
          3.09,
          3.31,
          2.55,
          0.17,
          0.4,
          2.47,
          -0.6,
          2.62,
          3.65,
          -0.45,
          -0.41,
          -0.29,
          2.11,
          2.33,
          -0.35,
          -0.63,
          -0.48,
          -0.77,
          -0.41,
          3.82,
          -0.37,
          0.63,
          -0.2,
          0.25,
          0.33,
          1.23,
          -0.06,
          2.41,
          1.96,
          -0.51,
          null,
          2.15,
          0.67,
          -0.69,
          -0.22,
          1.87,
          3.12,
          -0.04,
          -0.54,
          1.77,
          -0.75,
          -0.04,
          0.77,
          2.6,
          2.38,
          0.36,
          0.84,
          null,
          0.36,
          -0.56,
          -0.39,
          0.12,
          0.21,
          0.04,
          1.57,
          -0.35,
          0.99,
          -0.81,
          -0.12,
          -0.68,
          0.66,
          0.74,
          1.39,
          1.47,
          -0.02,
          1.2,
          0.57,
          -0.5,
          -0.01,
          1.04,
          2.22,
          0.14,
          -0.66,
          -0.47,
          -0.73,
          1.98,
          2.11,
          -0.1,
          -0.23,
          3.78,
          -0.87,
          1.95,
          2.46,
          -0.69,
          0.03,
          0.95,
          -0.84,
          null,
          0.8,
          -0.35,
          0.32,
          2.75,
          0.05,
          1.3,
          null,
          -0.18,
          -0.51,
          -0.39,
          0.3,
          4.81,
          3.29,
          -0.2,
          null,
          -0.54,
          0.79,
          1.41,
          0.11,
          null,
          0.36,
          1.46,
          0.33,
          0.15,
          0.48,
          -0.64,
          -0.72,
          -0.23,
          -0.39,
          -0.53,
          1.94,
          0.01,
          -0.66,
          -0.21,
          1.78,
          -0.84,
          2.22,
          0.22,
          2.53,
          -0.61,
          0.31,
          2.16,
          -0.96,
          -0.58,
          -0.5,
          2.3,
          3.97,
          0.31,
          -1.12,
          2.6,
          -0.84,
          0.1,
          2.31,
          0.32,
          -0.34,
          -0.58,
          0.71,
          1.49,
          2.79,
          -0.57,
          1.92,
          2.22,
          1.46,
          -0.37,
          0.1,
          -0.03,
          0.69,
          null,
          2.86,
          -0.8,
          -0.69,
          -0.42,
          -0.37,
          -0.13,
          0.32,
          1.68,
          0.17,
          -0.05,
          1.69,
          2.53,
          1.52
         ],
         "xaxis": "x",
         "y": [
          "Afghanistan",
          "Albania",
          "Algeria",
          "Andorra",
          "Angola",
          "AntiguaandBarbuda",
          "Argentina",
          "Armenia",
          "Australia",
          "Austria",
          "Azerbaijan",
          "TheBahamas",
          "Bahrain",
          "Bangladesh",
          "Barbados",
          "Belarus",
          "Belgium",
          "Belize",
          "Benin",
          "Bhutan",
          "Bolivia",
          "BosniaandHerzegovina",
          "Botswana",
          "Brazil",
          "Brunei",
          "Bulgaria",
          "BurkinaFaso",
          "Burundi",
          "IvoryCoast",
          "CapeVerde",
          "Cambodia",
          "Cameroon",
          "Canada",
          "CentralAfricanRepublic",
          "Chad",
          "Chile",
          "China",
          "Colombia",
          "Comoros",
          "RepublicoftheCongo",
          "CostaRica",
          "Croatia",
          "Cuba",
          "Cyprus",
          "CzechRepublic",
          "DemocraticRepublicoftheCongo",
          "Denmark",
          "Djibouti",
          "Dominica",
          "DominicanRepublic",
          "Ecuador",
          "Egypt",
          "ElSalvador",
          "EquatorialGuinea",
          "Eritrea",
          "Estonia",
          "Eswatini",
          "Ethiopia",
          "Fiji",
          "Finland",
          "France",
          "Gabon",
          "TheGambia",
          "Georgia",
          "Germany",
          "Ghana",
          "Greece",
          "Grenada",
          "Guatemala",
          "Guinea",
          "Guinea-Bissau",
          "Guyana",
          "Haiti",
          "VaticanCity",
          "Honduras",
          "Hungary",
          "Iceland",
          "India",
          "Indonesia",
          "Iran",
          "Iraq",
          "RepublicofIreland",
          "Israel",
          "Italy",
          "Jamaica",
          "Japan",
          "Jordan",
          "Kazakhstan",
          "Kenya",
          "Kiribati",
          "Kuwait",
          "Kyrgyzstan",
          "Laos",
          "Latvia",
          "Lebanon",
          "Lesotho",
          "Liberia",
          "Libya",
          "Liechtenstein",
          "Lithuania",
          "Luxembourg",
          "Madagascar",
          "Malawi",
          "Malaysia",
          "Maldives",
          "Mali",
          "Malta",
          "MarshallIslands",
          "Mauritania",
          "Mauritius",
          "Mexico",
          "FederatedStatesofMicronesia",
          "Moldova",
          "Monaco",
          "Mongolia",
          "Montenegro",
          "Morocco",
          "Mozambique",
          "Myanmar",
          "Namibia",
          "Nauru",
          "Nepal",
          "Netherlands",
          "NewZealand",
          "Nicaragua",
          "Niger",
          "Nigeria",
          "NorthKorea",
          "NorthMacedonia",
          "Norway",
          "Oman",
          "Pakistan",
          "Palau",
          "PalestinianNationalAuthority",
          "Panama",
          "PapuaNewGuinea",
          "Paraguay",
          "Peru",
          "Philippines",
          "Poland",
          "Portugal",
          "Qatar",
          "Romania",
          "Russia",
          "Rwanda",
          "SaintKittsandNevis",
          "SaintLucia",
          "SaintVincentandtheGrenadines",
          "Samoa",
          "SanMarino",
          "SaoTomedanPrincipe",
          "SaudiArabia",
          "Senegal",
          "Serbia",
          "Seychelles",
          "SierraLeone",
          "Singapore",
          "Slovakia",
          "Slovenia",
          "SolomonIslands",
          "Somalia",
          "SouthAfrica",
          "SouthKorea",
          "SouthSudan",
          "Spain",
          "SriLanka",
          "Sudan",
          "Suriname",
          "Sweden",
          "Switzerland",
          "Syria",
          "Tajikistan",
          "Tanzania",
          "Thailand",
          "EastTimor",
          "Togo",
          "Tonga",
          "TrinidadandTobago",
          "Tunisia",
          "Turkey",
          "Turkmenistan",
          "Tuvalu",
          "Uganda",
          "Ukraine",
          "UnitedArabEmirates",
          "UnitedKingdom",
          "UnitedStates",
          "Uruguay",
          "Uzbekistan",
          "Vanuatu",
          "Venezuela",
          "Vietnam",
          "Yemen",
          "Zambia",
          "Zimbabwe"
         ],
         "yaxis": "y"
        }
       ],
       "layout": {
        "barmode": "relative",
        "height": 2600,
        "legend": {
         "tracegroupgap": 0
        },
        "margin": {
         "l": 220,
         "t": 60
        },
        "paper_bgcolor": "rgba(0, 0, 0, 0)",
        "plot_bgcolor": "rgba(0, 0, 0, 0)",
        "template": {
         "data": {
          "pie": [
           {
            "automargin": true,
            "type": "pie"
           }
          ]
         },
         "layout": {
          "xaxis": {
           "showgrid": true,
           "title": {
            "standoff": 15
           }
          },
          "yaxis": {
           "showgrid": true,
           "title": {
            "standoff": 15
           }
          }
         }
        },
        "title": {
         "text": "Indikator Pertumbuhan Populasi Negara"
        },
        "uniformtext": {
         "minsize": 8,
         "mode": "hide"
        },
        "xaxis": {
         "anchor": "y",
         "domain": [
          0,
          1
         ],
         "title": {
          "text": "population_growth_indicator"
         }
        },
        "yaxis": {
         "anchor": "x",
         "domain": [
          0,
          1
         ],
         "title": {
          "text": "Country"
         }
        }
       }
      }
     },
     "metadata": {},
     "output_type": "display_data"
    }
   ],
   "source": [
    "df['population_growth_indicator'] = df[\"Fertility Rate\"] - 2.1\n",
    "df['population_growth_indicator'] = df['population_growth_indicator'].apply(lambda x:float('{:.3g}'.format(x)))\n",
    "\n",
    "# Buat grafik batang\n",
    "fig = px.bar(df, x='population_growth_indicator', y='Country', text='population_growth_indicator', orientation='h')\n",
    "\n",
    "# Set pewarnaan batang dengan nilai positif dan negatif\n",
    "fig.update_traces(marker_color=['#ea4335' if val < 0 else '#4285f4' for val in df['population_growth_indicator']],\n",
    "                  textposition='outside')\n",
    "\n",
    "# Uniform Text\n",
    "fig.update_layout(\n",
    "    uniformtext_minsize=8,\n",
    "    uniformtext_mode='hide',\n",
    "    height=2600,\n",
    "    title=\"Indikator Pertumbuhan Populasi Negara\",\n",
    "    template='gridon',\n",
    "    plot_bgcolor='rgba(0, 0, 0, 0)',\n",
    "    paper_bgcolor='rgba(0, 0, 0, 0)',\n",
    "    margin=dict(l=220)  # Menyesuaikan margin untuk memberikan space lebih\n",
    ")\n",
    "\n",
    "\n",
    "fig.show()"
   ]
  },
  {
   "cell_type": "markdown",
   "id": "d170cd27",
   "metadata": {},
   "source": [
    "Kita dapat menggunakan grafik ini untuk memprediksi negara mana yang akan mengalami pertumbuhan penduduk dalam beberapa dekade mendatang, jika tingkat kesuburannya kurang lebih relatif sama.\n",
    "\n",
    "Namun kita tidak dapat menggunakan grafik ini untuk memprediksi negara mana yang akan menghadapi <b><mark>krisis kelebihan populasi</mark></b> atau <b><mark>krisis kekurangan populasi</mark></b> karena ada faktor lain yang perlu dipertimbangkan. Misalnya, suatu negara mungkin memiliki tingkat kesuburan yang tinggi, namun hal ini tidak berarti negara tersebut akan mengalami krisis kelebihan populasi karena negara tersebut mungkin mempunyai banyak orang lanjut usia yang akan segera meninggal atau negara tersebut mungkin mempunyai lahan yang luas untuk ditinggali. sejumlah besar orang. Dan ini hanyalah salah satu contoh dimana luas lahan atau sebaran umur penduduk menjadi faktor yang perlu dipertimbangkan. Ada lebih banyak faktor yang perlu dipertimbangkan ketika membuat prediksi semacam itu."
   ]
  },
  {
   "cell_type": "code",
   "execution_count": 70,
   "id": "1acd070e",
   "metadata": {},
   "outputs": [
    {
     "data": {
      "application/vnd.plotly.v1+json": {
       "config": {
        "plotlyServerURL": "https://plot.ly"
       },
       "data": [
        {
         "alignmentgroup": "True",
         "hovertemplate": "Country=%{x}<br>Kekuatan Militer=%{marker.color}<extra></extra>",
         "legendgroup": "",
         "marker": {
          "color": [
           3031000,
           2695000,
           1469000,
           1454000,
           1359000,
           936000,
           836000,
           730000,
           676000,
           634000
          ],
          "coloraxis": "coloraxis",
          "pattern": {
           "shape": ""
          }
         },
         "name": "",
         "offsetgroup": "",
         "orientation": "v",
         "showlegend": false,
         "textposition": "auto",
         "type": "bar",
         "x": [
          "India",
          "China",
          "NorthKorea",
          "Russia",
          "UnitedStates",
          "Pakistan",
          "Egypt",
          "Brazil",
          "Indonesia",
          "SouthKorea"
         ],
         "xaxis": "x",
         "y": [
          3031000,
          2695000,
          1469000,
          1454000,
          1359000,
          936000,
          836000,
          730000,
          676000,
          634000
         ],
         "yaxis": "y"
        }
       ],
       "layout": {
        "autosize": false,
        "barmode": "relative",
        "coloraxis": {
         "colorbar": {
          "title": {
           "text": "Kekuatan Militer"
          }
         },
         "colorscale": [
          [
           0,
           "rgb(247,251,255)"
          ],
          [
           0.125,
           "rgb(222,235,247)"
          ],
          [
           0.25,
           "rgb(198,219,239)"
          ],
          [
           0.375,
           "rgb(158,202,225)"
          ],
          [
           0.5,
           "rgb(107,174,214)"
          ],
          [
           0.625,
           "rgb(66,146,198)"
          ],
          [
           0.75,
           "rgb(33,113,181)"
          ],
          [
           0.875,
           "rgb(8,81,156)"
          ],
          [
           1,
           "rgb(8,48,107)"
          ]
         ]
        },
        "height": 600,
        "legend": {
         "tracegroupgap": 0
        },
        "margin": {
         "b": 100,
         "l": 50,
         "pad": 4,
         "r": 50,
         "t": 100
        },
        "paper_bgcolor": "LightSteelBlue",
        "template": {
         "data": {
          "bar": [
           {
            "error_x": {
             "color": "#2a3f5f"
            },
            "error_y": {
             "color": "#2a3f5f"
            },
            "marker": {
             "line": {
              "color": "#E5ECF6",
              "width": 0.5
             },
             "pattern": {
              "fillmode": "overlay",
              "size": 10,
              "solidity": 0.2
             }
            },
            "type": "bar"
           }
          ],
          "barpolar": [
           {
            "marker": {
             "line": {
              "color": "#E5ECF6",
              "width": 0.5
             },
             "pattern": {
              "fillmode": "overlay",
              "size": 10,
              "solidity": 0.2
             }
            },
            "type": "barpolar"
           }
          ],
          "carpet": [
           {
            "aaxis": {
             "endlinecolor": "#2a3f5f",
             "gridcolor": "white",
             "linecolor": "white",
             "minorgridcolor": "white",
             "startlinecolor": "#2a3f5f"
            },
            "baxis": {
             "endlinecolor": "#2a3f5f",
             "gridcolor": "white",
             "linecolor": "white",
             "minorgridcolor": "white",
             "startlinecolor": "#2a3f5f"
            },
            "type": "carpet"
           }
          ],
          "choropleth": [
           {
            "colorbar": {
             "outlinewidth": 0,
             "ticks": ""
            },
            "type": "choropleth"
           }
          ],
          "contour": [
           {
            "colorbar": {
             "outlinewidth": 0,
             "ticks": ""
            },
            "colorscale": [
             [
              0,
              "#0d0887"
             ],
             [
              0.1111111111111111,
              "#46039f"
             ],
             [
              0.2222222222222222,
              "#7201a8"
             ],
             [
              0.3333333333333333,
              "#9c179e"
             ],
             [
              0.4444444444444444,
              "#bd3786"
             ],
             [
              0.5555555555555556,
              "#d8576b"
             ],
             [
              0.6666666666666666,
              "#ed7953"
             ],
             [
              0.7777777777777778,
              "#fb9f3a"
             ],
             [
              0.8888888888888888,
              "#fdca26"
             ],
             [
              1,
              "#f0f921"
             ]
            ],
            "type": "contour"
           }
          ],
          "contourcarpet": [
           {
            "colorbar": {
             "outlinewidth": 0,
             "ticks": ""
            },
            "type": "contourcarpet"
           }
          ],
          "heatmap": [
           {
            "colorbar": {
             "outlinewidth": 0,
             "ticks": ""
            },
            "colorscale": [
             [
              0,
              "#0d0887"
             ],
             [
              0.1111111111111111,
              "#46039f"
             ],
             [
              0.2222222222222222,
              "#7201a8"
             ],
             [
              0.3333333333333333,
              "#9c179e"
             ],
             [
              0.4444444444444444,
              "#bd3786"
             ],
             [
              0.5555555555555556,
              "#d8576b"
             ],
             [
              0.6666666666666666,
              "#ed7953"
             ],
             [
              0.7777777777777778,
              "#fb9f3a"
             ],
             [
              0.8888888888888888,
              "#fdca26"
             ],
             [
              1,
              "#f0f921"
             ]
            ],
            "type": "heatmap"
           }
          ],
          "heatmapgl": [
           {
            "colorbar": {
             "outlinewidth": 0,
             "ticks": ""
            },
            "colorscale": [
             [
              0,
              "#0d0887"
             ],
             [
              0.1111111111111111,
              "#46039f"
             ],
             [
              0.2222222222222222,
              "#7201a8"
             ],
             [
              0.3333333333333333,
              "#9c179e"
             ],
             [
              0.4444444444444444,
              "#bd3786"
             ],
             [
              0.5555555555555556,
              "#d8576b"
             ],
             [
              0.6666666666666666,
              "#ed7953"
             ],
             [
              0.7777777777777778,
              "#fb9f3a"
             ],
             [
              0.8888888888888888,
              "#fdca26"
             ],
             [
              1,
              "#f0f921"
             ]
            ],
            "type": "heatmapgl"
           }
          ],
          "histogram": [
           {
            "marker": {
             "pattern": {
              "fillmode": "overlay",
              "size": 10,
              "solidity": 0.2
             }
            },
            "type": "histogram"
           }
          ],
          "histogram2d": [
           {
            "colorbar": {
             "outlinewidth": 0,
             "ticks": ""
            },
            "colorscale": [
             [
              0,
              "#0d0887"
             ],
             [
              0.1111111111111111,
              "#46039f"
             ],
             [
              0.2222222222222222,
              "#7201a8"
             ],
             [
              0.3333333333333333,
              "#9c179e"
             ],
             [
              0.4444444444444444,
              "#bd3786"
             ],
             [
              0.5555555555555556,
              "#d8576b"
             ],
             [
              0.6666666666666666,
              "#ed7953"
             ],
             [
              0.7777777777777778,
              "#fb9f3a"
             ],
             [
              0.8888888888888888,
              "#fdca26"
             ],
             [
              1,
              "#f0f921"
             ]
            ],
            "type": "histogram2d"
           }
          ],
          "histogram2dcontour": [
           {
            "colorbar": {
             "outlinewidth": 0,
             "ticks": ""
            },
            "colorscale": [
             [
              0,
              "#0d0887"
             ],
             [
              0.1111111111111111,
              "#46039f"
             ],
             [
              0.2222222222222222,
              "#7201a8"
             ],
             [
              0.3333333333333333,
              "#9c179e"
             ],
             [
              0.4444444444444444,
              "#bd3786"
             ],
             [
              0.5555555555555556,
              "#d8576b"
             ],
             [
              0.6666666666666666,
              "#ed7953"
             ],
             [
              0.7777777777777778,
              "#fb9f3a"
             ],
             [
              0.8888888888888888,
              "#fdca26"
             ],
             [
              1,
              "#f0f921"
             ]
            ],
            "type": "histogram2dcontour"
           }
          ],
          "mesh3d": [
           {
            "colorbar": {
             "outlinewidth": 0,
             "ticks": ""
            },
            "type": "mesh3d"
           }
          ],
          "parcoords": [
           {
            "line": {
             "colorbar": {
              "outlinewidth": 0,
              "ticks": ""
             }
            },
            "type": "parcoords"
           }
          ],
          "pie": [
           {
            "automargin": true,
            "type": "pie"
           }
          ],
          "scatter": [
           {
            "fillpattern": {
             "fillmode": "overlay",
             "size": 10,
             "solidity": 0.2
            },
            "type": "scatter"
           }
          ],
          "scatter3d": [
           {
            "line": {
             "colorbar": {
              "outlinewidth": 0,
              "ticks": ""
             }
            },
            "marker": {
             "colorbar": {
              "outlinewidth": 0,
              "ticks": ""
             }
            },
            "type": "scatter3d"
           }
          ],
          "scattercarpet": [
           {
            "marker": {
             "colorbar": {
              "outlinewidth": 0,
              "ticks": ""
             }
            },
            "type": "scattercarpet"
           }
          ],
          "scattergeo": [
           {
            "marker": {
             "colorbar": {
              "outlinewidth": 0,
              "ticks": ""
             }
            },
            "type": "scattergeo"
           }
          ],
          "scattergl": [
           {
            "marker": {
             "colorbar": {
              "outlinewidth": 0,
              "ticks": ""
             }
            },
            "type": "scattergl"
           }
          ],
          "scattermapbox": [
           {
            "marker": {
             "colorbar": {
              "outlinewidth": 0,
              "ticks": ""
             }
            },
            "type": "scattermapbox"
           }
          ],
          "scatterpolar": [
           {
            "marker": {
             "colorbar": {
              "outlinewidth": 0,
              "ticks": ""
             }
            },
            "type": "scatterpolar"
           }
          ],
          "scatterpolargl": [
           {
            "marker": {
             "colorbar": {
              "outlinewidth": 0,
              "ticks": ""
             }
            },
            "type": "scatterpolargl"
           }
          ],
          "scatterternary": [
           {
            "marker": {
             "colorbar": {
              "outlinewidth": 0,
              "ticks": ""
             }
            },
            "type": "scatterternary"
           }
          ],
          "surface": [
           {
            "colorbar": {
             "outlinewidth": 0,
             "ticks": ""
            },
            "colorscale": [
             [
              0,
              "#0d0887"
             ],
             [
              0.1111111111111111,
              "#46039f"
             ],
             [
              0.2222222222222222,
              "#7201a8"
             ],
             [
              0.3333333333333333,
              "#9c179e"
             ],
             [
              0.4444444444444444,
              "#bd3786"
             ],
             [
              0.5555555555555556,
              "#d8576b"
             ],
             [
              0.6666666666666666,
              "#ed7953"
             ],
             [
              0.7777777777777778,
              "#fb9f3a"
             ],
             [
              0.8888888888888888,
              "#fdca26"
             ],
             [
              1,
              "#f0f921"
             ]
            ],
            "type": "surface"
           }
          ],
          "table": [
           {
            "cells": {
             "fill": {
              "color": "#EBF0F8"
             },
             "line": {
              "color": "white"
             }
            },
            "header": {
             "fill": {
              "color": "#C8D4E3"
             },
             "line": {
              "color": "white"
             }
            },
            "type": "table"
           }
          ]
         },
         "layout": {
          "annotationdefaults": {
           "arrowcolor": "#2a3f5f",
           "arrowhead": 0,
           "arrowwidth": 1
          },
          "autotypenumbers": "strict",
          "coloraxis": {
           "colorbar": {
            "outlinewidth": 0,
            "ticks": ""
           }
          },
          "colorscale": {
           "diverging": [
            [
             0,
             "#8e0152"
            ],
            [
             0.1,
             "#c51b7d"
            ],
            [
             0.2,
             "#de77ae"
            ],
            [
             0.3,
             "#f1b6da"
            ],
            [
             0.4,
             "#fde0ef"
            ],
            [
             0.5,
             "#f7f7f7"
            ],
            [
             0.6,
             "#e6f5d0"
            ],
            [
             0.7,
             "#b8e186"
            ],
            [
             0.8,
             "#7fbc41"
            ],
            [
             0.9,
             "#4d9221"
            ],
            [
             1,
             "#276419"
            ]
           ],
           "sequential": [
            [
             0,
             "#0d0887"
            ],
            [
             0.1111111111111111,
             "#46039f"
            ],
            [
             0.2222222222222222,
             "#7201a8"
            ],
            [
             0.3333333333333333,
             "#9c179e"
            ],
            [
             0.4444444444444444,
             "#bd3786"
            ],
            [
             0.5555555555555556,
             "#d8576b"
            ],
            [
             0.6666666666666666,
             "#ed7953"
            ],
            [
             0.7777777777777778,
             "#fb9f3a"
            ],
            [
             0.8888888888888888,
             "#fdca26"
            ],
            [
             1,
             "#f0f921"
            ]
           ],
           "sequentialminus": [
            [
             0,
             "#0d0887"
            ],
            [
             0.1111111111111111,
             "#46039f"
            ],
            [
             0.2222222222222222,
             "#7201a8"
            ],
            [
             0.3333333333333333,
             "#9c179e"
            ],
            [
             0.4444444444444444,
             "#bd3786"
            ],
            [
             0.5555555555555556,
             "#d8576b"
            ],
            [
             0.6666666666666666,
             "#ed7953"
            ],
            [
             0.7777777777777778,
             "#fb9f3a"
            ],
            [
             0.8888888888888888,
             "#fdca26"
            ],
            [
             1,
             "#f0f921"
            ]
           ]
          },
          "colorway": [
           "#636efa",
           "#EF553B",
           "#00cc96",
           "#ab63fa",
           "#FFA15A",
           "#19d3f3",
           "#FF6692",
           "#B6E880",
           "#FF97FF",
           "#FECB52"
          ],
          "font": {
           "color": "#2a3f5f"
          },
          "geo": {
           "bgcolor": "white",
           "lakecolor": "white",
           "landcolor": "#E5ECF6",
           "showlakes": true,
           "showland": true,
           "subunitcolor": "white"
          },
          "hoverlabel": {
           "align": "left"
          },
          "hovermode": "closest",
          "mapbox": {
           "style": "light"
          },
          "paper_bgcolor": "white",
          "plot_bgcolor": "#E5ECF6",
          "polar": {
           "angularaxis": {
            "gridcolor": "white",
            "linecolor": "white",
            "ticks": ""
           },
           "bgcolor": "#E5ECF6",
           "radialaxis": {
            "gridcolor": "white",
            "linecolor": "white",
            "ticks": ""
           }
          },
          "scene": {
           "xaxis": {
            "backgroundcolor": "#E5ECF6",
            "gridcolor": "white",
            "gridwidth": 2,
            "linecolor": "white",
            "showbackground": true,
            "ticks": "",
            "zerolinecolor": "white"
           },
           "yaxis": {
            "backgroundcolor": "#E5ECF6",
            "gridcolor": "white",
            "gridwidth": 2,
            "linecolor": "white",
            "showbackground": true,
            "ticks": "",
            "zerolinecolor": "white"
           },
           "zaxis": {
            "backgroundcolor": "#E5ECF6",
            "gridcolor": "white",
            "gridwidth": 2,
            "linecolor": "white",
            "showbackground": true,
            "ticks": "",
            "zerolinecolor": "white"
           }
          },
          "shapedefaults": {
           "line": {
            "color": "#2a3f5f"
           }
          },
          "ternary": {
           "aaxis": {
            "gridcolor": "white",
            "linecolor": "white",
            "ticks": ""
           },
           "baxis": {
            "gridcolor": "white",
            "linecolor": "white",
            "ticks": ""
           },
           "bgcolor": "#E5ECF6",
           "caxis": {
            "gridcolor": "white",
            "linecolor": "white",
            "ticks": ""
           }
          },
          "title": {
           "x": 0.05
          },
          "xaxis": {
           "automargin": true,
           "gridcolor": "white",
           "linecolor": "white",
           "ticks": "",
           "title": {
            "standoff": 15
           },
           "zerolinecolor": "white",
           "zerolinewidth": 2
          },
          "yaxis": {
           "automargin": true,
           "gridcolor": "white",
           "linecolor": "white",
           "ticks": "",
           "title": {
            "standoff": 15
           },
           "zerolinecolor": "white",
           "zerolinewidth": 2
          }
         }
        },
        "title": {
         "text": "Top 10 Negara dengan Kekuatan Militer Terbesar"
        },
        "width": 800,
        "xaxis": {
         "anchor": "y",
         "domain": [
          0,
          1
         ],
         "title": {
          "text": "Negara"
         }
        },
        "yaxis": {
         "anchor": "x",
         "domain": [
          0,
          1
         ],
         "title": {
          "text": "Kekuatan Militer"
         }
        }
       }
      }
     },
     "metadata": {},
     "output_type": "display_data"
    }
   ],
   "source": [
    "import plotly.express as px\n",
    "\n",
    "# Ubah kolom 'Armed Forces size' menjadi tipe data numerik\n",
    "df['Kekuatan Militer'] = df['Armed Forces size'].apply(lambda x: str(x).replace(',', '') if pd.notnull(x) else np.nan).astype(float)\n",
    "\n",
    "# Urutkan DataFrame berdasarkan 'Kekuatan Militer' dan ambil 10 baris teratas\n",
    "top10 = df.sort_values('Kekuatan Militer', ascending=False).head(10)\n",
    "\n",
    "# Buat grafik batang\n",
    "fig = px.bar(top10, x='Country', y='Kekuatan Militer', title='Top 10 Negara dengan Kekuatan Militer Terbesar',\n",
    "             color='Kekuatan Militer', color_continuous_scale='Blues')\n",
    "\n",
    "# Tambahkan label pada sumbu\n",
    "fig.update_xaxes(title_text='Negara')\n",
    "fig.update_yaxes(title_text='Kekuatan Militer')\n",
    "\n",
    "# Atur layout\n",
    "fig.update_layout(\n",
    "    autosize=False,\n",
    "    width=800,\n",
    "    height=600,\n",
    "    margin=dict(l=50, r=50, b=100, t=100, pad=4),\n",
    "    paper_bgcolor=\"LightSteelBlue\",\n",
    ")\n",
    "\n",
    "# Tampilkan grafik\n",
    "fig.show()\n"
   ]
  },
  {
   "cell_type": "markdown",
   "id": "4aae0f40",
   "metadata": {
    "papermill": {
     "duration": 0.01296,
     "end_time": "2023-08-28T11:18:49.682962",
     "exception": false,
     "start_time": "2023-08-28T11:18:49.670002",
     "status": "completed"
    },
    "tags": []
   },
   "source": [
    "**Kekuatan Militer**\n",
    "\n",
    "Data diatas menunjukkan kekuatan militer terbesar di Bumi. Namun grafik diatas menunjukkan kekuatan berdasarkan jumlah personil militer dan bukan kekuatan yang sebenarnya. Ada banyak faktor seperti riset militer yang juga berkaitan dengan bidang pendidikan suatu negara seperti misil, kekuatan siber, dan nuklir sebagai senjata pemusnah massal. Kekuatan militer ini cukup penting untuk disinggung dikarenakan situasi geopolitik dunia yang saat ini sedang tidak stabil dan dapat terjun ke situasi yang sangat buruk disaat yang cepat."
   ]
  },
  {
   "cell_type": "markdown",
   "id": "a1514a9f",
   "metadata": {
    "papermill": {
     "duration": 0.013304,
     "end_time": "2023-08-28T11:18:49.709342",
     "exception": false,
     "start_time": "2023-08-28T11:18:49.696038",
     "status": "completed"
    },
    "tags": []
   },
   "source": [
    "***PENUTUPAN***\n",
    "\n",
    "Cukup sekian penjelasan dari dataset yang kami miliki, kami masih belum membahas lengkap isi dari dataset ini seperti :\n",
    "\n",
    "- Harga minyak\n",
    "- Pendapatan pajak\n",
    "- Emisi CO2\n",
    "\n",
    "Thanks for listening and reading this with us. Thank you, minna-san!"
   ]
  }
 ],
 "metadata": {
  "kernelspec": {
   "display_name": "Python 3",
   "language": "python",
   "name": "python3"
  },
  "language_info": {
   "codemirror_mode": {
    "name": "ipython",
    "version": 3
   },
   "file_extension": ".py",
   "mimetype": "text/x-python",
   "name": "python",
   "nbconvert_exporter": "python",
   "pygments_lexer": "ipython3",
   "version": "3.12.0"
  },
  "papermill": {
   "default_parameters": {},
   "duration": 19.673702,
   "end_time": "2023-08-28T11:18:50.945848",
   "environment_variables": {},
   "exception": null,
   "input_path": "__notebook__.ipynb",
   "output_path": "__notebook__.ipynb",
   "parameters": {},
   "start_time": "2023-08-28T11:18:31.272146",
   "version": "2.4.0"
  }
 },
 "nbformat": 4,
 "nbformat_minor": 5
}
